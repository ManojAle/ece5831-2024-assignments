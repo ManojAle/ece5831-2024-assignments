{
 "cells": [
  {
   "cell_type": "markdown",
   "metadata": {},
   "source": [
    "### Experiments"
   ]
  },
  {
   "cell_type": "code",
   "execution_count": 22,
   "metadata": {},
   "outputs": [
    {
     "data": {
      "text/plain": [
       "0.025000000000000022"
      ]
     },
     "execution_count": 22,
     "metadata": {},
     "output_type": "execute_result"
    }
   ],
   "source": [
    "import numpy as np\n",
    "def mean_squared_error(y_hat, y):\n",
    "    return np.sum((y_hat - y)**2)/y.size\n",
    "y      = np.array([1,   2,   3,    4])\n",
    "y_hat1 = np.array([1.2, 1.9, 2.9,  4.2]) \n",
    "mean_squared_error(y_hat1, y)"
   ]
  },
  {
   "cell_type": "code",
   "execution_count": 23,
   "metadata": {},
   "outputs": [
    {
     "data": {
      "text/plain": [
       "1.0250000000000004"
      ]
     },
     "execution_count": 23,
     "metadata": {},
     "output_type": "execute_result"
    }
   ],
   "source": [
    "y_hat2 = np.array([2.2, 0.9, 2.9,  5.2]) \n",
    "mean_squared_error(y_hat2, y)"
   ]
  },
  {
   "cell_type": "code",
   "execution_count": 24,
   "metadata": {},
   "outputs": [],
   "source": [
    "def cross_entropy_error(y_hat, y):\n",
    "    return -np.sum(y*np.log(y_hat + 1e-7))"
   ]
  },
  {
   "cell_type": "code",
   "execution_count": 25,
   "metadata": {},
   "outputs": [],
   "source": [
    "y = np.array([0, 1, 0, 0, 0])"
   ]
  },
  {
   "cell_type": "code",
   "execution_count": 26,
   "metadata": {},
   "outputs": [],
   "source": [
    "y_hat1 = np.array([0.1, 0.7, 0.1, 0.1, 0])"
   ]
  },
  {
   "cell_type": "code",
   "execution_count": 27,
   "metadata": {},
   "outputs": [
    {
     "data": {
      "text/plain": [
       "0.3566748010815999"
      ]
     },
     "execution_count": 27,
     "metadata": {},
     "output_type": "execute_result"
    }
   ],
   "source": [
    "cross_entropy_error(y_hat1, y)"
   ]
  },
  {
   "cell_type": "code",
   "execution_count": 28,
   "metadata": {},
   "outputs": [],
   "source": [
    "y_hat2 = np.array([0.7, 0.05, 0.05, 0.2, 0])"
   ]
  },
  {
   "cell_type": "code",
   "execution_count": 29,
   "metadata": {},
   "outputs": [
    {
     "data": {
      "text/plain": [
       "2.9957302735559908"
      ]
     },
     "execution_count": 29,
     "metadata": {},
     "output_type": "execute_result"
    }
   ],
   "source": [
    "\n",
    "cross_entropy_error(y_hat2, y)"
   ]
  },
  {
   "cell_type": "markdown",
   "metadata": {},
   "source": [
    "### Loading Images Test"
   ]
  },
  {
   "cell_type": "code",
   "execution_count": 30,
   "metadata": {},
   "outputs": [
    {
     "name": "stdout",
     "output_type": "stream",
     "text": [
      "File: train-images-idx3-ubyte.gz already exists.\n",
      "File: train-labels-idx1-ubyte.gz already exists.\n",
      "File: t10k-images-idx3-ubyte.gz already exists.\n",
      "File: t10k-labels-idx1-ubyte.gz already exists.\n",
      "Pickle: dataset/mnist.pkl already exists.\n",
      "Loading...\n",
      "Done.\n"
     ]
    }
   ],
   "source": [
    "from mnist_data import MnistData\n",
    "mnist = MnistData()"
   ]
  },
  {
   "cell_type": "code",
   "execution_count": 32,
   "metadata": {},
   "outputs": [],
   "source": [
    "(train_images, train_labels), (_, _) = mnist.load()"
   ]
  },
  {
   "cell_type": "code",
   "execution_count": 33,
   "metadata": {},
   "outputs": [],
   "source": [
    "train_size = train_images.shape[0]\n",
    "batch_size = 32"
   ]
  },
  {
   "cell_type": "code",
   "execution_count": 34,
   "metadata": {},
   "outputs": [
    {
     "name": "stdout",
     "output_type": "stream",
     "text": [
      "[42844 12746 47492 14420 38117 54256 20394  1405 11481 11444 21665 33985\n",
      " 18738 58393 52112 28536 47300 47825 17729 20181  4027  2702 14678 11136\n",
      " 49288 55669 15881 46510 22302 16091  6683 12000]\n"
     ]
    }
   ],
   "source": [
    "batch_mask = np.random.choice(train_size, batch_size)\n",
    "print(batch_mask)"
   ]
  },
  {
   "cell_type": "code",
   "execution_count": 35,
   "metadata": {},
   "outputs": [
    {
     "data": {
      "text/plain": [
       "60000"
      ]
     },
     "execution_count": 35,
     "metadata": {},
     "output_type": "execute_result"
    }
   ],
   "source": [
    "train_size"
   ]
  },
  {
   "cell_type": "code",
   "execution_count": 36,
   "metadata": {},
   "outputs": [],
   "source": [
    "# for mini-batch training.\n",
    "def cross_entropy_error(y_hat, y):\n",
    "    batch_size = 1 if y_hat.ndim == 1 else y_hat.shape[0]\n",
    "    return -np.sum(y*np.log(y_hat + 1e-7))/batch_size"
   ]
  },
  {
   "cell_type": "code",
   "execution_count": 37,
   "metadata": {},
   "outputs": [],
   "source": [
    "y_hat_batch = np.array([ [0.2, 0.2, 0.3, 0.1, 0.2], [0.1, 0.1, 0.1, 0.1, 0.6]])\n",
    "y_batch =     np.array([ [0,   0,   1,   0,    0],   [0,   0,   0,   0,   1]])"
   ]
  },
  {
   "cell_type": "code",
   "execution_count": 38,
   "metadata": {},
   "outputs": [
    {
     "data": {
      "text/plain": [
       "0.8573989640459981"
      ]
     },
     "execution_count": 38,
     "metadata": {},
     "output_type": "execute_result"
    }
   ],
   "source": [
    "\n",
    "cross_entropy_error(y_hat_batch, y_batch)"
   ]
  },
  {
   "cell_type": "code",
   "execution_count": 39,
   "metadata": {},
   "outputs": [],
   "source": [
    "\n",
    "def numerical_diff(f, x):\n",
    "    h = 10e-50\n",
    "    return (f(x + h) - f(x))/h"
   ]
  },
  {
   "cell_type": "code",
   "execution_count": 40,
   "metadata": {},
   "outputs": [],
   "source": [
    "def func(x):\n",
    "    return x**2 + 0.1*x"
   ]
  },
  {
   "cell_type": "code",
   "execution_count": 41,
   "metadata": {},
   "outputs": [
    {
     "data": {
      "text/plain": [
       "0.0"
      ]
     },
     "execution_count": 41,
     "metadata": {},
     "output_type": "execute_result"
    }
   ],
   "source": [
    "\n",
    "numerical_diff(func, 0.8)"
   ]
  },
  {
   "cell_type": "code",
   "execution_count": 42,
   "metadata": {},
   "outputs": [],
   "source": [
    "# more reasonable approximation\n",
    "def numerical_diff(f, x):\n",
    "    h = 1e-4\n",
    "    return (f(x + h) - f(x - h))/(2*h)"
   ]
  },
  {
   "cell_type": "code",
   "execution_count": 44,
   "metadata": {},
   "outputs": [
    {
     "data": {
      "text/plain": [
       "1.4999999999998348"
      ]
     },
     "execution_count": 44,
     "metadata": {},
     "output_type": "execute_result"
    }
   ],
   "source": [
    "numerical_diff(func, 0.7)"
   ]
  },
  {
   "cell_type": "code",
   "execution_count": 45,
   "metadata": {},
   "outputs": [
    {
     "data": {
      "text/plain": [
       "0.6999999999998674"
      ]
     },
     "execution_count": 45,
     "metadata": {},
     "output_type": "execute_result"
    }
   ],
   "source": [
    "\n",
    "numerical_diff(func, 0.3)"
   ]
  },
  {
   "cell_type": "code",
   "execution_count": 46,
   "metadata": {},
   "outputs": [],
   "source": [
    "def func(x):\n",
    "    return x[0]**2 + x[1]**2\n",
    "\n",
    "def func_tmp1(x0):\n",
    "    return x0**2 + 4.0**2"
   ]
  },
  {
   "cell_type": "code",
   "execution_count": 47,
   "metadata": {},
   "outputs": [
    {
     "data": {
      "text/plain": [
       "6.400000000006401"
      ]
     },
     "execution_count": 47,
     "metadata": {},
     "output_type": "execute_result"
    }
   ],
   "source": [
    "\n",
    "numerical_diff(func_tmp1, 3.2)"
   ]
  },
  {
   "cell_type": "code",
   "execution_count": 48,
   "metadata": {},
   "outputs": [],
   "source": [
    "\n",
    "def func_tmp2(x1):\n",
    "    return 3.0**2 + x1**2"
   ]
  },
  {
   "cell_type": "code",
   "execution_count": 49,
   "metadata": {},
   "outputs": [
    {
     "data": {
      "text/plain": [
       "8.999999999979025"
      ]
     },
     "execution_count": 49,
     "metadata": {},
     "output_type": "execute_result"
    }
   ],
   "source": [
    "numerical_diff(func_tmp2, 4.5)"
   ]
  },
  {
   "cell_type": "markdown",
   "metadata": {},
   "source": [
    "### Numerical Gradient"
   ]
  },
  {
   "cell_type": "code",
   "execution_count": 50,
   "metadata": {},
   "outputs": [],
   "source": [
    "def func2(x):\n",
    "    return x[0]**2 + x[1]**2\n",
    "def func_tmp1(x0):\n",
    "    return x0**2 + 4**2\n",
    "\n",
    "def func_tmp2(x1):\n",
    "    return 3**2 + x1**2\n",
    "\n",
    "def _numerical_diff(f, x):\n",
    "    h = 1e-4\n",
    "    return (f(x + h) - f(x - h))/(2*h)"
   ]
  },
  {
   "cell_type": "code",
   "execution_count": 51,
   "metadata": {},
   "outputs": [],
   "source": [
    "def _numerical_gradient(f, x):\n",
    "    h = 1e-4 # 0.0001\n",
    "    grad = np.zeros_like(x) \n",
    "    \n",
    "    for idx in range(x.size):\n",
    "        tmp_val = x[idx]\n",
    "        \n",
    "        # f(x+h) \n",
    "        x[idx] = float(tmp_val) + h\n",
    "        fxh1 = f(x)\n",
    "        \n",
    "        # f(x-h) \n",
    "        x[idx] = tmp_val - h \n",
    "        fxh2 = f(x) \n",
    "        \n",
    "        grad[idx] = (fxh1 - fxh2) / (2*h)\n",
    "        x[idx] = tmp_val \n",
    "        \n",
    "    return grad"
   ]
  },
  {
   "cell_type": "code",
   "execution_count": 52,
   "metadata": {},
   "outputs": [
    {
     "data": {
      "text/plain": [
       "7.000000000019213"
      ]
     },
     "execution_count": 52,
     "metadata": {},
     "output_type": "execute_result"
    }
   ],
   "source": [
    "\n",
    "_numerical_diff(func_tmp1, 3.5)"
   ]
  },
  {
   "cell_type": "code",
   "execution_count": 53,
   "metadata": {},
   "outputs": [
    {
     "data": {
      "text/plain": [
       "8.999999999979025"
      ]
     },
     "execution_count": 53,
     "metadata": {},
     "output_type": "execute_result"
    }
   ],
   "source": [
    "_numerical_diff(func_tmp2, 4.5)"
   ]
  },
  {
   "cell_type": "code",
   "execution_count": 54,
   "metadata": {},
   "outputs": [
    {
     "data": {
      "text/plain": [
       "array([7., 9.])"
      ]
     },
     "execution_count": 54,
     "metadata": {},
     "output_type": "execute_result"
    }
   ],
   "source": [
    "_numerical_gradient(func2, np.array([3.5, 4.5]))"
   ]
  },
  {
   "cell_type": "code",
   "execution_count": 55,
   "metadata": {},
   "outputs": [],
   "source": [
    "def gradient_descent(f, init_x, lr=0.1, step_num = 100):\n",
    "    x = init_x\n",
    "    for i in range(step_num):\n",
    "        grad = _numerical_gradient(f, x)\n",
    "        x -= lr*grad  # x = x - lr*grad\n",
    "\n",
    "    return x"
   ]
  },
  {
   "cell_type": "code",
   "execution_count": 56,
   "metadata": {},
   "outputs": [
    {
     "data": {
      "text/plain": [
       "array([5.65680105e-06, 2.02028609e-06])"
      ]
     },
     "execution_count": 56,
     "metadata": {},
     "output_type": "execute_result"
    }
   ],
   "source": [
    "init_x = np.array([2800.0, 1000.0])\n",
    "# func2 = x0**2 + x1**2\n",
    "gradient_descent(func2, init_x, step_num=10000, lr=0.001)"
   ]
  },
  {
   "cell_type": "code",
   "execution_count": 57,
   "metadata": {},
   "outputs": [],
   "source": [
    "class SimpleNet:\n",
    "    def __init__(self):\n",
    "        self.w = np.random.randn(2, 3)\n",
    "\n",
    "\n",
    "    # for multi-dimensional x\n",
    "    def softmax(self, x):\n",
    "        if x.ndim == 2:\n",
    "            x = x.T\n",
    "            x = x - np.max(x, axis=0)\n",
    "            y = np.exp(x) / np.sum(np.exp(x), axis=0)\n",
    "            return y.T \n",
    "\n",
    "        x = x - np.max(x)  \n",
    "        return np.exp(x) / np.sum(np.exp(x))\n",
    "\n",
    "\n",
    "    def cross_entroy_error(self, y, t):\n",
    "        delta = 1e-7\n",
    "        batch_size = 1 if y.ndim == 1 else y.shape[0]\n",
    "\n",
    "        return -np.sum(t*np.log(y + delta)) / batch_size\n",
    "\n",
    "\n",
    "    # for multi-dimensional x\n",
    "    def numerical_gradient(self, f, x):\n",
    "        h = 1e-4 # 0.0001\n",
    "        grad = np.zeros_like(x)\n",
    "        \n",
    "        it = np.nditer(x, flags=['multi_index'], op_flags=['readwrite'])\n",
    "        while not it.finished:\n",
    "            idx = it.multi_index\n",
    "            tmp_val = x[idx]\n",
    "            x[idx] = float(tmp_val) + h\n",
    "            fxh1 = f(x) # f(x+h)\n",
    "            \n",
    "            x[idx] = tmp_val - h \n",
    "            fxh2 = f(x) # f(x-h)\n",
    "            grad[idx] = (fxh1 - fxh2) / (2*h)\n",
    "            \n",
    "            x[idx] = tmp_val \n",
    "            it.iternext()   \n",
    "            \n",
    "        return grad\n",
    "\n",
    "\n",
    "    def predict(self, x):\n",
    "        return np.dot(x, self.w)\n",
    "    \n",
    "\n",
    "    def loss(self, x, y):\n",
    "        z = self.predict(x)\n",
    "        y_hat = self.softmax(z)\n",
    "        loss = self.cross_entroy_error(y_hat, y)\n",
    "\n",
    "        return loss"
   ]
  },
  {
   "cell_type": "code",
   "execution_count": 58,
   "metadata": {},
   "outputs": [
    {
     "name": "stdout",
     "output_type": "stream",
     "text": [
      "[[ 0.47497506  0.63851564  0.72884852]\n",
      " [-0.3063103  -0.84368323 -1.2840541 ]]\n"
     ]
    }
   ],
   "source": [
    "# let's test SimpleNet\n",
    "net = SimpleNet()\n",
    "print(net.w)"
   ]
  },
  {
   "cell_type": "code",
   "execution_count": 59,
   "metadata": {},
   "outputs": [
    {
     "name": "stdout",
     "output_type": "stream",
     "text": [
      "[0.27428359 0.28666114 0.26622369]\n"
     ]
    }
   ],
   "source": [
    "x = np.array([0.7, 0.19])\n",
    "p = net.predict(x)\n",
    "print(p)"
   ]
  },
  {
   "cell_type": "code",
   "execution_count": 60,
   "metadata": {},
   "outputs": [
    {
     "data": {
      "text/plain": [
       "1"
      ]
     },
     "execution_count": 60,
     "metadata": {},
     "output_type": "execute_result"
    }
   ],
   "source": [
    "np.argmax(p)"
   ]
  },
  {
   "cell_type": "code",
   "execution_count": 61,
   "metadata": {},
   "outputs": [
    {
     "data": {
      "text/plain": [
       "1.0877090088883428"
      ]
     },
     "execution_count": 61,
     "metadata": {},
     "output_type": "execute_result"
    }
   ],
   "source": [
    "y = np.array([0, 1, 0])\n",
    "net.loss(x, y)"
   ]
  },
  {
   "cell_type": "code",
   "execution_count": 62,
   "metadata": {},
   "outputs": [
    {
     "data": {
      "text/plain": [
       "1.1081464528393872"
      ]
     },
     "execution_count": 62,
     "metadata": {},
     "output_type": "execute_result"
    }
   ],
   "source": [
    "y = np.array([0, 0, 1])\n",
    "net.loss(x, y)"
   ]
  },
  {
   "cell_type": "code",
   "execution_count": 63,
   "metadata": {},
   "outputs": [],
   "source": [
    "def loss_function(w):\n",
    "    return net.loss(x, y)"
   ]
  },
  {
   "cell_type": "code",
   "execution_count": 64,
   "metadata": {},
   "outputs": [
    {
     "name": "stdout",
     "output_type": "stream",
     "text": [
      "[[ 0.23298945  0.23589121 -0.46888066]\n",
      " [ 0.06323999  0.06402761 -0.12726761]]\n"
     ]
    }
   ],
   "source": [
    "dw = net.numerical_gradient(loss_function, net.w)\n",
    "print(dw)"
   ]
  },
  {
   "cell_type": "code",
   "execution_count": 65,
   "metadata": {},
   "outputs": [],
   "source": [
    "# using lamda\n",
    "loss_function = lambda w: net.loss(x, y)"
   ]
  },
  {
   "cell_type": "code",
   "execution_count": 66,
   "metadata": {},
   "outputs": [
    {
     "name": "stdout",
     "output_type": "stream",
     "text": [
      "[[ 0.23298945  0.23589121 -0.46888066]\n",
      " [ 0.06323999  0.06402761 -0.12726761]]\n"
     ]
    }
   ],
   "source": [
    "dw = net.numerical_gradient(loss_function, net.w)\n",
    "print(dw)"
   ]
  },
  {
   "cell_type": "markdown",
   "metadata": {},
   "source": [
    "### TwoLayerNet Class Testing"
   ]
  },
  {
   "cell_type": "code",
   "execution_count": 68,
   "metadata": {},
   "outputs": [],
   "source": [
    "class Activations:\n",
    "    def sigmoid(self, x):\n",
    "        return 1/(1 + np.exp(-x))\n",
    "    \n",
    "    # for multi-dimensional x\n",
    "    def softmax(self, x):\n",
    "        if x.ndim == 2:\n",
    "            x = x.T\n",
    "            x = x - np.max(x, axis=0)\n",
    "            y = np.exp(x) / np.sum(np.exp(x), axis=0)\n",
    "            return y.T \n",
    "\n",
    "        x = x - np.max(x)  \n",
    "        return np.exp(x) / np.sum(np.exp(x))"
   ]
  },
  {
   "cell_type": "code",
   "execution_count": 69,
   "metadata": {},
   "outputs": [],
   "source": [
    "class Errors:\n",
    "    def cross_entroy_error(self, y, t):\n",
    "        delta = 1e-7\n",
    "        batch_size = 1 if y.ndim == 1 else y.shape[0]\n",
    "\n",
    "        return -np.sum(t*np.log(y + delta)) / batch_size"
   ]
  },
  {
   "cell_type": "code",
   "execution_count": 70,
   "metadata": {},
   "outputs": [],
   "source": [
    "import activations\n",
    "import errors\n",
    "class TwoLayerNet:\n",
    "    def __init__(self, input_size, hidden_size, output_size, weight_init_std=0.01):\n",
    "        self.params = {}\n",
    "\n",
    "        self.params['w1'] = weight_init_std*np.random.randn(input_size, hidden_size)\n",
    "        self.params['b1'] = np.zeros(hidden_size)\n",
    "\n",
    "        self.params['w2'] = weight_init_std*np.random.randn(hidden_size, output_size)\n",
    "        self.params['b2'] = np.zeros(output_size)\n",
    "\n",
    "        self.activations = activations.Activations()\n",
    "        self.errors = errors.Errors()\n",
    "\n",
    "    def predict(self, x):\n",
    "        w1, w2 = self.params['w1'], self.params['w2']\n",
    "        b1, b2 = self.params['b1'], self.params['b2']\n",
    "        \n",
    "        a1 = np.dot(x, w1) + b1\n",
    "        z1 = self.activations.sigmoid(a1)\n",
    "        a2 = np.dot(z1, w2) + b2\n",
    "        y = self.activations.softmax(a2)\n",
    "\n",
    "        return y\n",
    "    \n",
    "    def loss(self, x, y):\n",
    "        y_hat = self.predict(x)\n",
    "\n",
    "        return self.errors.cross_entropy_error(y_hat, y)\n",
    "    \n",
    "\n",
    "    def accuracy(self, x, y):\n",
    "        y_hat = self.predict(x)\n",
    "        p = np.argmax(y_hat, axis=1)\n",
    "        y_p = np.argmax(y, axis=1)\n",
    "\n",
    "        return np.sum(p == y_p)/float(x.shape[0])\n",
    "    \n",
    "\n",
    "    # for multi-dimensional x\n",
    "    def _numerical_gradient(self, f, x):\n",
    "        h = 1e-4 # 0.0001\n",
    "        grad = np.zeros_like(x)\n",
    "        \n",
    "        it = np.nditer(x, flags=['multi_index'], op_flags=['readwrite'])\n",
    "        while not it.finished:\n",
    "            idx = it.multi_index\n",
    "            tmp_val = x[idx]\n",
    "            x[idx] = float(tmp_val) + h\n",
    "            fxh1 = f(x) # f(x+h)\n",
    "            \n",
    "            x[idx] = tmp_val - h \n",
    "            fxh2 = f(x) # f(x-h)\n",
    "            grad[idx] = (fxh1 - fxh2) / (2*h)\n",
    "            \n",
    "            x[idx] = tmp_val \n",
    "            it.iternext()   \n",
    "            \n",
    "        return grad\n",
    "    \n",
    "\n",
    "    def numerical_gradient(self, x, y):\n",
    "        loss_w = lambda w: self.loss(x, y)\n",
    "\n",
    "        grads = {}\n",
    "        grads['w1'] = self._numerical_gradient(loss_w, self.params['w1'])\n",
    "        grads['b1'] = self._numerical_gradient(loss_w, self.params['b1'])\n",
    "        grads['w2'] = self._numerical_gradient(loss_w, self.params['w2'])\n",
    "        grads['b2'] = self._numerical_gradient(loss_w, self.params['b2'])\n",
    "\n",
    "        return grads"
   ]
  },
  {
   "cell_type": "code",
   "execution_count": 73,
   "metadata": {},
   "outputs": [
    {
     "name": "stdout",
     "output_type": "stream",
     "text": [
      "File: train-images-idx3-ubyte.gz already exists.\n",
      "File: train-labels-idx1-ubyte.gz already exists.\n",
      "File: t10k-images-idx3-ubyte.gz already exists.\n",
      "File: t10k-labels-idx1-ubyte.gz already exists.\n",
      "Pickle: dataset/mnist.pkl already exists.\n",
      "Loading...\n",
      "Done.\n"
     ]
    }
   ],
   "source": [
    "import matplotlib.pyplot as plt\n",
    "import numpy as np\n",
    "mnist = MnistData()\n",
    "(x_train, y_train), (x_test, y_test) = mnist.load()"
   ]
  },
  {
   "cell_type": "code",
   "execution_count": 74,
   "metadata": {},
   "outputs": [
    {
     "name": "stdout",
     "output_type": "stream",
     "text": [
      "(60000, 784)\n",
      "(60000, 10)\n",
      "(10000, 784)\n",
      "(10000, 10)\n"
     ]
    }
   ],
   "source": [
    "print(x_train.shape)\n",
    "print(y_train.shape)\n",
    "print(x_test.shape)\n",
    "print(y_test.shape)"
   ]
  },
  {
   "cell_type": "code",
   "execution_count": 75,
   "metadata": {},
   "outputs": [],
   "source": [
    "network = TwoLayerNet(input_size=28*28, hidden_size=100, output_size=10)"
   ]
  },
  {
   "cell_type": "code",
   "execution_count": 76,
   "metadata": {},
   "outputs": [
    {
     "data": {
      "text/plain": [
       "{'w1': array([[ 0.00143441,  0.00477416,  0.00622925, ..., -0.00722092,\n",
       "          0.01323175,  0.00127756],\n",
       "        [ 0.01635436,  0.00837469, -0.01197808, ...,  0.00232153,\n",
       "         -0.01008135, -0.02898412],\n",
       "        [-0.01255774,  0.00486249,  0.01039424, ..., -0.01361148,\n",
       "         -0.00230276,  0.00297516],\n",
       "        ...,\n",
       "        [-0.01071607,  0.01447168,  0.00696201, ..., -0.00287395,\n",
       "          0.00062885, -0.00383038],\n",
       "        [ 0.01545768, -0.00958911,  0.02231594, ...,  0.00184225,\n",
       "          0.00276515,  0.01210025],\n",
       "        [-0.00425176,  0.00368626,  0.01616197, ...,  0.0147337 ,\n",
       "          0.00545973,  0.0199155 ]]),\n",
       " 'b1': array([0., 0., 0., 0., 0., 0., 0., 0., 0., 0., 0., 0., 0., 0., 0., 0., 0.,\n",
       "        0., 0., 0., 0., 0., 0., 0., 0., 0., 0., 0., 0., 0., 0., 0., 0., 0.,\n",
       "        0., 0., 0., 0., 0., 0., 0., 0., 0., 0., 0., 0., 0., 0., 0., 0., 0.,\n",
       "        0., 0., 0., 0., 0., 0., 0., 0., 0., 0., 0., 0., 0., 0., 0., 0., 0.,\n",
       "        0., 0., 0., 0., 0., 0., 0., 0., 0., 0., 0., 0., 0., 0., 0., 0., 0.,\n",
       "        0., 0., 0., 0., 0., 0., 0., 0., 0., 0., 0., 0., 0., 0., 0.]),\n",
       " 'w2': array([[-1.16511506e-02,  8.54778599e-03,  1.12521343e-02,\n",
       "         -9.32730110e-03,  5.68734332e-03,  7.75824016e-04,\n",
       "          2.49140496e-02,  1.90243670e-02, -1.19721651e-02,\n",
       "          1.38708458e-02],\n",
       "        [ 6.93142173e-03, -8.61835351e-03,  1.00582151e-02,\n",
       "         -2.08569469e-03, -9.91748895e-03, -6.19519008e-03,\n",
       "          1.24535214e-03,  1.86564696e-02,  1.60510197e-03,\n",
       "          1.20804726e-03],\n",
       "        [ 9.01314855e-03,  1.95387971e-02,  8.61167280e-03,\n",
       "         -2.30105469e-03,  7.47544153e-04, -7.81424835e-03,\n",
       "          3.14293303e-03,  1.86611121e-02, -5.81933211e-03,\n",
       "         -1.77719513e-02],\n",
       "        [ 1.41272106e-02,  1.42933734e-02, -4.00047354e-03,\n",
       "          9.56561085e-03, -4.48339536e-03,  7.82304739e-04,\n",
       "          6.24633756e-03,  4.50920404e-03,  9.66982205e-03,\n",
       "          7.57209064e-04],\n",
       "        [ 4.66575771e-03,  5.32737803e-03, -2.87176111e-02,\n",
       "          4.11002795e-03, -1.34702332e-02, -1.12707467e-03,\n",
       "          6.21019022e-03, -1.79068898e-03,  3.94375348e-03,\n",
       "         -2.12081170e-02],\n",
       "        [-8.72042362e-03,  1.02272125e-02,  1.03804397e-02,\n",
       "          4.14174254e-04, -2.13899400e-02, -1.69943161e-02,\n",
       "          5.51337186e-03,  1.39129532e-02,  2.65331224e-03,\n",
       "         -2.32102448e-04],\n",
       "        [-1.87978459e-02, -8.85881129e-04,  2.23907445e-02,\n",
       "          1.51611923e-02, -7.34787527e-03,  2.51230126e-03,\n",
       "         -1.96126866e-02, -6.64579467e-05,  1.77543382e-02,\n",
       "         -2.96022621e-03],\n",
       "        [ 2.07514723e-02, -6.18089977e-03,  8.45748853e-03,\n",
       "          6.61567857e-03,  8.42410596e-04,  7.55834568e-04,\n",
       "          1.95898990e-02,  3.13558242e-03,  3.42478064e-03,\n",
       "         -2.83758775e-03],\n",
       "        [ 6.91073257e-03,  1.29895861e-03, -1.84821936e-02,\n",
       "         -9.98053139e-03,  5.47644631e-03, -5.47997410e-03,\n",
       "          3.52136559e-05,  8.93704622e-03,  6.71695396e-04,\n",
       "         -1.13734828e-04],\n",
       "        [-3.00764647e-02,  8.72600526e-03, -3.74590692e-03,\n",
       "         -9.88108997e-03,  4.80775074e-03, -1.34212935e-02,\n",
       "          2.10742667e-03, -1.07194318e-02,  2.26099069e-02,\n",
       "         -1.44526313e-03],\n",
       "        [ 2.01859185e-03, -2.72862841e-04, -1.91234449e-03,\n",
       "         -2.92433206e-04, -6.73260158e-03,  5.83365667e-03,\n",
       "         -7.73261389e-05, -6.53966968e-03,  4.92121948e-03,\n",
       "          5.15061608e-03],\n",
       "        [ 1.23753409e-03, -1.24246647e-03,  7.87632837e-03,\n",
       "         -1.43019446e-02, -8.82117512e-03,  2.01993327e-02,\n",
       "         -1.30738725e-02, -4.58656269e-03,  5.67692142e-03,\n",
       "         -1.12542834e-02],\n",
       "        [-3.25729427e-03,  7.16039434e-04, -2.10851286e-02,\n",
       "         -4.63126638e-03, -2.82493093e-03, -5.83512185e-03,\n",
       "         -5.97911440e-03, -1.04480407e-02,  7.19802857e-03,\n",
       "         -1.66046300e-03],\n",
       "        [ 3.88482166e-03,  1.05512287e-02, -8.83073207e-04,\n",
       "          1.29893073e-03,  5.05653322e-04,  2.77799514e-03,\n",
       "          1.72533488e-02,  4.50692062e-04, -1.22846462e-02,\n",
       "          9.94582734e-03],\n",
       "        [ 1.21547040e-03, -1.11566014e-02, -4.13837608e-03,\n",
       "          1.52729612e-02, -4.99103681e-03, -4.19763886e-03,\n",
       "         -7.58510288e-03,  2.07706152e-03, -4.15332342e-03,\n",
       "         -3.18100929e-03],\n",
       "        [-8.20082463e-03,  1.19164430e-02,  7.28854313e-03,\n",
       "         -1.84679617e-03, -5.73255263e-03,  2.56204283e-03,\n",
       "         -1.23926582e-02, -6.89582689e-04,  9.44656493e-03,\n",
       "         -1.23017545e-02],\n",
       "        [-1.20404994e-02,  1.14962176e-02,  1.05271014e-02,\n",
       "          3.63862906e-03,  1.73089062e-02,  1.23795294e-02,\n",
       "         -9.05136413e-03,  1.12262963e-02, -2.06823012e-03,\n",
       "         -5.71593852e-03],\n",
       "        [ 7.15773610e-03,  5.54396296e-04, -1.06308295e-02,\n",
       "          4.08947432e-03, -3.94043522e-03,  1.05636256e-02,\n",
       "         -3.51093108e-03, -6.45965734e-04,  1.20291937e-03,\n",
       "          8.73251554e-03],\n",
       "        [ 1.91429564e-02,  3.36949024e-03,  1.48491758e-02,\n",
       "         -2.93908460e-03, -1.58655887e-02, -6.59564674e-04,\n",
       "         -3.44767237e-03,  7.77757744e-03,  1.22037534e-02,\n",
       "         -4.23082867e-03],\n",
       "        [ 2.50585844e-04, -2.62115415e-03, -7.89106434e-03,\n",
       "          1.04809431e-02, -5.02376914e-03,  2.30938267e-03,\n",
       "          4.66095764e-03,  1.48208198e-02,  2.07935988e-03,\n",
       "         -1.44512264e-02],\n",
       "        [-1.76540102e-04,  1.12930602e-02,  5.91626992e-03,\n",
       "          9.28776905e-03, -7.63205131e-03, -1.97967508e-03,\n",
       "          8.03483874e-03, -1.13756310e-02, -3.79534541e-03,\n",
       "         -1.17145213e-02],\n",
       "        [-3.50213649e-03, -2.35284968e-03,  2.52295484e-03,\n",
       "          1.68702550e-03,  2.06715510e-03,  5.75067133e-03,\n",
       "          1.75500747e-02,  2.74001043e-04,  1.15622848e-02,\n",
       "         -5.34762827e-03],\n",
       "        [-8.00126784e-03, -1.22654967e-02, -2.33745838e-02,\n",
       "          1.25573406e-02, -1.39849451e-02, -7.20826720e-04,\n",
       "         -1.87055545e-02, -1.22923387e-02, -9.66810554e-03,\n",
       "         -9.63897920e-03],\n",
       "        [-7.40139259e-03,  9.72713505e-03, -4.35678176e-03,\n",
       "         -3.85021797e-03,  1.72188905e-02,  3.69876014e-04,\n",
       "         -1.32860962e-02, -3.67590192e-03,  4.22462248e-03,\n",
       "         -4.37641329e-03],\n",
       "        [-7.49830780e-03, -6.82878828e-03, -6.90443409e-03,\n",
       "         -1.41164570e-03, -9.30110490e-04,  1.35514521e-02,\n",
       "          2.01420235e-02, -3.88075223e-03,  1.39455948e-02,\n",
       "         -1.19673953e-02],\n",
       "        [-3.43630705e-03,  1.57294164e-02, -1.08207816e-02,\n",
       "          1.97567293e-03,  3.98323794e-03, -3.27873480e-04,\n",
       "          2.11589763e-02,  9.26236800e-03,  2.96483638e-03,\n",
       "         -4.08260987e-03],\n",
       "        [-1.23219341e-02,  1.58281389e-02,  1.71649288e-02,\n",
       "          4.88782935e-03,  7.45790827e-03, -2.82404885e-02,\n",
       "          1.02499387e-02, -1.87073697e-02,  1.60406221e-02,\n",
       "          3.54353227e-03],\n",
       "        [-7.40135831e-03,  1.57981121e-03, -1.19444792e-02,\n",
       "         -3.54250672e-03,  9.27629589e-03,  1.11204861e-02,\n",
       "         -5.49908998e-03,  1.44168417e-02,  8.91754256e-03,\n",
       "          4.44389443e-03],\n",
       "        [-8.73880622e-03,  9.58170753e-03, -3.80432048e-03,\n",
       "          7.66947508e-03, -7.25148614e-03, -3.57440605e-03,\n",
       "          4.02807615e-03,  1.04777219e-02,  1.11160964e-02,\n",
       "         -8.24516896e-03],\n",
       "        [-6.47882811e-03,  2.42735284e-03, -1.32341342e-02,\n",
       "         -1.52076491e-02, -7.32091419e-04,  8.07657118e-03,\n",
       "         -2.11284483e-02,  9.25187613e-04,  2.43800954e-02,\n",
       "         -1.44973602e-02],\n",
       "        [ 3.55445299e-04, -5.04846522e-03, -4.52269444e-03,\n",
       "         -7.88294750e-04,  4.62395209e-03, -2.64419243e-04,\n",
       "          8.97646091e-03,  3.13109028e-03,  7.13295393e-03,\n",
       "          3.97764992e-03],\n",
       "        [-1.57296459e-05, -5.94141406e-03, -6.67735304e-03,\n",
       "         -9.98092197e-03, -7.55166446e-04,  7.87716791e-03,\n",
       "         -1.43724769e-02, -1.37372598e-02, -4.43906329e-03,\n",
       "         -5.48776929e-03],\n",
       "        [-8.70710068e-03,  1.69396869e-02, -1.18771038e-02,\n",
       "          3.31138328e-03,  1.55526142e-02, -3.20053675e-03,\n",
       "         -3.16120817e-03,  9.44663805e-04,  1.01225807e-02,\n",
       "          2.16762424e-02],\n",
       "        [ 3.58890935e-03, -1.38890573e-03,  1.06697760e-02,\n",
       "          1.65851247e-02, -9.98190446e-03, -1.52337147e-02,\n",
       "         -4.91155955e-03,  1.51403456e-02, -1.69324437e-02,\n",
       "         -3.18140942e-03],\n",
       "        [-5.76791263e-03,  6.89871909e-03,  3.70978371e-03,\n",
       "          7.52407148e-03,  8.41247175e-04, -9.04360398e-04,\n",
       "          7.38279199e-03,  1.42462346e-02,  1.41289271e-02,\n",
       "          7.03239202e-04],\n",
       "        [-3.49379013e-03,  6.23058473e-03, -2.56734773e-03,\n",
       "          1.69077373e-02,  6.53284508e-03,  1.18867082e-02,\n",
       "         -1.40834562e-03,  4.08010281e-04, -2.66044110e-04,\n",
       "          6.95475191e-03],\n",
       "        [ 9.76366499e-03,  1.61591371e-03,  2.02852343e-03,\n",
       "         -4.84069495e-03, -1.41724338e-02,  3.74015023e-03,\n",
       "          8.56153232e-03, -1.47763521e-03, -6.61809490e-03,\n",
       "          1.87355935e-02],\n",
       "        [-6.77307458e-03, -5.58606454e-04,  1.59453772e-03,\n",
       "          6.18489064e-04, -3.81117093e-03,  7.76173707e-03,\n",
       "         -1.04842547e-02,  1.43516202e-02, -1.57718161e-02,\n",
       "          1.07543164e-02],\n",
       "        [ 5.98240939e-05, -2.74680489e-03,  1.38605706e-02,\n",
       "          8.07345028e-03,  1.35936232e-02, -2.40171716e-03,\n",
       "         -1.17792293e-02, -6.10198585e-03,  1.11130016e-02,\n",
       "         -2.15305455e-03],\n",
       "        [-8.74396579e-03,  4.70350035e-03,  8.16797885e-03,\n",
       "         -2.57819913e-03,  7.49071628e-04,  2.52880535e-02,\n",
       "          9.42054862e-03,  3.79961537e-03, -1.18240295e-02,\n",
       "          5.88086145e-03],\n",
       "        [ 6.10020961e-03, -1.93047233e-03,  5.68196731e-03,\n",
       "          1.54831769e-02,  8.47114624e-03, -1.56818087e-03,\n",
       "          5.51658923e-03,  1.05363695e-03,  2.14997741e-02,\n",
       "          1.81262113e-02],\n",
       "        [ 3.31181602e-03,  4.29338151e-03, -7.91954066e-03,\n",
       "         -5.89291131e-03, -1.00810377e-02, -3.74761684e-03,\n",
       "         -2.27357866e-03, -1.09568289e-02,  4.16657096e-03,\n",
       "         -1.90248753e-02],\n",
       "        [ 3.64244954e-03,  3.93092739e-03,  1.56005202e-02,\n",
       "         -5.26490612e-03, -3.42077479e-03, -1.47932095e-02,\n",
       "         -1.23572533e-02, -6.75310073e-03, -1.10944174e-02,\n",
       "          7.03218969e-03],\n",
       "        [-1.39605667e-03,  4.68739625e-03, -6.41444343e-03,\n",
       "         -1.11389885e-02,  9.48961637e-03,  1.28382326e-02,\n",
       "         -6.95765690e-04,  2.20262159e-02,  1.88620373e-02,\n",
       "         -1.38121527e-03],\n",
       "        [-4.22350584e-03,  1.51876871e-02, -7.00841768e-04,\n",
       "         -1.54359094e-02, -7.98191838e-03,  7.21024441e-03,\n",
       "          3.91658955e-03,  7.63619495e-03, -8.99553379e-04,\n",
       "          1.81833277e-03],\n",
       "        [-1.99736117e-03,  4.66199150e-03,  5.80130293e-03,\n",
       "         -6.88412551e-03,  7.95565858e-03,  1.16731500e-02,\n",
       "         -1.68044475e-03, -5.22850172e-03,  4.15176659e-03,\n",
       "         -1.00005231e-03],\n",
       "        [-2.76547647e-03, -1.09217611e-02,  9.62675119e-03,\n",
       "          1.24245956e-02, -6.20975979e-03, -6.73175444e-03,\n",
       "         -6.20521058e-03,  4.53618890e-03, -1.23740317e-02,\n",
       "          5.61086108e-04],\n",
       "        [-1.04183830e-03,  1.34466811e-03, -1.15148286e-02,\n",
       "         -2.09585826e-03, -1.02023197e-02, -1.56563877e-02,\n",
       "          1.40366642e-02,  5.81893145e-03,  1.43782349e-02,\n",
       "         -1.24106908e-02],\n",
       "        [-1.07958336e-03, -1.96003786e-02, -5.68417642e-03,\n",
       "         -1.66155428e-02,  1.53128425e-02, -6.86624859e-03,\n",
       "         -9.16263213e-03,  9.42599541e-03, -1.25909857e-02,\n",
       "         -1.67107517e-02],\n",
       "        [-1.80503431e-02, -2.79784244e-03,  1.08455061e-02,\n",
       "         -4.30661148e-03,  3.68458912e-04,  5.84930040e-03,\n",
       "          2.89682456e-03, -1.08747349e-02,  5.75707939e-03,\n",
       "          1.03819397e-02],\n",
       "        [-1.55302686e-03,  3.03387779e-03, -1.32837280e-02,\n",
       "          9.96736553e-03, -1.32165620e-02, -6.65929481e-03,\n",
       "         -4.34902301e-03,  4.86311371e-03, -2.17401533e-03,\n",
       "         -3.68518716e-04],\n",
       "        [-2.50286627e-03,  1.54879399e-02,  5.09886967e-03,\n",
       "          9.91735845e-03,  2.27032447e-04, -2.92083678e-03,\n",
       "          2.66887599e-03,  4.53117370e-03, -1.67251275e-03,\n",
       "         -5.27123071e-03],\n",
       "        [ 6.40809073e-04, -4.65864504e-03,  3.17947068e-03,\n",
       "         -2.53010459e-03,  3.23844402e-03, -8.27590893e-03,\n",
       "         -6.52420073e-03,  3.13920216e-03,  3.33839874e-03,\n",
       "          1.00973168e-03],\n",
       "        [-1.78927395e-02, -9.48515417e-03,  1.10966666e-02,\n",
       "          9.01682730e-03,  1.05154262e-02, -4.11633442e-03,\n",
       "          1.36566660e-02,  1.60234256e-02, -8.04427243e-03,\n",
       "         -1.74665636e-02],\n",
       "        [ 1.27515779e-03,  1.25172984e-03, -2.84411205e-04,\n",
       "         -6.32998306e-03, -1.17779647e-03, -7.88159302e-05,\n",
       "         -2.79368286e-03,  2.38502558e-03,  2.39672590e-03,\n",
       "          1.87177037e-03],\n",
       "        [-7.54159294e-03, -8.78393607e-03,  3.11594600e-03,\n",
       "          1.13871927e-02,  5.79404755e-03,  6.59947016e-03,\n",
       "         -2.28143365e-02,  2.19471328e-02, -6.52393330e-03,\n",
       "         -1.88999348e-03],\n",
       "        [-1.72644098e-03,  1.03588922e-02, -4.92008545e-03,\n",
       "          9.03164060e-03, -4.42315091e-03,  5.91164546e-03,\n",
       "          2.01936707e-03, -4.74899299e-03,  4.24370000e-04,\n",
       "          8.54483072e-03],\n",
       "        [ 3.63730299e-03,  1.25981273e-02,  1.75830407e-02,\n",
       "         -1.49269574e-02, -6.38994770e-03, -5.36735930e-03,\n",
       "         -1.27678912e-02,  1.00873493e-02, -8.97641748e-04,\n",
       "         -2.50330653e-02],\n",
       "        [ 1.63870266e-02, -1.94776040e-02, -3.72924233e-03,\n",
       "         -1.12518678e-02, -8.46951303e-03,  1.25953711e-02,\n",
       "          7.09682851e-03, -1.74269617e-02, -6.51179492e-03,\n",
       "         -1.40203219e-02],\n",
       "        [-6.90442773e-03,  4.22506083e-03, -7.73048981e-03,\n",
       "         -2.22098456e-03, -4.11772529e-03,  1.21223823e-02,\n",
       "          9.28999568e-03, -8.29792747e-03, -9.22828650e-06,\n",
       "          2.01121107e-04],\n",
       "        [-3.96479052e-03, -8.62505635e-03, -4.48863354e-03,\n",
       "          9.91739601e-04, -4.14259943e-03, -2.33693083e-03,\n",
       "          7.67566212e-03, -8.31066004e-03, -4.75015674e-03,\n",
       "          2.35978949e-03],\n",
       "        [ 1.61355811e-02,  2.07993578e-03, -1.68096679e-03,\n",
       "          8.23357904e-03, -9.33579428e-03,  5.85763147e-03,\n",
       "         -4.12717022e-03, -1.22401549e-02,  6.31294754e-03,\n",
       "         -6.97917193e-03],\n",
       "        [-3.79689662e-03, -1.33899620e-02,  1.48157549e-02,\n",
       "         -3.84311233e-04, -6.64388753e-03, -1.71758033e-02,\n",
       "         -5.47828392e-03, -3.59027886e-03, -1.03134665e-02,\n",
       "          1.20084908e-03],\n",
       "        [-6.66750730e-03,  7.43090941e-03,  2.31034634e-03,\n",
       "         -9.23882138e-03,  7.19356574e-04, -1.97348599e-02,\n",
       "          1.58473023e-03, -5.36988154e-03,  1.70925923e-02,\n",
       "         -4.00402907e-03],\n",
       "        [ 1.00475944e-02, -6.93141517e-03, -5.54355031e-03,\n",
       "          1.20485899e-03,  1.33167505e-02, -7.98106591e-03,\n",
       "          3.74124168e-03, -1.69817362e-03, -1.02188693e-03,\n",
       "          3.05492383e-04],\n",
       "        [-2.07786255e-02,  1.91957765e-02, -7.33415935e-04,\n",
       "          6.93936813e-03, -1.37660859e-04,  5.15321597e-03,\n",
       "         -5.82740891e-03,  2.08598213e-02, -6.45796530e-03,\n",
       "          8.90988599e-04],\n",
       "        [-1.59933510e-02, -7.65001836e-03,  1.31360945e-02,\n",
       "          2.85597455e-04, -7.68535853e-03,  8.79355519e-04,\n",
       "         -3.84629771e-05, -3.42187598e-03,  9.67662219e-04,\n",
       "         -4.69532511e-03],\n",
       "        [ 4.77087463e-03,  4.26074985e-03,  1.45369603e-02,\n",
       "          3.28582719e-03,  2.37069318e-02, -1.10844515e-02,\n",
       "         -1.28485998e-02,  5.09900701e-03,  1.77285836e-02,\n",
       "         -6.15531093e-04],\n",
       "        [ 4.88408544e-03,  1.18950879e-03, -5.07599370e-03,\n",
       "         -1.70198966e-02,  5.17710969e-03, -2.42695284e-02,\n",
       "         -2.53469674e-02, -1.11833625e-02, -8.75626828e-03,\n",
       "         -5.39636317e-03],\n",
       "        [ 2.29364631e-03, -1.94503077e-03, -1.13479791e-02,\n",
       "         -2.50861508e-03, -3.52204748e-03, -6.14874625e-03,\n",
       "         -3.75216246e-03, -1.11161632e-02,  5.46008629e-03,\n",
       "         -1.04209261e-02],\n",
       "        [-1.55420716e-02, -8.78469971e-03,  2.18393626e-03,\n",
       "          1.18170159e-02, -2.03824447e-02, -9.27581464e-03,\n",
       "         -6.81035918e-03, -8.80222249e-03,  1.31136249e-02,\n",
       "          1.79417599e-02],\n",
       "        [ 1.77190040e-02,  1.78778782e-03, -1.34204971e-02,\n",
       "         -2.64088151e-03,  3.60875821e-03, -4.28263001e-03,\n",
       "         -7.18038817e-03, -9.22505209e-03, -3.19967312e-04,\n",
       "          8.06958257e-03],\n",
       "        [ 1.51606465e-02,  1.12110210e-03,  8.82747827e-03,\n",
       "         -2.26992470e-03,  7.28900704e-03, -2.37824787e-03,\n",
       "         -8.02729305e-03,  1.16078140e-02,  8.04588888e-03,\n",
       "          3.21085142e-03],\n",
       "        [ 9.07783416e-03, -3.71644566e-04,  1.93195930e-03,\n",
       "          1.22082015e-02,  1.14629358e-02,  2.54648871e-04,\n",
       "         -7.70858672e-03, -1.84537281e-03, -1.49546139e-02,\n",
       "          1.94343677e-02],\n",
       "        [-7.95160229e-04, -7.93973598e-03,  5.96456819e-03,\n",
       "         -2.54632550e-03,  1.36045834e-03, -3.58686442e-03,\n",
       "         -1.00281440e-02, -1.34842065e-02, -9.22616435e-03,\n",
       "          1.23918204e-03],\n",
       "        [-8.90532724e-03,  1.13998682e-02,  4.30898444e-03,\n",
       "         -6.67582628e-03,  3.82204631e-03, -6.94803456e-03,\n",
       "          6.48864390e-03,  1.09496714e-02, -1.01413344e-02,\n",
       "          2.81090888e-03],\n",
       "        [ 7.83571800e-03, -3.57090559e-03,  3.54353809e-03,\n",
       "         -1.01546245e-02, -6.56602271e-03, -1.65290370e-02,\n",
       "          6.79659769e-03, -1.52509329e-02,  8.52872758e-03,\n",
       "         -1.00448934e-03],\n",
       "        [ 8.56712324e-03,  1.65435608e-02, -4.44360604e-03,\n",
       "          1.71121835e-02, -1.19812078e-02, -1.42187112e-02,\n",
       "          1.41681244e-02, -1.14450221e-02,  1.11265236e-03,\n",
       "         -6.19475019e-03],\n",
       "        [-1.66292657e-02, -1.07783586e-02, -1.68704813e-02,\n",
       "         -6.08280312e-03, -7.16286556e-03, -1.70802590e-03,\n",
       "          1.54357726e-02,  3.06158476e-03,  2.15234222e-02,\n",
       "          1.47657404e-02],\n",
       "        [-8.70293303e-04,  1.12129450e-02, -9.02998367e-04,\n",
       "          7.33242217e-03, -2.98822921e-03, -5.35547580e-04,\n",
       "         -2.11850833e-02, -4.33757385e-03, -1.35271080e-02,\n",
       "         -1.28764572e-02],\n",
       "        [-1.04847307e-02,  2.19887796e-02, -6.88153006e-03,\n",
       "         -1.20126587e-04, -1.78809282e-02,  3.47315682e-03,\n",
       "         -4.50203866e-03,  2.47594023e-03, -6.40610820e-03,\n",
       "          9.05465684e-03],\n",
       "        [ 4.33888648e-03, -1.29021295e-02, -1.98603955e-02,\n",
       "          5.74341003e-03, -3.13790743e-02,  2.75167991e-03,\n",
       "          8.07104576e-03,  9.09657011e-03, -2.95537286e-03,\n",
       "         -1.13733056e-02],\n",
       "        [ 1.07289813e-02, -1.13234578e-03, -6.33150710e-03,\n",
       "          9.49449936e-03,  8.95041116e-03, -2.94525205e-03,\n",
       "         -3.47338217e-03, -1.64507519e-02,  6.17506940e-03,\n",
       "         -3.98663534e-03],\n",
       "        [-9.45150409e-03,  4.71216969e-03, -4.78485870e-03,\n",
       "          8.39559672e-03,  2.49407456e-04,  5.79965176e-03,\n",
       "          8.45681790e-03,  1.20325427e-02,  6.24294941e-04,\n",
       "          2.21034084e-03],\n",
       "        [-2.26069111e-02, -2.45655806e-02,  7.28858496e-03,\n",
       "         -3.83306405e-04,  9.95649390e-03, -2.17087040e-03,\n",
       "          1.50445456e-02, -4.20872915e-03, -9.39257328e-03,\n",
       "         -1.40985876e-02],\n",
       "        [-4.70022597e-03,  8.35128870e-03, -2.19365846e-02,\n",
       "         -3.91565333e-03, -2.66215577e-05,  1.11743882e-02,\n",
       "         -7.41186253e-04,  7.48404000e-03, -6.74022567e-03,\n",
       "          9.99951622e-03],\n",
       "        [ 1.61746458e-02,  7.52232247e-04, -1.07704449e-02,\n",
       "         -9.75867158e-03,  1.63945043e-02,  9.76308703e-03,\n",
       "          3.68643799e-03, -4.99531728e-03, -6.63494175e-03,\n",
       "         -3.29343469e-03],\n",
       "        [-2.57385740e-03, -1.98808187e-03,  1.40012735e-03,\n",
       "         -1.00552896e-02,  1.05764067e-02,  4.78536449e-03,\n",
       "         -7.12527084e-03, -2.20350321e-03, -3.37055489e-04,\n",
       "          9.12505107e-03],\n",
       "        [ 1.27308269e-03,  2.07115733e-03, -2.52676805e-03,\n",
       "          2.93580350e-03, -2.40450238e-03,  5.03082734e-03,\n",
       "          1.34843646e-02,  8.46363335e-03,  5.75652452e-03,\n",
       "         -1.02155895e-02],\n",
       "        [ 1.29059081e-02,  1.21025502e-02,  2.21006145e-02,\n",
       "         -2.57386724e-03, -7.03769352e-03,  4.21080223e-03,\n",
       "          1.04746945e-02,  6.62971514e-03,  1.79465253e-03,\n",
       "          1.94279381e-03],\n",
       "        [ 2.48437969e-03,  2.41148588e-02, -9.23904936e-03,\n",
       "          2.99964721e-03, -4.41714913e-03, -2.00696501e-02,\n",
       "          1.50146694e-02,  1.00576052e-03,  9.14144903e-03,\n",
       "          4.60780131e-03],\n",
       "        [-8.37917806e-03, -6.26334848e-03,  1.40578809e-02,\n",
       "          9.98729298e-03,  1.14868089e-02,  6.35811593e-04,\n",
       "         -4.43995113e-03,  2.04042171e-02, -1.50612315e-03,\n",
       "          9.21653707e-03],\n",
       "        [ 1.42155035e-03,  4.91943439e-03, -8.82622319e-03,\n",
       "          1.39351420e-03,  4.20230447e-03,  6.38780147e-03,\n",
       "          1.09666773e-02, -2.03763992e-03,  1.26487626e-02,\n",
       "          1.13333314e-02],\n",
       "        [ 1.07547635e-02,  1.22575167e-02, -1.13068631e-02,\n",
       "         -1.82723908e-03,  8.87484766e-03, -8.86272603e-03,\n",
       "          1.40545648e-03,  8.40579637e-03,  3.22395724e-03,\n",
       "         -1.45206167e-03],\n",
       "        [ 1.19837277e-02, -1.00356724e-02, -8.97637297e-03,\n",
       "         -5.13508000e-03, -4.54312612e-03, -9.55940468e-03,\n",
       "          1.80467823e-02,  1.80797768e-03, -8.34284220e-03,\n",
       "          1.10960427e-03],\n",
       "        [-8.58941667e-03,  8.83246203e-03, -1.13935477e-02,\n",
       "          8.28954859e-03, -3.22553341e-03,  2.63655168e-03,\n",
       "          9.29513559e-03, -1.76578804e-02, -7.10948561e-03,\n",
       "         -1.18466079e-02],\n",
       "        [-5.46563537e-03, -2.75196205e-02,  1.88714716e-02,\n",
       "         -6.80777082e-03, -1.90112880e-02, -1.80730912e-03,\n",
       "         -1.26949512e-03,  2.15167841e-03, -5.64161985e-03,\n",
       "          4.64167493e-03],\n",
       "        [ 1.42210521e-02,  1.43536878e-03, -1.42189445e-02,\n",
       "         -1.70542432e-02,  8.62416540e-03,  7.30991661e-03,\n",
       "          2.16427469e-03, -8.03076021e-03,  1.59089936e-02,\n",
       "         -3.91409739e-03],\n",
       "        [ 4.55857013e-03,  2.15659413e-02, -5.69079589e-03,\n",
       "         -1.23946038e-03,  9.46109806e-03,  1.02325089e-03,\n",
       "         -3.44538714e-03,  1.89958279e-02, -3.57747025e-03,\n",
       "         -1.24959620e-02],\n",
       "        [-1.08551971e-02,  1.19093210e-02, -1.25004489e-03,\n",
       "         -2.04867511e-03, -2.37976180e-02, -2.64454087e-02,\n",
       "         -6.46005245e-03, -1.47674744e-03, -5.90458680e-03,\n",
       "          1.20307309e-02]]),\n",
       " 'b2': array([0., 0., 0., 0., 0., 0., 0., 0., 0., 0.])}"
      ]
     },
     "execution_count": 76,
     "metadata": {},
     "output_type": "execute_result"
    }
   ],
   "source": [
    "network.params"
   ]
  },
  {
   "cell_type": "code",
   "execution_count": 77,
   "metadata": {},
   "outputs": [],
   "source": [
    "iterations = 10 #10000\n",
    "train_size = x_train[:100].shape[0]\n",
    "batch_size = 2 #100\n",
    "lr = 0.1\n",
    "\n",
    "iter_per_ecoph = max(train_size/batch_size, 1)"
   ]
  },
  {
   "cell_type": "code",
   "execution_count": 79,
   "metadata": {},
   "outputs": [
    {
     "name": "stdout",
     "output_type": "stream",
     "text": [
      "train acc, test_acc : 0.10218333333333333, 0.101\n"
     ]
    }
   ],
   "source": [
    "train_losses = []\n",
    "train_accs = []\n",
    "test_accs = []\n",
    "for i in range(iterations):\n",
    "    batch_mask = np.random.choice(train_size, batch_size)\n",
    "    x_batch = x_train[batch_mask]\n",
    "    y_batch = y_train[batch_mask]\n",
    "\n",
    "    grads = network.numerical_gradient(x_batch, y_batch)\n",
    "\n",
    "    for key in ('w1', 'b1', 'w2', 'b2'):\n",
    "        network.params[key] -= lr*grads[key]\n",
    "\n",
    "    ## this is for plotting losses over time\n",
    "    train_losses.append(network.loss(x_batch, y_batch))\n",
    "\n",
    "    if i%iter_per_ecoph == 0:\n",
    "        train_acc = network.accuracy(x_train, y_train)\n",
    "        train_accs.append(train_acc)\n",
    "        test_acc = network.accuracy(x_test, y_test)\n",
    "        test_accs.append(test_acc)\n",
    "        print(f'train acc, test_acc : {train_acc}, {test_acc}')"
   ]
  },
  {
   "cell_type": "code",
   "execution_count": 80,
   "metadata": {},
   "outputs": [
    {
     "data": {
      "image/png": "[encoded data removed]",
      "text/plain": [
       "<Figure size 640x480 with 1 Axes>"
      ]
     },
     "metadata": {},
     "output_type": "display_data"
    }
   ],
   "source": [
    "markers = {'train': 'o', 'test': 's'}\n",
    "x = np.arange(len(train_accs))\n",
    "plt.plot(x, train_accs, label='train acc')\n",
    "plt.plot(x, test_accs, label='test acc', linestyle='--')\n",
    "plt.xlabel(\"epochs\")\n",
    "plt.ylabel(\"accuracy\")\n",
    "plt.ylim(0, 1.0)\n",
    "plt.legend(loc='lower right')\n",
    "plt.show()"
   ]
  },
  {
   "cell_type": "markdown",
   "metadata": {},
   "source": [
    "### Backpropagation"
   ]
  },
  {
   "cell_type": "code",
   "execution_count": 81,
   "metadata": {},
   "outputs": [],
   "source": [
    "class Relu:\n",
    "    def __init__(self):\n",
    "        self.mask = None\n",
    "\n",
    "    def forward(self, x):\n",
    "        self.mask = (x <= 0)\n",
    "        out = x.copy()\n",
    "        out[self.mask] = 0\n",
    "\n",
    "        return out\n",
    "\n",
    "    def backward(self, dout):\n",
    "        dout[self.mask] = 0\n",
    "        dx = dout\n",
    "\n",
    "        return dx\n",
    "\n",
    "\n",
    "class Sigmoid:\n",
    "    def __init__(self):\n",
    "        self.out = None\n",
    "        self.activations = Activations()\n",
    "\n",
    "    def forward(self, x):\n",
    "        out = self.activations.sigmoid(x)\n",
    "        self.out = out\n",
    "        return out\n",
    "\n",
    "    def backward(self, dout):\n",
    "        dx = dout * (1.0 - self.out) * self.out\n",
    "\n",
    "        return dx\n",
    "\n",
    "\n",
    "class Affine:\n",
    "    def __init__(self, w, b):\n",
    "        self.w = w\n",
    "        self.b = b\n",
    "        \n",
    "        self.x = None\n",
    "        self.original_x_shape = None\n",
    "\n",
    "        self.dw = None\n",
    "        self.db = None\n",
    "\n",
    "    def forward(self, x):\n",
    "        # \n",
    "        self.original_x_shape = x.shape\n",
    "        x = x.reshape(x.shape[0], -1)\n",
    "        self.x = x\n",
    "\n",
    "        out = np.dot(self.x, self.w) + self.b\n",
    "\n",
    "        return out\n",
    "\n",
    "    def backward(self, dout):\n",
    "        dx = np.dot(dout, self.w.T)\n",
    "        self.dw = np.dot(self.x.T, dout)\n",
    "        self.db = np.sum(dout, axis=0)\n",
    "        \n",
    "        dx = dx.reshape(*self.original_x_shape)  \n",
    "        return dx\n",
    "\n",
    "\n",
    "class SoftmaxWithLoss:\n",
    "    def __init__(self):\n",
    "        self.loss = None \n",
    "        self.y_hat = None    \n",
    "        self.y = None    \n",
    "        self.activations = Activations()\n",
    "        self.errors = Errors()\n",
    "        \n",
    "    def forward(self, x, y):\n",
    "        self.y = y\n",
    "        self.y_hat = self.activations.softmax(x)\n",
    "        self.loss = self.errors.cross_entropy_error(self.y_hat, self.y)\n",
    "        \n",
    "        return self.loss\n",
    "\n",
    "    def backward(self, dout=1):\n",
    "        batch_size = self.y.shape[0]\n",
    "        #if self.y.size == self.y_hat.size: # one hot encoding\n",
    "        \n",
    "        dx = (self.y_hat - self.y) / batch_size\n",
    "        \n",
    "        \"\"\"\n",
    "        else:\n",
    "            dx = self.y_hat.copy()\n",
    "            dx[np.arange(batch_size), self.t] -= 1\n",
    "            dx = dx / batch_size\n",
    "        \"\"\"\n",
    "        return dx"
   ]
  },
  {
   "cell_type": "markdown",
   "metadata": {},
   "source": [
    "### Two Layer Net With Backpropagation"
   ]
  },
  {
   "cell_type": "code",
   "execution_count": 83,
   "metadata": {},
   "outputs": [],
   "source": [
    "import numpy as np\n",
    "from activations import Activations\n",
    "from errors import Errors\n",
    "from collections import OrderedDict"
   ]
  },
  {
   "cell_type": "code",
   "execution_count": 85,
   "metadata": {},
   "outputs": [],
   "source": [
    "class TwoLayerNetWithBackProp:\n",
    "    def __init__(self, input_size, hidden_size, output_size, weight_init_std=0.01):\n",
    "        self.params = {}\n",
    "\n",
    "        self.params['w1'] = weight_init_std*np.random.randn(input_size, hidden_size)\n",
    "        self.params['b1'] = np.zeros(hidden_size)\n",
    "\n",
    "        self.params['w2'] = weight_init_std*np.random.randn(hidden_size, output_size)\n",
    "        self.params['b2'] = np.zeros(output_size)\n",
    "\n",
    "        self.activations = Activations()\n",
    "        self.errors = Errors()\n",
    "\n",
    "        # add layers\n",
    "        self.layers = OrderedDict()\n",
    "        self.update_layers()\n",
    "        self.last_layer = SoftmaxWithLoss()\n",
    "\n",
    "\n",
    "    def update_layers(self):\n",
    "        self.layers['Affine1'] = Affine(self.params['w1'], self.params['b1'])\n",
    "        self.layers['Rele1'] = Relu()\n",
    "        self.layers['Affine2'] = Affine(self.params['w2'], self.params['b2'])\n",
    "\n",
    "\n",
    "    def predict(self, x):\n",
    "        ## new implementation for backprop\n",
    "        for layer in self.layers.values():\n",
    "            x = layer.forward(x)\n",
    "\n",
    "        y = x\n",
    "        return y\n",
    "    \n",
    "    def loss(self, x, y):\n",
    "        y_hat = self.predict(x)\n",
    "\n",
    "        # return self.errors.cross_entropy_error(y_hat, y)\n",
    "        return self.last_layer.forward(y_hat, y)\n",
    "\n",
    "    def accuracy(self, x, y):\n",
    "        y_hat = self.predict(x)\n",
    "        p = np.argmax(y_hat, axis=1)\n",
    "        y_p = np.argmax(y, axis=1)\n",
    "\n",
    "        return np.sum(p == y_p)/float(x.shape[0])\n",
    "    \n",
    "\n",
    "    def gradient(self, x, y):\n",
    "        self.loss(x, y)\n",
    "\n",
    "        dout = 1\n",
    "        dout = self.last_layer.backward(dout)\n",
    "\n",
    "        layers = list(self.layers.values())\n",
    "        layers.reverse()\n",
    "        for layer in layers:\n",
    "            dout = layer.backward(dout)\n",
    "\n",
    "        grads = {}\n",
    "        grads['w1'] = self.layers['Affine1'].dw\n",
    "        grads['b1'] = self.layers['Affine1'].db\n",
    "        grads['w2'] = self.layers['Affine2'].dw\n",
    "        grads['b2'] = self.layers['Affine2'].db\n",
    "      \n",
    "        return grads"
   ]
  },
  {
   "cell_type": "code",
   "execution_count": 87,
   "metadata": {},
   "outputs": [
    {
     "name": "stdout",
     "output_type": "stream",
     "text": [
      "File: train-images-idx3-ubyte.gz already exists.\n",
      "File: train-labels-idx1-ubyte.gz already exists.\n",
      "File: t10k-images-idx3-ubyte.gz already exists.\n",
      "File: t10k-labels-idx1-ubyte.gz already exists.\n",
      "Pickle: dataset/mnist.pkl already exists.\n",
      "Loading...\n",
      "Done.\n"
     ]
    }
   ],
   "source": [
    "from mnist_data import MnistData\n",
    "mnist = MnistData()"
   ]
  },
  {
   "cell_type": "code",
   "execution_count": 88,
   "metadata": {},
   "outputs": [
    {
     "name": "stdout",
     "output_type": "stream",
     "text": [
      "(60000, 784)\n"
     ]
    }
   ],
   "source": [
    "(x_train, y_train), (x_test, y_test) = mnist.load()\n",
    "print(x_train.shape)"
   ]
  },
  {
   "cell_type": "code",
   "execution_count": 93,
   "metadata": {},
   "outputs": [],
   "source": [
    "network = None\n",
    "network = TwoLayerNetWithBackProp(input_size=28*28, hidden_size=100, output_size=10)"
   ]
  },
  {
   "cell_type": "code",
   "execution_count": 94,
   "metadata": {},
   "outputs": [],
   "source": [
    "iterations = 10000\n",
    "train_size = x_train.shape[0]\n",
    "batch_size = 100\n",
    "lr = 0.1\n",
    "\n",
    "iter_per_ecoph = max(train_size/batch_size, 1)"
   ]
  },
  {
   "cell_type": "code",
   "execution_count": 95,
   "metadata": {},
   "outputs": [],
   "source": [
    "train_losses = []\n",
    "train_accs = []\n",
    "test_accs = []"
   ]
  },
  {
   "cell_type": "code",
   "execution_count": 96,
   "metadata": {},
   "outputs": [
    {
     "name": "stdout",
     "output_type": "stream",
     "text": [
      "train acc, test_acc : 0.15773333333333334, 0.1576\n",
      "train acc, test_acc : 0.9068166666666667, 0.911\n",
      "train acc, test_acc : 0.9261666666666667, 0.9286\n",
      "train acc, test_acc : 0.9387833333333333, 0.9388\n",
      "train acc, test_acc : 0.9481166666666667, 0.9485\n",
      "train acc, test_acc : 0.9541833333333334, 0.9528\n",
      "train acc, test_acc : 0.9602666666666667, 0.9582\n",
      "train acc, test_acc : 0.9653, 0.9616\n",
      "train acc, test_acc : 0.9683, 0.9649\n",
      "train acc, test_acc : 0.9721166666666666, 0.9666\n",
      "train acc, test_acc : 0.9745166666666667, 0.97\n",
      "train acc, test_acc : 0.9761166666666666, 0.9698\n",
      "train acc, test_acc : 0.9787833333333333, 0.9713\n",
      "train acc, test_acc : 0.9804166666666667, 0.9735\n",
      "train acc, test_acc : 0.9811333333333333, 0.9739\n",
      "train acc, test_acc : 0.9829833333333333, 0.9749\n",
      "train acc, test_acc : 0.9832666666666666, 0.9729\n"
     ]
    }
   ],
   "source": [
    "for i in range(iterations):\n",
    "    batch_mask = np.random.choice(train_size, batch_size)\n",
    "    x_batch = x_train[batch_mask]\n",
    "    y_batch = y_train[batch_mask]\n",
    "\n",
    "    grads = network.gradient(x_batch, y_batch)\n",
    "\n",
    "    for key in ('w1', 'b1', 'w2', 'b2'):\n",
    "        network.params[key] -= lr*grads[key]\n",
    "\n",
    "    ## this is for plotting losses over time\n",
    "    train_losses.append(network.loss(x_batch, y_batch))\n",
    "\n",
    "    if i%iter_per_ecoph == 0:\n",
    "        train_acc = network.accuracy(x_train, y_train)\n",
    "        train_accs.append(train_acc)\n",
    "        test_acc = network.accuracy(x_test, y_test)\n",
    "        test_accs.append(test_acc)\n",
    "        print(f'train acc, test_acc : {train_acc}, {test_acc}')\n",
    "    "
   ]
  },
  {
   "cell_type": "markdown",
   "metadata": {},
   "source": [
    "### Accuracy Check"
   ]
  },
  {
   "cell_type": "code",
   "execution_count": 97,
   "metadata": {},
   "outputs": [
    {
     "data": {
      "image/png": "[encoded data removed]",
      "text/plain": [
       "<Figure size 640x480 with 1 Axes>"
      ]
     },
     "metadata": {},
     "output_type": "display_data"
    }
   ],
   "source": [
    "markers = {'train': 'o', 'test': 's'}\n",
    "x = np.arange(len(train_accs))\n",
    "plt.plot(x, train_accs, label='train acc')\n",
    "plt.plot(x, test_accs, label='test acc', linestyle='--')\n",
    "plt.xlabel(\"epochs\")\n",
    "plt.ylabel(\"accuracy\")\n",
    "plt.ylim(0, 1.0)\n",
    "plt.legend(loc='lower right')\n",
    "plt.show()"
   ]
  },
  {
   "cell_type": "markdown",
   "metadata": {},
   "source": [
    "## Final Implementation"
   ]
  },
  {
   "cell_type": "code",
   "execution_count": 1,
   "metadata": {},
   "outputs": [],
   "source": [
    "from mnist_data import MnistData\n",
    "import numpy as np\n",
    "from activations import Activations\n",
    "from errors import Errors\n",
    "from collections import OrderedDict\n",
    "from layer import Relu,Sigmoid,Affine, SoftmaxWithLoss \n",
    "from two_layer_net_with_back_prop import TwoLayerNetWithBackProp"
   ]
  },
  {
   "cell_type": "markdown",
   "metadata": {},
   "source": [
    "### Loading the Mnist Dataset"
   ]
  },
  {
   "cell_type": "code",
   "execution_count": 2,
   "metadata": {},
   "outputs": [
    {
     "name": "stdout",
     "output_type": "stream",
     "text": [
      "File: train-images-idx3-ubyte.gz already exists.\n",
      "File: train-labels-idx1-ubyte.gz already exists.\n",
      "File: t10k-images-idx3-ubyte.gz already exists.\n",
      "File: t10k-labels-idx1-ubyte.gz already exists.\n",
      "Pickle: dataset/mnist.pkl already exists.\n",
      "Loading...\n",
      "Done.\n"
     ]
    }
   ],
   "source": [
    "mnist = MnistData()"
   ]
  },
  {
   "cell_type": "code",
   "execution_count": 3,
   "metadata": {},
   "outputs": [],
   "source": [
    "(x_train, y_train), (x_test, y_test) = mnist.load()"
   ]
  },
  {
   "cell_type": "code",
   "execution_count": 4,
   "metadata": {},
   "outputs": [
    {
     "name": "stdout",
     "output_type": "stream",
     "text": [
      "(60000, 784)\n"
     ]
    }
   ],
   "source": [
    "print(x_train.shape)"
   ]
  },
  {
   "cell_type": "markdown",
   "metadata": {},
   "source": [
    "### Creating the Network"
   ]
  },
  {
   "cell_type": "code",
   "execution_count": 99,
   "metadata": {},
   "outputs": [],
   "source": [
    "network = TwoLayerNetWithBackProp(input_size=28*28, hidden_size=100, output_size=10)"
   ]
  },
  {
   "cell_type": "code",
   "execution_count": 6,
   "metadata": {},
   "outputs": [
    {
     "data": {
      "text/plain": [
       "<two_layer_net_with_back_prop.TwoLayerNetWithBackProp at 0x12dfbdc5b10>"
      ]
     },
     "execution_count": 6,
     "metadata": {},
     "output_type": "execute_result"
    }
   ],
   "source": [
    "network"
   ]
  },
  {
   "cell_type": "markdown",
   "metadata": {},
   "source": [
    "### Setting the Training Params"
   ]
  },
  {
   "cell_type": "code",
   "execution_count": 7,
   "metadata": {},
   "outputs": [],
   "source": [
    "iterations = 10000\n",
    "train_size = x_train.shape[0]\n",
    "batch_size = 16\n",
    "lr = 0.01\n",
    "\n",
    "iter_per_ecoph = max(train_size/batch_size, 1)"
   ]
  },
  {
   "cell_type": "code",
   "execution_count": 8,
   "metadata": {},
   "outputs": [],
   "source": [
    "train_losses = []\n",
    "train_accs = []\n",
    "test_accs = []"
   ]
  },
  {
   "cell_type": "markdown",
   "metadata": {},
   "source": [
    "### Training the Model"
   ]
  },
  {
   "cell_type": "code",
   "execution_count": 9,
   "metadata": {},
   "outputs": [
    {
     "name": "stdout",
     "output_type": "stream",
     "text": [
      "train acc, test_acc : 0.10631666666666667, 0.1031\n",
      "train acc, test_acc : 0.8948666666666667, 0.8999\n",
      "train acc, test_acc : 0.91495, 0.9179\n"
     ]
    }
   ],
   "source": [
    "for i in range(iterations):\n",
    "    batch_mask = np.random.choice(train_size, batch_size)\n",
    "    x_batch = x_train[batch_mask]\n",
    "    y_batch = y_train[batch_mask]\n",
    "\n",
    "    grads = network.gradient(x_batch, y_batch)\n",
    "\n",
    "    for key in ('w1', 'b1', 'w2', 'b2'):\n",
    "        network.params[key] -= lr*grads[key]\n",
    "\n",
    "    ## this is for plotting losses over time\n",
    "    train_losses.append(network.loss(x_batch, y_batch))\n",
    "\n",
    "    if i%iter_per_ecoph == 0:\n",
    "        train_acc = network.accuracy(x_train, y_train)\n",
    "        train_accs.append(train_acc)\n",
    "        test_acc = network.accuracy(x_test, y_test)\n",
    "        test_accs.append(test_acc)\n",
    "        print(f'train acc, test_acc : {train_acc}, {test_acc}')"
   ]
  },
  {
   "cell_type": "markdown",
   "metadata": {},
   "source": [
    "### Plotting the Results "
   ]
  },
  {
   "cell_type": "code",
   "execution_count": 10,
   "metadata": {},
   "outputs": [
    {
     "data": {
      "image/png": "[encoded data removed]",
      "text/plain": [
       "<Figure size 640x480 with 1 Axes>"
      ]
     },
     "metadata": {},
     "output_type": "display_data"
    }
   ],
   "source": [
    "import matplotlib.pyplot as plt\n",
    "markers = {'train': 'o', 'test': 's'}\n",
    "x = np.arange(len(train_accs))\n",
    "plt.plot(x, train_accs, label='train acc')\n",
    "plt.plot(x, test_accs, label='test acc', linestyle='--')\n",
    "plt.xlabel(\"epochs\")\n",
    "plt.ylabel(\"accuracy\")\n",
    "plt.ylim(0, 1.0)\n",
    "plt.legend(loc='lower right')\n",
    "plt.show()"
   ]
  },
  {
   "cell_type": "markdown",
   "metadata": {},
   "source": [
    "### Saving the Weights"
   ]
  },
  {
   "cell_type": "code",
   "execution_count": 11,
   "metadata": {},
   "outputs": [
    {
     "name": "stdout",
     "output_type": "stream",
     "text": [
      "Pickle: Model/manoj_weights.pkl is being created.\n",
      "Done.\n"
     ]
    }
   ],
   "source": [
    "import numpy as np\n",
    "import pickle\n",
    "\n",
    "my_weight_pkl_file = 'Model/manoj_weights.pkl'\n",
    "with open(f'{my_weight_pkl_file}', 'wb') as f:\n",
    "    print(f'Pickle: {my_weight_pkl_file} is being created.')\n",
    "    pickle.dump(network.params, f)\n",
    "    print('Done.') "
   ]
  },
  {
   "cell_type": "code",
   "execution_count": 12,
   "metadata": {},
   "outputs": [],
   "source": [
    "network.params = None\n",
    "network = TwoLayerNetWithBackProp(input_size=28*28, hidden_size=100, output_size=10)\n",
    "with open(f'{my_weight_pkl_file}', 'rb') as f:\n",
    "    network.params = pickle.load(f)\n",
    "\n",
    "network.update_layers()"
   ]
  },
  {
   "cell_type": "code",
   "execution_count": 13,
   "metadata": {},
   "outputs": [
    {
     "name": "stdout",
     "output_type": "stream",
     "text": [
      "[[ 8.76973007e-01 -6.73356473e+00  2.17792649e+00  4.13322141e+00\n",
      "  -4.05600794e+00  3.89474644e-01 -8.16106980e+00  8.69624800e+00\n",
      "  -2.62380898e-01  3.25416883e+00]\n",
      " [ 3.14042198e+00 -2.99450024e+00  8.24721328e+00  3.79522893e+00\n",
      "  -7.60895887e+00  3.18085970e+00  4.70176461e+00 -8.33017212e+00\n",
      "   2.70482554e+00 -6.96629054e+00]\n",
      " [-5.41742083e+00  6.43926194e+00  1.17747374e+00  7.87898571e-01\n",
      "  -2.04135692e+00 -1.03580545e+00  1.27847720e-01  4.87586446e-01\n",
      "   7.33862492e-01 -1.30077113e+00]\n",
      " [ 1.12348734e+01 -1.22542820e+01  3.44077167e+00  1.87492922e-01\n",
      "  -7.62117783e+00  3.59070101e+00  1.94734469e+00 -5.25262041e-01\n",
      "   4.10173030e-01 -4.74176183e-01]\n",
      " [-1.80738141e+00 -5.98129191e+00  9.76470822e-02 -2.61891078e+00\n",
      "   6.53803147e+00 -8.49925401e-01  4.41452680e-01  4.15018755e-01\n",
      "   7.61571372e-01  3.07214316e+00]\n",
      " [-7.04974157e+00  7.76698567e+00  1.05190076e+00  1.62135994e+00\n",
      "  -2.35296305e+00 -2.06476548e+00 -1.85722956e+00  1.72392056e+00\n",
      "   1.51774382e+00 -4.06441481e-01]\n",
      " [-4.59332501e+00 -4.71126388e+00 -3.48515046e+00 -1.11563327e+00\n",
      "   7.45583365e+00  2.80357497e+00 -1.52629682e+00 -1.75454988e-01\n",
      "   2.37041524e+00  2.93039996e+00]\n",
      " [-6.52467589e+00 -4.15877517e-01 -1.69077213e+00  5.15576354e-01\n",
      "   2.17080248e+00  1.90846153e-01 -2.53608308e+00  1.29640643e+00\n",
      "   1.11407496e+00  5.82498386e+00]\n",
      " [ 1.49305973e+00 -6.04090978e+00  3.31009881e+00 -6.09587425e+00\n",
      "   3.29786272e+00  2.55719534e+00  8.95219142e+00 -7.15836242e+00\n",
      "   1.52324372e+00 -1.99928737e+00]\n",
      " [-2.52506500e+00 -8.29311996e+00 -2.98170705e+00 -3.05804396e+00\n",
      "   4.68148398e+00  9.82490723e-02 -4.08686853e+00  4.96119256e+00\n",
      "   2.52804297e+00  8.76793144e+00]\n",
      " [ 1.01247457e+01 -8.79958962e+00  3.67704185e+00  1.43288153e+00\n",
      "  -5.98021936e+00  6.12004023e+00 -3.58555299e-01 -5.31094715e+00\n",
      "   3.53643822e+00 -4.65546450e+00]\n",
      " [-1.64632385e-01 -2.24473070e+00  2.00835644e+00 -5.74453457e-01\n",
      "  -4.70827860e-01  4.55672923e-01  5.34009557e+00 -4.51159620e+00\n",
      "   2.53393420e+00 -2.53038159e+00]\n",
      " [-2.40656823e+00 -6.97831838e+00 -1.17817261e+00 -4.59305097e-01\n",
      "   3.49559828e+00 -5.04881636e-02 -3.83031545e+00  3.14534567e+00\n",
      "   1.32099810e+00  7.06515537e+00]\n",
      " [ 9.92691908e+00 -1.11519961e+01  1.72983596e+00 -8.30425972e-01\n",
      "  -4.57763835e+00  3.71300810e+00 -3.41894296e+00 -1.19701536e+00\n",
      "   3.30054224e+00  2.32957097e+00]\n",
      " [-8.20858452e+00  9.35275164e+00  3.86159817e-01  2.82706761e+00\n",
      "  -4.20885592e+00 -9.99552245e-01 -4.77719472e-01 -3.91416513e-01\n",
      "   2.15194275e+00 -4.94599042e-01]\n",
      " [ 7.84034223e-01 -2.34769715e+00 -4.84488271e-02  2.64661993e+00\n",
      "  -2.56170298e+00  5.37471277e+00 -2.55575685e+00 -2.04591841e+00\n",
      "   2.84268637e+00 -2.25242335e+00]\n",
      " [-1.37302988e+00 -8.04143117e+00 -2.27569296e-01 -1.36715614e+00\n",
      "   3.55685323e+00 -1.36350157e+00 -3.00514737e+00  3.27869625e+00\n",
      "   1.56789593e+00  7.06091800e+00]\n",
      " [ 2.23760010e+00 -7.79206053e+00  3.04235361e+00  6.07259388e+00\n",
      "  -5.89754527e+00  5.24734347e-01 -8.12567543e+00  9.37363440e+00\n",
      "  -1.41688228e+00  2.39658480e+00]\n",
      " [-2.82549104e+00 -1.69596016e+00  2.33970711e+00  4.23015136e+00\n",
      "  -2.55282357e+00  1.19503920e+00  1.61392446e+00 -2.35207026e+00\n",
      "   1.40855280e+00 -1.50815786e+00]\n",
      " [-2.72442926e+00 -4.83594129e+00 -1.07190334e+00 -1.25836298e+00\n",
      "   7.21052717e+00  2.61929120e-01  2.51582916e-02 -1.48938656e-01\n",
      "  -3.31098307e-01  2.92649627e+00]\n",
      " [-3.18618620e+00 -5.41633815e+00 -4.24096492e+00  1.70481198e+00\n",
      "   2.38250740e+00  1.19832814e+00 -8.14314908e+00  6.15825563e+00\n",
      "   1.36357181e+00  8.26244631e+00]\n",
      " [-7.09891138e-01 -4.96743939e+00  1.52370973e+00 -1.24948249e+00\n",
      "   1.76608222e+00  2.94986973e+00  8.20222080e+00 -7.74913188e+00\n",
      "   1.61614869e+00 -1.66166635e+00]\n",
      " [-4.27314522e+00 -1.25818844e-01  1.53043361e+00 -1.79713157e+00\n",
      "   2.55793260e+00 -2.46807010e+00  5.17654138e+00  4.30587700e-01\n",
      "   1.78565168e-03 -1.04008198e+00]\n",
      " [ 1.56651723e+00 -5.45513212e+00 -5.92322504e-01 -1.05028611e-01\n",
      "   1.12667454e+00  6.30493237e+00  2.69584875e+00 -6.76624988e+00\n",
      "   1.65323536e+00 -6.91993660e-01]\n",
      " [-2.88063917e+00 -3.81957310e+00 -5.03320408e-01 -1.05386878e+00\n",
      "   5.47180418e+00 -3.49984346e-01 -8.04155538e-01  2.10186896e+00\n",
      "  -8.59529333e-01  2.78723117e+00]\n",
      " [ 1.57891461e+01 -1.73658138e+01  4.75591400e+00 -5.60619992e+00\n",
      "  -3.28965723e+00  7.39563974e+00  7.00047900e+00 -6.69817318e+00\n",
      "   2.67115281e+00 -4.89126271e+00]\n",
      " [-1.12146654e-01 -4.52995634e+00 -4.80941821e-01  1.40751101e+00\n",
      "  -1.81031080e+00  5.25136735e-01 -4.95931576e+00  7.00214231e+00\n",
      "  -9.59454492e-01  4.03652792e+00]\n",
      " [-2.19642684e+00 -7.02879051e+00 -3.38119730e-01 -2.42733804e+00\n",
      "   7.97724324e+00  7.49438161e-01 -3.84381101e-02 -8.34319455e-01\n",
      "   7.81424475e-01  3.40730997e+00]\n",
      " [ 1.22969695e+01 -1.24187189e+01  3.99361929e+00  3.42874487e+00\n",
      "  -8.55575259e+00  3.54721470e+00 -3.68451909e+00 -2.04613412e+00\n",
      "   2.98439175e+00  3.94069100e-01]\n",
      " [-5.93677851e+00  6.25588191e+00 -5.43585160e-01  1.02925603e+00\n",
      "  -2.32718499e+00  1.75059263e+00  9.05302031e-01 -1.97930763e+00\n",
      "   2.23622803e+00 -1.51365779e+00]\n",
      " [-2.26905883e+00 -2.71350900e+00 -2.07838098e+00  8.34687195e+00\n",
      "  -5.10411353e+00  3.07925007e+00 -6.21886337e+00  2.66698016e+00\n",
      "   4.66800001e-01  3.67312464e+00]\n",
      " [-5.83478723e+00  5.69139318e+00 -9.32061915e-01  1.53414914e+00\n",
      "  -1.58614181e+00  9.80832382e-02 -8.01568825e-01  2.06205362e-01\n",
      "   9.35264435e-01  6.21864420e-01]\n",
      " [-2.17541279e+00 -3.10400587e+00 -3.98049456e-01  7.95655251e+00\n",
      "  -1.40579827e+00  5.09188383e+00 -4.45496662e+00 -5.01337964e+00\n",
      "   2.67749751e+00  5.73698352e-01]\n",
      " [ 5.44778893e+00 -8.19156491e+00  3.00443929e+00 -5.39616263e+00\n",
      "   2.57007298e+00  3.64407496e+00  6.36490477e+00 -5.48107698e+00\n",
      "   8.83246963e-01 -2.94309189e+00]\n",
      " [-2.49606706e+00 -4.55865450e+00  4.31454370e+00  3.84263785e+00\n",
      "  -3.91649937e+00 -1.48874120e+00 -9.56932226e+00  9.02028340e+00\n",
      "   9.71516173e-01  4.21075691e+00]\n",
      " [ 8.49702862e-01 -1.83538602e+00  9.17151673e+00  2.76922665e+00\n",
      "  -5.90546968e+00  3.00470157e+00  2.77031543e-01 -3.95751078e+00\n",
      "   2.85426065e+00 -7.13807932e+00]\n",
      " [-4.39212058e-01 -6.46637586e+00  2.13498626e+00  4.46741593e+00\n",
      "  -4.50285358e+00  2.25382797e-01 -6.79899735e+00  7.42459258e+00\n",
      "   1.29349595e-01  4.06417678e+00]\n",
      " [-7.66761465e+00  8.21607984e+00 -6.94876736e-01  1.16932397e+00\n",
      "  -2.79229160e+00  3.67567114e-01 -3.64051105e-01 -2.63865427e-01\n",
      "   2.29463256e+00 -3.77543176e-01]\n",
      " [ 1.37850274e+00 -1.12441275e-01  5.24090800e+00  5.08177251e+00\n",
      "  -8.61279629e+00  2.08239994e+00  3.86066020e-01 -3.72217375e+00\n",
      "   2.25903680e+00 -4.02675445e+00]\n",
      " [-7.37968977e+00  8.58953228e+00  2.83075707e-01  2.11419872e+00\n",
      "  -4.43376804e+00 -1.17704405e-01 -8.02914604e-02 -2.15002187e+00\n",
      "   3.86544252e+00 -8.09750701e-01]\n",
      " [-4.43661021e+00  5.56910065e+00  4.27426871e-01  8.42273263e-01\n",
      "  -2.33659936e+00 -2.44526550e-01 -1.63103563e-01  2.39363688e-01\n",
      "   6.43978161e-01 -5.77286586e-01]\n",
      " [-2.04297382e+00 -4.74862512e+00  1.16236597e+00  2.07064981e+00\n",
      "  -2.13845398e+00 -2.31012081e-01 -5.16828863e+00  7.07379829e+00\n",
      "  -5.97505686e-01  4.79616173e+00]\n",
      " [-8.14127989e+00 -1.50960016e+00 -2.34516178e+00 -7.40690148e-01\n",
      "   7.64274141e+00 -1.75283718e+00 -3.27772947e+00  2.69503407e+00\n",
      "   2.23573841e+00  5.19689727e+00]\n",
      " [-2.06225354e+00  1.96256613e+00  5.21465321e+00  1.55456379e+00\n",
      "  -2.42666004e+00 -1.02542376e+00  4.28608154e-01 -2.15698672e+00\n",
      "   1.30950617e+00 -2.79983052e+00]\n",
      " [-3.19104411e+00  1.90837836e-01  6.40969093e-01  4.67655334e+00\n",
      "  -2.88345398e+00  2.35862056e+00  1.08193188e+00 -3.22038895e+00\n",
      "   1.08052853e+00 -8.42327596e-01]\n",
      " [ 1.66740595e+00 -4.19302219e+00 -1.88047805e+00  2.80019762e+00\n",
      "  -8.06848909e-01  5.98692076e+00 -8.55489007e-01 -6.02631765e+00\n",
      "   2.87239460e+00  1.23251756e-01]\n",
      " [-8.23236477e+00  5.31609311e+00  3.56094147e-01  3.75914237e+00\n",
      "  -1.80030237e+00  7.02161988e-01 -1.30939777e+00 -8.89934286e-01\n",
      "   1.61171685e+00  3.91498922e-01]\n",
      " [-1.49682693e+00 -1.26178528e+00  5.57560409e+00  4.99922870e-01\n",
      "   2.01721972e-01 -8.95312419e-01  3.06645373e+00 -2.61053206e+00\n",
      "  -3.42746899e-01 -2.60363126e+00]\n",
      " [-6.07066773e+00 -8.44159480e+00 -4.51217880e+00 -1.45891994e+00\n",
      "   1.11180771e+01  2.09844994e+00 -3.25926346e+00 -4.03417672e-01\n",
      "   3.94056619e+00  6.89899822e+00]\n",
      " [-2.63446620e+00 -6.77137177e+00  3.97092911e-01 -2.52865140e+00\n",
      "   8.10477963e+00 -2.55925914e+00  8.86153599e-01  5.57472833e-01\n",
      "   6.24272527e-01  4.07068932e+00]\n",
      " [ 2.83454569e+00 -5.89709261e+00  2.38161471e+00 -3.45273185e-01\n",
      "  -6.02816289e-01  2.29168971e+00  8.26248455e+00 -6.85817699e+00\n",
      "  -1.96367445e-02 -2.25603634e+00]\n",
      " [ 2.99721018e-01 -5.05230897e+00  2.39804949e+00  8.97104102e+00\n",
      "  -5.35849719e+00  2.75383200e+00 -3.31563710e+00 -8.41865513e-01\n",
      "  -9.48140028e-02  1.08278943e-01]\n",
      " [ 2.44331792e+00 -5.62396329e+00 -1.46238173e+00 -6.12046760e-01\n",
      "   1.50650988e+00  4.72492851e+00  5.29374257e-02 -2.23510463e+00\n",
      "   2.91979685e-01  7.93463446e-01]\n",
      " [ 1.55413838e-01 -3.03480644e+00 -1.62645872e+00  1.72229827e+00\n",
      "   4.85614487e-01  4.42864520e+00 -1.29104843e+00 -2.61318312e+00\n",
      "   1.75630577e+00 -2.27950862e-01]\n",
      " [-1.64093252e+00 -2.08575265e+00  4.10316656e+00 -1.18547250e+00\n",
      "   4.62324090e-01 -1.59807236e+00  7.61155347e+00 -4.42127831e+00\n",
      "   1.67917460e+00 -2.99131793e+00]\n",
      " [ 9.08226925e+00 -1.09039684e+01  1.66273520e+00  2.19715166e-01\n",
      "  -4.43858453e+00  5.04495174e+00 -8.43961217e-01 -4.79256209e+00\n",
      "   4.46217804e+00  2.80564391e-01]\n",
      " [-2.38168462e+00 -8.29442526e+00 -4.06293161e-01 -2.73320713e+00\n",
      "   9.62424390e+00  8.97151933e-01  1.45769622e+00 -1.95825845e+00\n",
      "   1.58210676e+00  2.22904810e+00]\n",
      " [-5.46898114e+00  6.39700647e+00  8.07513337e-01  1.62169548e+00\n",
      "  -2.64479956e+00 -1.43752503e+00 -1.73412519e+00  1.15105748e+00\n",
      "   1.26692652e+00  6.98657483e-04]\n",
      " [-1.53194091e+00 -7.76464478e+00 -1.62601960e+00 -1.97164461e+00\n",
      "   3.95719024e+00 -1.17996493e+00 -2.70242538e+00  4.11389932e+00\n",
      "   8.74114108e-01  7.92216939e+00]\n",
      " [ 1.73340755e+00 -2.33640829e+00 -6.71337727e-01 -1.00102908e+00\n",
      "  -2.87048981e-01  3.53451639e+00 -1.67793968e+00  1.26550008e+00\n",
      "   5.25249687e-01 -1.07821905e+00]\n",
      " [-2.26497506e+00 -4.27927383e+00  4.35647186e-01  4.45458679e+00\n",
      "  -2.77564175e+00  2.83214393e-01 -6.34064843e+00  9.08271513e+00\n",
      "  -1.42228328e+00  3.05003558e+00]\n",
      " [ 1.00920690e+00 -5.57087414e+00  4.63836292e+00 -3.48736770e+00\n",
      "  -2.41199900e+00  2.94899014e+00  1.80930602e+00 -6.24699807e+00\n",
      "   6.92479971e+00  2.66099785e-01]\n",
      " [-2.94480847e+00 -3.86034666e+00 -3.40054346e-01 -1.69784646e+00\n",
      "   3.79226969e+00  9.69957408e-01 -2.21479399e-01 -4.84494773e-01\n",
      "   1.28493657e+00  3.46605901e+00]\n",
      " [-2.50458170e+00 -5.87139715e-01  4.78231823e+00  5.19262228e+00\n",
      "  -2.31553358e+00 -2.95984673e-01 -1.67516868e+00 -3.95906749e+00\n",
      "   1.82560723e+00 -2.91515694e-01]\n",
      " [-2.54804081e+00 -6.46469180e+00  5.05630642e+00  4.21612266e+00\n",
      "  -1.38344254e+00 -1.73948212e+00 -7.52763607e+00  7.88387475e+00\n",
      "  -3.30673072e-01  3.20777458e+00]\n",
      " [-3.46373392e+00 -1.99142837e+00 -2.18167157e+00  6.24187221e-01\n",
      "   4.57048153e+00  1.83992493e+00  3.97919011e-01 -2.97278432e+00\n",
      "   6.63221342e-01  2.40536833e+00]\n",
      " [-2.13033647e+00 -6.24214491e-01  1.84701097e+00  4.59395729e-01\n",
      "   2.93092449e-01 -8.55066953e-01  2.63714534e+00  9.49002654e-01\n",
      "  -4.42571076e-01 -2.05267487e+00]\n",
      " [-2.63120693e+00 -5.26053511e+00 -2.42002442e-01 -3.10081993e+00\n",
      "   8.19627379e+00 -1.52278347e+00  9.79532269e-01  1.74895184e-01\n",
      "   7.10450417e-01  2.79876051e+00]\n",
      " [-2.65684606e+00 -3.67927125e+00 -2.27671141e-01  9.62224377e+00\n",
      "  -2.52552145e+00  3.64712040e+00 -5.66348634e+00 -4.08227884e+00\n",
      "   3.91903748e+00  1.46635735e+00]\n",
      " [ 1.03458774e+01 -8.07904735e+00  3.54291003e+00  4.42914246e-01\n",
      "  -9.67683572e+00  6.35505868e+00  1.05473820e+00 -2.48010182e+00\n",
      "   1.15410414e+00 -2.85675955e+00]\n",
      " [ 1.94448777e+00 -7.29706748e+00  1.94648341e+00  4.00812089e+00\n",
      "  -4.60355917e+00  3.23892278e-01 -7.12107887e+00  9.51325060e+00\n",
      "  -1.07408136e+00  2.72936054e+00]\n",
      " [ 1.45743769e+01 -1.27114393e+01  4.90398149e+00 -1.58905778e-01\n",
      "  -8.43213032e+00  6.80634242e+00  1.74731147e+00 -6.85257197e+00\n",
      "   4.44902944e+00 -4.63236261e+00]\n",
      " [ 4.58633659e+00 -4.63506740e+00  8.56991113e+00  5.42718438e+00\n",
      "  -6.96757559e+00  1.67154923e+00 -5.20296362e-02 -4.11462630e+00\n",
      "   1.91646984e+00 -6.27285058e+00]\n",
      " [-5.83246113e+00  9.81682466e-01 -3.82303735e-01  2.22903017e+00\n",
      "  -3.81554077e+00 -1.82825428e+00 -7.74409819e+00  5.89252382e+00\n",
      "   3.79845609e+00  6.78694631e+00]\n",
      " [-7.29030774e+00  7.71589896e+00 -5.43011372e-01  1.03591529e+00\n",
      "  -3.28889687e+00  7.78059917e-01 -2.49240710e-01 -1.12953738e+00\n",
      "   3.20783038e+00 -3.60734014e-01]\n",
      " [-6.99634298e+00  6.92679761e-01 -7.30651233e-02  1.53322304e-01\n",
      "   1.45692715e+00 -2.18745469e+00 -4.73392500e+00  8.36716584e+00\n",
      "   7.79234651e-01  2.71521455e+00]\n",
      " [-1.02661239e+00  8.93473272e-01 -5.58774224e-01  6.35728705e+00\n",
      "  -3.38785791e+00  3.51376633e+00 -3.46093658e+00 -3.87502584e+00\n",
      "   2.36554029e+00 -9.84043523e-01]\n",
      " [-2.27998964e+00 -2.15774782e+00  3.24630632e+00  2.29003417e-01\n",
      "  -2.35210209e+00 -1.19119353e-01 -9.37851391e-01  4.08974755e+00\n",
      "  -5.80173279e-01  1.00416604e+00]\n",
      " [-5.74632904e+00  8.17980807e-01 -3.55770131e+00  1.53821234e+00\n",
      "   1.44010182e+00  4.07815491e-01 -3.76281432e+00  5.63221084e-01\n",
      "   2.89553863e+00  5.34767669e+00]\n",
      " [-1.87080757e+00 -7.33956730e+00 -1.36575134e+00  2.92512629e-01\n",
      "  -3.40058018e+00  4.04459700e-01 -1.05908385e+01  1.37558209e+01\n",
      "   2.70379799e+00  7.64743006e+00]\n",
      " [-1.55992768e+00 -5.56688644e+00 -1.58818837e+00  6.21352362e-01\n",
      "   1.21245289e+00  1.30527644e+00 -4.73043734e+00  6.60003140e+00\n",
      "  -1.44710114e+00  5.23535715e+00]\n",
      " [ 1.25414809e+00 -7.54705555e+00  3.51985711e+00 -2.77461056e+00\n",
      "   1.48511956e+00  2.17635847e+00  8.28126713e+00 -4.78169604e+00\n",
      "   5.55594873e-02 -1.76963852e+00]\n",
      " [-1.01426729e+00 -3.11600728e+00  1.32191673e+01  2.69693299e+00\n",
      "  -3.83583893e+00 -2.43630966e+00  2.47682674e+00 -5.03564056e+00\n",
      "   2.99699644e+00 -5.66504722e+00]\n",
      " [-1.03575330e+00 -5.76985385e+00 -7.94135183e-01  1.28998254e+00\n",
      "  -4.66529673e-01  4.26352253e-01 -6.04619148e+00  8.28397250e+00\n",
      "  -7.32837299e-01  4.99335565e+00]\n",
      " [-3.34553961e+00 -1.97314663e+00 -5.06578571e-01 -2.34091873e+00\n",
      "   2.39340628e+00  4.25397531e+00 -7.74848599e-01 -4.50727991e+00\n",
      "   6.10344659e+00  4.41415293e-01]\n",
      " [-5.32569478e+00 -7.48040763e+00 -3.88098935e+00 -2.02531353e+00\n",
      "   1.21205648e+01  9.67612046e-01  3.26553350e-01 -2.41981293e+00\n",
      "   3.00084337e+00  4.61047370e+00]\n",
      " [-5.42546044e+00 -2.13241454e+00  1.99791125e+00  1.80028208e+00\n",
      "  -3.36439385e+00 -1.89938117e+00 -8.17733856e+00  1.13923324e+01\n",
      "   1.38763858e+00  4.64414724e+00]\n",
      " [-7.15578888e-01 -4.59980626e+00 -2.36512163e+00  5.24999632e+00\n",
      "  -7.25651803e-01  4.97272286e+00 -5.22718334e-01 -1.85430982e+00\n",
      "   6.96395181e-02  2.19203113e-01]\n",
      " [-1.09693818e+00 -6.41098719e+00  3.96460192e+00 -3.23985313e+00\n",
      "   3.89113900e+00 -6.97755504e-01  9.97498395e+00 -4.07457075e+00\n",
      "  -6.35313697e-01 -1.67004311e+00]\n",
      " [-7.58141285e+00  8.27861727e+00  1.76846026e+00  1.01654547e+00\n",
      "  -2.07459807e+00 -1.17629228e+00  8.20560588e-01 -6.95097343e-01\n",
      "   1.86489007e+00 -2.29347780e+00]\n",
      " [ 6.93659575e-01 -2.29974592e+00  4.07777180e-01  9.41672196e+00\n",
      "  -6.34535270e+00  3.53054900e+00 -8.48977815e+00 -2.78678692e-01\n",
      "   2.37082713e+00  8.83815097e-01]\n",
      " [-3.28447482e+00 -1.94095730e+00  2.68163111e+00 -2.51112651e+00\n",
      "   1.79494210e+00  6.69590387e-01  1.00010377e+01 -6.00320724e+00\n",
      "   4.69887917e-01 -2.02348249e+00]\n",
      " [-3.71464195e+00 -9.86508559e-01 -3.71338325e-01 -5.47138300e-01\n",
      "   2.98175391e+00  2.20797288e-02 -1.06972216e+00 -3.17374048e-01\n",
      "   1.31921474e+00  2.72121733e+00]\n",
      " [-1.16884489e+00 -4.08221620e+00 -1.34127499e+00  9.51976623e+00\n",
      "  -6.98132650e+00  4.39560074e+00 -8.53019494e+00  2.12389580e+00\n",
      "   2.36873555e+00  3.57729679e+00]\n",
      " [-1.05523918e+01  8.76629204e+00  4.37200457e-01  1.57239947e+00\n",
      "  -2.29591986e+00  5.80161255e-01  1.08968168e+00 -2.39592444e+00\n",
      "   3.84258968e+00 -1.17218834e+00]\n",
      " [-5.76688102e+00 -4.96900470e+00 -8.83713800e-01 -5.62501974e+00\n",
      "   9.75123965e+00 -1.93049931e+00  3.38947359e+00  1.56025361e-01\n",
      "   1.71684969e+00  4.22163254e+00]\n",
      " [-6.04401341e+00  4.34518327e+00 -1.53357584e+00  1.39919424e+00\n",
      "  -6.98303651e-01  8.99249420e-01 -1.47156954e+00  1.92700055e-01\n",
      "   1.40082863e+00  1.41754561e+00]\n",
      " [-7.31462364e+00  1.02026510e+00  1.27406422e+00  2.12588861e+00\n",
      "  -2.46615514e+00 -6.11859970e-01 -3.05284524e+00  4.95337306e+00\n",
      "   1.71150838e+00  2.32270581e+00]\n",
      " [ 3.50755166e+00 -5.34589135e+00  4.01796531e+00 -4.38920778e+00\n",
      "  -2.18969641e-01  4.28397216e+00  9.17869618e+00 -7.30474257e+00\n",
      "   1.16016126e+00 -5.13018197e+00]\n",
      " [-5.65697287e+00 -6.86073678e+00 -4.10988191e-01 -7.21581012e-01\n",
      "   4.05457447e+00 -3.41346922e+00 -4.96207580e+00  5.32981799e+00\n",
      "   2.02883503e+00  1.06904543e+01]]\n"
     ]
    }
   ],
   "source": [
    "y_hat = network.predict(x_test[0:100])\n",
    "print(y_hat)"
   ]
  },
  {
   "cell_type": "markdown",
   "metadata": {},
   "source": [
    "### Testing the Prediction"
   ]
  },
  {
   "cell_type": "code",
   "execution_count": 14,
   "metadata": {},
   "outputs": [
    {
     "name": "stdout",
     "output_type": "stream",
     "text": [
      "Predicted_Digit 0\n"
     ]
    },
    {
     "data": {
      "image/png": "[encoded data removed]",
      "text/plain": [
       "<Figure size 640x480 with 1 Axes>"
      ]
     },
     "metadata": {},
     "output_type": "display_data"
    }
   ],
   "source": [
    "\n",
    "plt.imshow(x_test[10].reshape(28,28))\n",
    "print('Predicted_Digit',np.argmax(y_hat[10]))"
   ]
  },
  {
   "cell_type": "markdown",
   "metadata": {},
   "source": [
    "### Validating the Result"
   ]
  },
  {
   "cell_type": "code",
   "execution_count": 15,
   "metadata": {},
   "outputs": [
    {
     "name": "stdout",
     "output_type": "stream",
     "text": [
      "Data\\0\\0_1.jpg\n",
      "0\n",
      "Data\\0\\0_2.jpg\n",
      "0\n",
      "Data\\0\\0_3.jpg\n",
      "0\n",
      "Data\\0\\0_4.jpg\n",
      "2\n",
      "Data\\0\\0_5.jpg\n",
      "0\n",
      "Data\\1\\1_1.jpg\n",
      "5\n",
      "Data\\1\\1_2.jpg\n",
      "1\n",
      "Data\\1\\1_3.jpg\n",
      "1\n",
      "Data\\1\\1_4.jpg\n",
      "1\n",
      "Data\\1\\1_5.jpg\n",
      "1\n",
      "Data\\2\\2_1.jpg\n",
      "2\n",
      "Data\\2\\2_2.jpg\n",
      "4\n",
      "Data\\2\\2_3.jpg\n",
      "5\n",
      "Data\\2\\2_4.jpg\n",
      "6\n",
      "Data\\2\\2_5.jpg\n",
      "2\n",
      "Data\\3\\3_1.jpg\n",
      "1\n",
      "Data\\3\\3_2.jpg\n",
      "7\n",
      "Data\\3\\3_3.jpg\n",
      "1\n",
      "Data\\3\\3_4.jpg\n",
      "9\n",
      "Data\\3\\3_5.jpg\n",
      "5\n",
      "Data\\4\\4_1.jpg\n",
      "1\n",
      "Data\\4\\4_2.jpg\n",
      "4\n",
      "Data\\4\\4_3.jpg\n",
      "9\n",
      "Data\\4\\4_4.jpg\n",
      "9\n",
      "Data\\4\\4_5.jpg\n",
      "1\n",
      "Data\\5\\5_1.jpg\n",
      "5\n",
      "Data\\5\\5_2.jpg\n",
      "1\n",
      "Data\\5\\5_3.jpg\n",
      "8\n",
      "Data\\5\\5_4.jpg\n",
      "5\n",
      "Data\\5\\5_5.jpg\n",
      "8\n",
      "Data\\6\\6_1.jpg\n",
      "6\n",
      "Data\\6\\6_2.jpg\n",
      "6\n",
      "Data\\6\\6_3.jpg\n",
      "6\n",
      "Data\\6\\6_4.jpg\n",
      "6\n",
      "Data\\6\\6_5.jpg\n",
      "6\n",
      "Data\\7\\7_1.jpg\n",
      "1\n",
      "Data\\7\\7_2.jpg\n",
      "7\n",
      "Data\\7\\7_3.jpg\n",
      "3\n",
      "Data\\7\\7_4.jpg\n",
      "7\n",
      "Data\\7\\7_5.jpg\n",
      "1\n",
      "Data\\8\\8_1.jpg\n",
      "5\n",
      "Data\\8\\8_2.jpg\n",
      "1\n",
      "Data\\8\\8_3.jpg\n",
      "5\n",
      "Data\\8\\8_4.jpg\n",
      "1\n",
      "Data\\8\\8_5.jpg\n",
      "0\n",
      "Data\\9\\9_1.jpg\n",
      "7\n",
      "Data\\9\\9_2.jpg\n",
      "7\n",
      "Data\\9\\9_3.jpg\n",
      "7\n",
      "Data\\9\\9_4.jpg\n",
      "7\n",
      "Data\\9\\9_5.jpg\n",
      "7\n",
      "   Filename  Actual Digit  Predicted Digit   Status\n",
      "0   0_1.jpg             0                0  Success\n",
      "1   0_2.jpg             0                0  Success\n",
      "2   0_3.jpg             0                0  Success\n",
      "3   0_4.jpg             0                2     Fail\n",
      "4   0_5.jpg             0                0  Success\n",
      "5   1_1.jpg             1                5     Fail\n",
      "6   1_2.jpg             1                1  Success\n",
      "7   1_3.jpg             1                1  Success\n",
      "8   1_4.jpg             1                1  Success\n",
      "9   1_5.jpg             1                1  Success\n",
      "10  2_1.jpg             2                2  Success\n",
      "11  2_2.jpg             2                4     Fail\n",
      "12  2_3.jpg             2                5     Fail\n",
      "13  2_4.jpg             2                6     Fail\n",
      "14  2_5.jpg             2                2  Success\n",
      "15  3_1.jpg             3                1     Fail\n",
      "16  3_2.jpg             3                7     Fail\n",
      "17  3_3.jpg             3                1     Fail\n",
      "18  3_4.jpg             3                9     Fail\n",
      "19  3_5.jpg             3                5     Fail\n",
      "20  4_1.jpg             4                1     Fail\n",
      "21  4_2.jpg             4                4  Success\n",
      "22  4_3.jpg             4                9     Fail\n",
      "23  4_4.jpg             4                9     Fail\n",
      "24  4_5.jpg             4                1     Fail\n",
      "25  5_1.jpg             5                5  Success\n",
      "26  5_2.jpg             5                1     Fail\n",
      "27  5_3.jpg             5                8     Fail\n",
      "28  5_4.jpg             5                5  Success\n",
      "29  5_5.jpg             5                8     Fail\n",
      "30  6_1.jpg             6                6  Success\n",
      "31  6_2.jpg             6                6  Success\n",
      "32  6_3.jpg             6                6  Success\n",
      "33  6_4.jpg             6                6  Success\n",
      "34  6_5.jpg             6                6  Success\n",
      "35  7_1.jpg             7                1     Fail\n",
      "36  7_2.jpg             7                7  Success\n",
      "37  7_3.jpg             7                3     Fail\n",
      "38  7_4.jpg             7                7  Success\n",
      "39  7_5.jpg             7                1     Fail\n",
      "40  8_1.jpg             8                5     Fail\n",
      "41  8_2.jpg             8                1     Fail\n",
      "42  8_3.jpg             8                5     Fail\n",
      "43  8_4.jpg             8                1     Fail\n",
      "44  8_5.jpg             8                0     Fail\n",
      "45  9_1.jpg             9                7     Fail\n",
      "46  9_2.jpg             9                7     Fail\n",
      "47  9_3.jpg             9                7     Fail\n",
      "48  9_4.jpg             9                7     Fail\n",
      "49  9_5.jpg             9                7     Fail\n"
     ]
    }
   ],
   "source": [
    "import os\n",
    "import pandas as pd\n",
    "import subprocess\n",
    "import cv2\n",
    "# Define the base directory where your images are stored\n",
    "base_dir = 'Data'\n",
    "\n",
    "# Initialize a list to store results\n",
    "results = []\n",
    "\n",
    "# Loop over each digit (0-9)\n",
    "for digit in range(10):\n",
    "    digit_dir = os.path.join(base_dir, str(digit))\n",
    "    \n",
    "    # Check if the directory exists\n",
    "    if os.path.isdir(digit_dir):\n",
    "        # Loop over each image in the digit directory\n",
    "        for filename in os.listdir(digit_dir):\n",
    "            if filename.endswith('.jpg'):\n",
    "                image_path = os.path.join(digit_dir, filename)\n",
    "                print(image_path)\n",
    "                # Run module5-3.py with the image and digit as arguments using subprocess\n",
    "                image = cv2.imread(image_path, cv2.IMREAD_GRAYSCALE)\n",
    "                image = cv2.bitwise_not(image)\n",
    "                kernel = np.array([[0, -1, 0], [-1, 5, -1], [0, -1, 0]])\n",
    "                image = cv2.filter2D(image, -1, kernel)\n",
    "\n",
    "                # Resize and normalize\n",
    "                image = cv2.resize(image, (28, 28))\n",
    "                image = image.reshape(1, 28 * 28).astype(np.float32) / 255.0    \n",
    "                result = np.argmax(network.predict(image))\n",
    "                print(result)\n",
    "                # Process the output to extract predicted digit and result status\n",
    "                \n",
    "                # Check if the prediction was successful or failed\n",
    "                if result == int(image_path.split('\\\\')[-2]) :\n",
    "                    status = \"Success\"\n",
    "                    predicted_digit = digit  \n",
    "                else:\n",
    "                    status = \"Fail\"\n",
    "                    # Extract predicted digit from the output message and strip any punctuation\n",
    "                    predicted_digit = result\n",
    "\n",
    "                \n",
    "                # Append the result to the list\n",
    "                results.append({\n",
    "                    \"Filename\": filename,\n",
    "                    \"Actual Digit\": digit,\n",
    "                    \"Predicted Digit\": predicted_digit,\n",
    "                    \"Status\": status\n",
    "                })\n",
    "\n",
    "# Convert the list of results to a DataFrame\n",
    "df_results = pd.DataFrame(results)\n",
    "\n",
    "# Display the DataFrame\n",
    "print(df_results)\n",
    "\n",
    "#save the DataFrame to a CSV file\n",
    "df_results.to_csv(\"prediction_results.csv\", index=False)\n"
   ]
  },
  {
   "cell_type": "code",
   "execution_count": 16,
   "metadata": {},
   "outputs": [
    {
     "data": {
      "text/plain": [
       "Status\n",
       "Fail       30\n",
       "Success    20\n",
       "Name: count, dtype: int64"
      ]
     },
     "execution_count": 16,
     "metadata": {},
     "output_type": "execute_result"
    }
   ],
   "source": [
    "df_results.Status.value_counts()"
   ]
  },
  {
   "cell_type": "markdown",
   "metadata": {},
   "source": [
    "## Validating the results using subprocess "
   ]
  },
  {
   "cell_type": "code",
   "execution_count": 17,
   "metadata": {},
   "outputs": [
    {
     "name": "stdout",
     "output_type": "stream",
     "text": [
      "Data\\0\\0_1.jpg\n",
      "CompletedProcess(args=['python', 'module6.py', 'Data\\\\0\\\\0_1.jpg', '0'], returncode=0, stdout='Figure(640x480)\\nSuccess: Image Data\\\\0\\\\0_1.jpg for digit 0 is recognized as 0.\\n', stderr='')\n",
      "Figure(640x480)\n",
      "Success: Image Data\\0\\0_1.jpg for digit 0 is recognized as 0.\n",
      "Data\\0\\0_2.jpg\n",
      "CompletedProcess(args=['python', 'module6.py', 'Data\\\\0\\\\0_2.jpg', '0'], returncode=0, stdout='Figure(640x480)\\nSuccess: Image Data\\\\0\\\\0_2.jpg for digit 0 is recognized as 0.\\n', stderr='')\n",
      "Figure(640x480)\n",
      "Success: Image Data\\0\\0_2.jpg for digit 0 is recognized as 0.\n",
      "Data\\0\\0_3.jpg\n",
      "CompletedProcess(args=['python', 'module6.py', 'Data\\\\0\\\\0_3.jpg', '0'], returncode=0, stdout='Figure(640x480)\\nSuccess: Image Data\\\\0\\\\0_3.jpg for digit 0 is recognized as 0.\\n', stderr='')\n",
      "Figure(640x480)\n",
      "Success: Image Data\\0\\0_3.jpg for digit 0 is recognized as 0.\n",
      "Data\\0\\0_4.jpg\n",
      "CompletedProcess(args=['python', 'module6.py', 'Data\\\\0\\\\0_4.jpg', '0'], returncode=0, stdout='Figure(640x480)\\nFail: Image Data\\\\0\\\\0_4.jpg is for digit 0 but the inference result is 2.\\n', stderr='')\n",
      "Figure(640x480)\n",
      "Fail: Image Data\\0\\0_4.jpg is for digit 0 but the inference result is 2.\n",
      "Data\\0\\0_5.jpg\n",
      "CompletedProcess(args=['python', 'module6.py', 'Data\\\\0\\\\0_5.jpg', '0'], returncode=0, stdout='Figure(640x480)\\nSuccess: Image Data\\\\0\\\\0_5.jpg for digit 0 is recognized as 0.\\n', stderr='')\n",
      "Figure(640x480)\n",
      "Success: Image Data\\0\\0_5.jpg for digit 0 is recognized as 0.\n",
      "Data\\1\\1_1.jpg\n",
      "CompletedProcess(args=['python', 'module6.py', 'Data\\\\1\\\\1_1.jpg', '1'], returncode=0, stdout='Figure(640x480)\\nFail: Image Data\\\\1\\\\1_1.jpg is for digit 1 but the inference result is 5.\\n', stderr='')\n",
      "Figure(640x480)\n",
      "Fail: Image Data\\1\\1_1.jpg is for digit 1 but the inference result is 5.\n",
      "Data\\1\\1_2.jpg\n",
      "CompletedProcess(args=['python', 'module6.py', 'Data\\\\1\\\\1_2.jpg', '1'], returncode=0, stdout='Figure(640x480)\\nSuccess: Image Data\\\\1\\\\1_2.jpg for digit 1 is recognized as 1.\\n', stderr='')\n",
      "Figure(640x480)\n",
      "Success: Image Data\\1\\1_2.jpg for digit 1 is recognized as 1.\n",
      "Data\\1\\1_3.jpg\n",
      "CompletedProcess(args=['python', 'module6.py', 'Data\\\\1\\\\1_3.jpg', '1'], returncode=0, stdout='Figure(640x480)\\nSuccess: Image Data\\\\1\\\\1_3.jpg for digit 1 is recognized as 1.\\n', stderr='')\n",
      "Figure(640x480)\n",
      "Success: Image Data\\1\\1_3.jpg for digit 1 is recognized as 1.\n",
      "Data\\1\\1_4.jpg\n",
      "CompletedProcess(args=['python', 'module6.py', 'Data\\\\1\\\\1_4.jpg', '1'], returncode=0, stdout='Figure(640x480)\\nSuccess: Image Data\\\\1\\\\1_4.jpg for digit 1 is recognized as 1.\\n', stderr='')\n",
      "Figure(640x480)\n",
      "Success: Image Data\\1\\1_4.jpg for digit 1 is recognized as 1.\n",
      "Data\\1\\1_5.jpg\n",
      "CompletedProcess(args=['python', 'module6.py', 'Data\\\\1\\\\1_5.jpg', '1'], returncode=0, stdout='Figure(640x480)\\nSuccess: Image Data\\\\1\\\\1_5.jpg for digit 1 is recognized as 1.\\n', stderr='')\n",
      "Figure(640x480)\n",
      "Success: Image Data\\1\\1_5.jpg for digit 1 is recognized as 1.\n",
      "Data\\2\\2_1.jpg\n",
      "CompletedProcess(args=['python', 'module6.py', 'Data\\\\2\\\\2_1.jpg', '2'], returncode=0, stdout='Figure(640x480)\\nSuccess: Image Data\\\\2\\\\2_1.jpg for digit 2 is recognized as 2.\\n', stderr='')\n",
      "Figure(640x480)\n",
      "Success: Image Data\\2\\2_1.jpg for digit 2 is recognized as 2.\n",
      "Data\\2\\2_2.jpg\n",
      "CompletedProcess(args=['python', 'module6.py', 'Data\\\\2\\\\2_2.jpg', '2'], returncode=0, stdout='Figure(640x480)\\nFail: Image Data\\\\2\\\\2_2.jpg is for digit 2 but the inference result is 4.\\n', stderr='')\n",
      "Figure(640x480)\n",
      "Fail: Image Data\\2\\2_2.jpg is for digit 2 but the inference result is 4.\n",
      "Data\\2\\2_3.jpg\n",
      "CompletedProcess(args=['python', 'module6.py', 'Data\\\\2\\\\2_3.jpg', '2'], returncode=0, stdout='Figure(640x480)\\nFail: Image Data\\\\2\\\\2_3.jpg is for digit 2 but the inference result is 5.\\n', stderr='')\n",
      "Figure(640x480)\n",
      "Fail: Image Data\\2\\2_3.jpg is for digit 2 but the inference result is 5.\n",
      "Data\\2\\2_4.jpg\n",
      "CompletedProcess(args=['python', 'module6.py', 'Data\\\\2\\\\2_4.jpg', '2'], returncode=0, stdout='Figure(640x480)\\nFail: Image Data\\\\2\\\\2_4.jpg is for digit 2 but the inference result is 6.\\n', stderr='')\n",
      "Figure(640x480)\n",
      "Fail: Image Data\\2\\2_4.jpg is for digit 2 but the inference result is 6.\n",
      "Data\\2\\2_5.jpg\n",
      "CompletedProcess(args=['python', 'module6.py', 'Data\\\\2\\\\2_5.jpg', '2'], returncode=0, stdout='Figure(640x480)\\nSuccess: Image Data\\\\2\\\\2_5.jpg for digit 2 is recognized as 2.\\n', stderr='')\n",
      "Figure(640x480)\n",
      "Success: Image Data\\2\\2_5.jpg for digit 2 is recognized as 2.\n",
      "Data\\3\\3_1.jpg\n",
      "CompletedProcess(args=['python', 'module6.py', 'Data\\\\3\\\\3_1.jpg', '3'], returncode=0, stdout='Figure(640x480)\\nFail: Image Data\\\\3\\\\3_1.jpg is for digit 3 but the inference result is 1.\\n', stderr='')\n",
      "Figure(640x480)\n",
      "Fail: Image Data\\3\\3_1.jpg is for digit 3 but the inference result is 1.\n",
      "Data\\3\\3_2.jpg\n",
      "CompletedProcess(args=['python', 'module6.py', 'Data\\\\3\\\\3_2.jpg', '3'], returncode=0, stdout='Figure(640x480)\\nFail: Image Data\\\\3\\\\3_2.jpg is for digit 3 but the inference result is 7.\\n', stderr='')\n",
      "Figure(640x480)\n",
      "Fail: Image Data\\3\\3_2.jpg is for digit 3 but the inference result is 7.\n",
      "Data\\3\\3_3.jpg\n",
      "CompletedProcess(args=['python', 'module6.py', 'Data\\\\3\\\\3_3.jpg', '3'], returncode=0, stdout='Figure(640x480)\\nFail: Image Data\\\\3\\\\3_3.jpg is for digit 3 but the inference result is 1.\\n', stderr='')\n",
      "Figure(640x480)\n",
      "Fail: Image Data\\3\\3_3.jpg is for digit 3 but the inference result is 1.\n",
      "Data\\3\\3_4.jpg\n",
      "CompletedProcess(args=['python', 'module6.py', 'Data\\\\3\\\\3_4.jpg', '3'], returncode=0, stdout='Figure(640x480)\\nFail: Image Data\\\\3\\\\3_4.jpg is for digit 3 but the inference result is 9.\\n', stderr='')\n",
      "Figure(640x480)\n",
      "Fail: Image Data\\3\\3_4.jpg is for digit 3 but the inference result is 9.\n",
      "Data\\3\\3_5.jpg\n",
      "CompletedProcess(args=['python', 'module6.py', 'Data\\\\3\\\\3_5.jpg', '3'], returncode=0, stdout='Figure(640x480)\\nFail: Image Data\\\\3\\\\3_5.jpg is for digit 3 but the inference result is 5.\\n', stderr='')\n",
      "Figure(640x480)\n",
      "Fail: Image Data\\3\\3_5.jpg is for digit 3 but the inference result is 5.\n",
      "Data\\4\\4_1.jpg\n",
      "CompletedProcess(args=['python', 'module6.py', 'Data\\\\4\\\\4_1.jpg', '4'], returncode=0, stdout='Figure(640x480)\\nFail: Image Data\\\\4\\\\4_1.jpg is for digit 4 but the inference result is 1.\\n', stderr='')\n",
      "Figure(640x480)\n",
      "Fail: Image Data\\4\\4_1.jpg is for digit 4 but the inference result is 1.\n",
      "Data\\4\\4_2.jpg\n",
      "CompletedProcess(args=['python', 'module6.py', 'Data\\\\4\\\\4_2.jpg', '4'], returncode=0, stdout='Figure(640x480)\\nSuccess: Image Data\\\\4\\\\4_2.jpg for digit 4 is recognized as 4.\\n', stderr='')\n",
      "Figure(640x480)\n",
      "Success: Image Data\\4\\4_2.jpg for digit 4 is recognized as 4.\n",
      "Data\\4\\4_3.jpg\n",
      "CompletedProcess(args=['python', 'module6.py', 'Data\\\\4\\\\4_3.jpg', '4'], returncode=0, stdout='Figure(640x480)\\nFail: Image Data\\\\4\\\\4_3.jpg is for digit 4 but the inference result is 9.\\n', stderr='')\n",
      "Figure(640x480)\n",
      "Fail: Image Data\\4\\4_3.jpg is for digit 4 but the inference result is 9.\n",
      "Data\\4\\4_4.jpg\n",
      "CompletedProcess(args=['python', 'module6.py', 'Data\\\\4\\\\4_4.jpg', '4'], returncode=0, stdout='Figure(640x480)\\nFail: Image Data\\\\4\\\\4_4.jpg is for digit 4 but the inference result is 9.\\n', stderr='')\n",
      "Figure(640x480)\n",
      "Fail: Image Data\\4\\4_4.jpg is for digit 4 but the inference result is 9.\n",
      "Data\\4\\4_5.jpg\n",
      "CompletedProcess(args=['python', 'module6.py', 'Data\\\\4\\\\4_5.jpg', '4'], returncode=0, stdout='Figure(640x480)\\nFail: Image Data\\\\4\\\\4_5.jpg is for digit 4 but the inference result is 1.\\n', stderr='')\n",
      "Figure(640x480)\n",
      "Fail: Image Data\\4\\4_5.jpg is for digit 4 but the inference result is 1.\n",
      "Data\\5\\5_1.jpg\n",
      "CompletedProcess(args=['python', 'module6.py', 'Data\\\\5\\\\5_1.jpg', '5'], returncode=0, stdout='Figure(640x480)\\nSuccess: Image Data\\\\5\\\\5_1.jpg for digit 5 is recognized as 5.\\n', stderr='')\n",
      "Figure(640x480)\n",
      "Success: Image Data\\5\\5_1.jpg for digit 5 is recognized as 5.\n",
      "Data\\5\\5_2.jpg\n",
      "CompletedProcess(args=['python', 'module6.py', 'Data\\\\5\\\\5_2.jpg', '5'], returncode=0, stdout='Figure(640x480)\\nFail: Image Data\\\\5\\\\5_2.jpg is for digit 5 but the inference result is 1.\\n', stderr='')\n",
      "Figure(640x480)\n",
      "Fail: Image Data\\5\\5_2.jpg is for digit 5 but the inference result is 1.\n",
      "Data\\5\\5_3.jpg\n",
      "CompletedProcess(args=['python', 'module6.py', 'Data\\\\5\\\\5_3.jpg', '5'], returncode=0, stdout='Figure(640x480)\\nFail: Image Data\\\\5\\\\5_3.jpg is for digit 5 but the inference result is 8.\\n', stderr='')\n",
      "Figure(640x480)\n",
      "Fail: Image Data\\5\\5_3.jpg is for digit 5 but the inference result is 8.\n",
      "Data\\5\\5_4.jpg\n",
      "CompletedProcess(args=['python', 'module6.py', 'Data\\\\5\\\\5_4.jpg', '5'], returncode=0, stdout='Figure(640x480)\\nSuccess: Image Data\\\\5\\\\5_4.jpg for digit 5 is recognized as 5.\\n', stderr='')\n",
      "Figure(640x480)\n",
      "Success: Image Data\\5\\5_4.jpg for digit 5 is recognized as 5.\n",
      "Data\\5\\5_5.jpg\n",
      "CompletedProcess(args=['python', 'module6.py', 'Data\\\\5\\\\5_5.jpg', '5'], returncode=0, stdout='Figure(640x480)\\nFail: Image Data\\\\5\\\\5_5.jpg is for digit 5 but the inference result is 8.\\n', stderr='')\n",
      "Figure(640x480)\n",
      "Fail: Image Data\\5\\5_5.jpg is for digit 5 but the inference result is 8.\n",
      "Data\\6\\6_1.jpg\n",
      "CompletedProcess(args=['python', 'module6.py', 'Data\\\\6\\\\6_1.jpg', '6'], returncode=0, stdout='Figure(640x480)\\nSuccess: Image Data\\\\6\\\\6_1.jpg for digit 6 is recognized as 6.\\n', stderr='')\n",
      "Figure(640x480)\n",
      "Success: Image Data\\6\\6_1.jpg for digit 6 is recognized as 6.\n",
      "Data\\6\\6_2.jpg\n",
      "CompletedProcess(args=['python', 'module6.py', 'Data\\\\6\\\\6_2.jpg', '6'], returncode=0, stdout='Figure(640x480)\\nSuccess: Image Data\\\\6\\\\6_2.jpg for digit 6 is recognized as 6.\\n', stderr='')\n",
      "Figure(640x480)\n",
      "Success: Image Data\\6\\6_2.jpg for digit 6 is recognized as 6.\n",
      "Data\\6\\6_3.jpg\n",
      "CompletedProcess(args=['python', 'module6.py', 'Data\\\\6\\\\6_3.jpg', '6'], returncode=0, stdout='Figure(640x480)\\nSuccess: Image Data\\\\6\\\\6_3.jpg for digit 6 is recognized as 6.\\n', stderr='')\n",
      "Figure(640x480)\n",
      "Success: Image Data\\6\\6_3.jpg for digit 6 is recognized as 6.\n",
      "Data\\6\\6_4.jpg\n",
      "CompletedProcess(args=['python', 'module6.py', 'Data\\\\6\\\\6_4.jpg', '6'], returncode=0, stdout='Figure(640x480)\\nSuccess: Image Data\\\\6\\\\6_4.jpg for digit 6 is recognized as 6.\\n', stderr='')\n",
      "Figure(640x480)\n",
      "Success: Image Data\\6\\6_4.jpg for digit 6 is recognized as 6.\n",
      "Data\\6\\6_5.jpg\n",
      "CompletedProcess(args=['python', 'module6.py', 'Data\\\\6\\\\6_5.jpg', '6'], returncode=0, stdout='Figure(640x480)\\nSuccess: Image Data\\\\6\\\\6_5.jpg for digit 6 is recognized as 6.\\n', stderr='')\n",
      "Figure(640x480)\n",
      "Success: Image Data\\6\\6_5.jpg for digit 6 is recognized as 6.\n",
      "Data\\7\\7_1.jpg\n",
      "CompletedProcess(args=['python', 'module6.py', 'Data\\\\7\\\\7_1.jpg', '7'], returncode=0, stdout='Figure(640x480)\\nFail: Image Data\\\\7\\\\7_1.jpg is for digit 7 but the inference result is 1.\\n', stderr='')\n",
      "Figure(640x480)\n",
      "Fail: Image Data\\7\\7_1.jpg is for digit 7 but the inference result is 1.\n",
      "Data\\7\\7_2.jpg\n",
      "CompletedProcess(args=['python', 'module6.py', 'Data\\\\7\\\\7_2.jpg', '7'], returncode=0, stdout='Figure(640x480)\\nSuccess: Image Data\\\\7\\\\7_2.jpg for digit 7 is recognized as 7.\\n', stderr='')\n",
      "Figure(640x480)\n",
      "Success: Image Data\\7\\7_2.jpg for digit 7 is recognized as 7.\n",
      "Data\\7\\7_3.jpg\n",
      "CompletedProcess(args=['python', 'module6.py', 'Data\\\\7\\\\7_3.jpg', '7'], returncode=0, stdout='Figure(640x480)\\nFail: Image Data\\\\7\\\\7_3.jpg is for digit 7 but the inference result is 3.\\n', stderr='')\n",
      "Figure(640x480)\n",
      "Fail: Image Data\\7\\7_3.jpg is for digit 7 but the inference result is 3.\n",
      "Data\\7\\7_4.jpg\n",
      "CompletedProcess(args=['python', 'module6.py', 'Data\\\\7\\\\7_4.jpg', '7'], returncode=0, stdout='Figure(640x480)\\nSuccess: Image Data\\\\7\\\\7_4.jpg for digit 7 is recognized as 7.\\n', stderr='')\n",
      "Figure(640x480)\n",
      "Success: Image Data\\7\\7_4.jpg for digit 7 is recognized as 7.\n",
      "Data\\7\\7_5.jpg\n",
      "CompletedProcess(args=['python', 'module6.py', 'Data\\\\7\\\\7_5.jpg', '7'], returncode=0, stdout='Figure(640x480)\\nFail: Image Data\\\\7\\\\7_5.jpg is for digit 7 but the inference result is 1.\\n', stderr='')\n",
      "Figure(640x480)\n",
      "Fail: Image Data\\7\\7_5.jpg is for digit 7 but the inference result is 1.\n",
      "Data\\8\\8_1.jpg\n",
      "CompletedProcess(args=['python', 'module6.py', 'Data\\\\8\\\\8_1.jpg', '8'], returncode=0, stdout='Figure(640x480)\\nFail: Image Data\\\\8\\\\8_1.jpg is for digit 8 but the inference result is 5.\\n', stderr='')\n",
      "Figure(640x480)\n",
      "Fail: Image Data\\8\\8_1.jpg is for digit 8 but the inference result is 5.\n",
      "Data\\8\\8_2.jpg\n",
      "CompletedProcess(args=['python', 'module6.py', 'Data\\\\8\\\\8_2.jpg', '8'], returncode=0, stdout='Figure(640x480)\\nFail: Image Data\\\\8\\\\8_2.jpg is for digit 8 but the inference result is 1.\\n', stderr='')\n",
      "Figure(640x480)\n",
      "Fail: Image Data\\8\\8_2.jpg is for digit 8 but the inference result is 1.\n",
      "Data\\8\\8_3.jpg\n",
      "CompletedProcess(args=['python', 'module6.py', 'Data\\\\8\\\\8_3.jpg', '8'], returncode=0, stdout='Figure(640x480)\\nFail: Image Data\\\\8\\\\8_3.jpg is for digit 8 but the inference result is 5.\\n', stderr='')\n",
      "Figure(640x480)\n",
      "Fail: Image Data\\8\\8_3.jpg is for digit 8 but the inference result is 5.\n",
      "Data\\8\\8_4.jpg\n",
      "CompletedProcess(args=['python', 'module6.py', 'Data\\\\8\\\\8_4.jpg', '8'], returncode=0, stdout='Figure(640x480)\\nFail: Image Data\\\\8\\\\8_4.jpg is for digit 8 but the inference result is 1.\\n', stderr='')\n",
      "Figure(640x480)\n",
      "Fail: Image Data\\8\\8_4.jpg is for digit 8 but the inference result is 1.\n",
      "Data\\8\\8_5.jpg\n",
      "CompletedProcess(args=['python', 'module6.py', 'Data\\\\8\\\\8_5.jpg', '8'], returncode=0, stdout='Figure(640x480)\\nFail: Image Data\\\\8\\\\8_5.jpg is for digit 8 but the inference result is 0.\\n', stderr='')\n",
      "Figure(640x480)\n",
      "Fail: Image Data\\8\\8_5.jpg is for digit 8 but the inference result is 0.\n",
      "Data\\9\\9_1.jpg\n",
      "CompletedProcess(args=['python', 'module6.py', 'Data\\\\9\\\\9_1.jpg', '9'], returncode=0, stdout='Figure(640x480)\\nFail: Image Data\\\\9\\\\9_1.jpg is for digit 9 but the inference result is 7.\\n', stderr='')\n",
      "Figure(640x480)\n",
      "Fail: Image Data\\9\\9_1.jpg is for digit 9 but the inference result is 7.\n",
      "Data\\9\\9_2.jpg\n",
      "CompletedProcess(args=['python', 'module6.py', 'Data\\\\9\\\\9_2.jpg', '9'], returncode=0, stdout='Figure(640x480)\\nFail: Image Data\\\\9\\\\9_2.jpg is for digit 9 but the inference result is 7.\\n', stderr='')\n",
      "Figure(640x480)\n",
      "Fail: Image Data\\9\\9_2.jpg is for digit 9 but the inference result is 7.\n",
      "Data\\9\\9_3.jpg\n",
      "CompletedProcess(args=['python', 'module6.py', 'Data\\\\9\\\\9_3.jpg', '9'], returncode=0, stdout='Figure(640x480)\\nFail: Image Data\\\\9\\\\9_3.jpg is for digit 9 but the inference result is 7.\\n', stderr='')\n",
      "Figure(640x480)\n",
      "Fail: Image Data\\9\\9_3.jpg is for digit 9 but the inference result is 7.\n",
      "Data\\9\\9_4.jpg\n",
      "CompletedProcess(args=['python', 'module6.py', 'Data\\\\9\\\\9_4.jpg', '9'], returncode=0, stdout='Figure(640x480)\\nFail: Image Data\\\\9\\\\9_4.jpg is for digit 9 but the inference result is 7.\\n', stderr='')\n",
      "Figure(640x480)\n",
      "Fail: Image Data\\9\\9_4.jpg is for digit 9 but the inference result is 7.\n",
      "Data\\9\\9_5.jpg\n",
      "CompletedProcess(args=['python', 'module6.py', 'Data\\\\9\\\\9_5.jpg', '9'], returncode=0, stdout='Figure(640x480)\\nFail: Image Data\\\\9\\\\9_5.jpg is for digit 9 but the inference result is 7.\\n', stderr='')\n",
      "Figure(640x480)\n",
      "Fail: Image Data\\9\\9_5.jpg is for digit 9 but the inference result is 7.\n",
      "   Filename  Actual Digit  Predicted Digit   Status\n",
      "0   0_1.jpg             0                0  Success\n",
      "1   0_2.jpg             0                0  Success\n",
      "2   0_3.jpg             0                0  Success\n",
      "3   0_4.jpg             0                2     Fail\n",
      "4   0_5.jpg             0                0  Success\n",
      "5   1_1.jpg             1                5     Fail\n",
      "6   1_2.jpg             1                1  Success\n",
      "7   1_3.jpg             1                1  Success\n",
      "8   1_4.jpg             1                1  Success\n",
      "9   1_5.jpg             1                1  Success\n",
      "10  2_1.jpg             2                2  Success\n",
      "11  2_2.jpg             2                4     Fail\n",
      "12  2_3.jpg             2                5     Fail\n",
      "13  2_4.jpg             2                6     Fail\n",
      "14  2_5.jpg             2                2  Success\n",
      "15  3_1.jpg             3                1     Fail\n",
      "16  3_2.jpg             3                7     Fail\n",
      "17  3_3.jpg             3                1     Fail\n",
      "18  3_4.jpg             3                9     Fail\n",
      "19  3_5.jpg             3                5     Fail\n",
      "20  4_1.jpg             4                1     Fail\n",
      "21  4_2.jpg             4                4  Success\n",
      "22  4_3.jpg             4                9     Fail\n",
      "23  4_4.jpg             4                9     Fail\n",
      "24  4_5.jpg             4                1     Fail\n",
      "25  5_1.jpg             5                5  Success\n",
      "26  5_2.jpg             5                1     Fail\n",
      "27  5_3.jpg             5                8     Fail\n",
      "28  5_4.jpg             5                5  Success\n",
      "29  5_5.jpg             5                8     Fail\n",
      "30  6_1.jpg             6                6  Success\n",
      "31  6_2.jpg             6                6  Success\n",
      "32  6_3.jpg             6                6  Success\n",
      "33  6_4.jpg             6                6  Success\n",
      "34  6_5.jpg             6                6  Success\n",
      "35  7_1.jpg             7                1     Fail\n",
      "36  7_2.jpg             7                7  Success\n",
      "37  7_3.jpg             7                3     Fail\n",
      "38  7_4.jpg             7                7  Success\n",
      "39  7_5.jpg             7                1     Fail\n",
      "40  8_1.jpg             8                5     Fail\n",
      "41  8_2.jpg             8                1     Fail\n",
      "42  8_3.jpg             8                5     Fail\n",
      "43  8_4.jpg             8                1     Fail\n",
      "44  8_5.jpg             8                0     Fail\n",
      "45  9_1.jpg             9                7     Fail\n",
      "46  9_2.jpg             9                7     Fail\n",
      "47  9_3.jpg             9                7     Fail\n",
      "48  9_4.jpg             9                7     Fail\n",
      "49  9_5.jpg             9                7     Fail\n"
     ]
    }
   ],
   "source": [
    "import os\n",
    "import pandas as pd\n",
    "import subprocess\n",
    "\n",
    "# Define the base directory where your images are stored\n",
    "base_dir = 'Data'\n",
    "\n",
    "# Initialize a list to store results\n",
    "results = []\n",
    "\n",
    "# Loop over each digit (0-9)\n",
    "for digit in range(10):\n",
    "    digit_dir = os.path.join(base_dir, str(digit))\n",
    "    \n",
    "    # Check if the directory exists\n",
    "    if os.path.isdir(digit_dir):\n",
    "        # Loop over each image in the digit directory\n",
    "        for filename in os.listdir(digit_dir):\n",
    "            if filename.endswith('.jpg'):\n",
    "                image_path = os.path.join(digit_dir, filename)\n",
    "                print(image_path)\n",
    "                # Run module5-3.py with the image and digit as arguments using subprocess\n",
    "                result = subprocess.run(\n",
    "                    [\"python\", \"module6.py\", image_path, str(digit)], \n",
    "                    capture_output=True, \n",
    "                    text=True\n",
    "                )\n",
    "                print(result)\n",
    "                # Process the output to extract predicted digit and result status\n",
    "                output = result.stdout.strip()\n",
    "                print(output) \n",
    "                \n",
    "                # Check if the prediction was successful or failed\n",
    "                if \"Success\" in output:\n",
    "                    status = \"Success\"\n",
    "                    predicted_digit = digit  \n",
    "                else:\n",
    "                    status = \"Fail\"\n",
    "                    # Extract predicted digit from the output message and strip any punctuation\n",
    "                    predicted_digit = int(output.split()[-1].rstrip('.'))\n",
    "\n",
    "                \n",
    "                # Append the result to the list\n",
    "                results.append({\n",
    "                    \"Filename\": filename,\n",
    "                    \"Actual Digit\": digit,\n",
    "                    \"Predicted Digit\": predicted_digit,\n",
    "                    \"Status\": status\n",
    "                })\n",
    "\n",
    "# Convert the list of results to a DataFrame\n",
    "df_results = pd.DataFrame(results)\n",
    "\n",
    "# Display the DataFrame\n",
    "print(df_results)\n",
    "\n",
    "#save the DataFrame to a CSV file\n",
    "df_results.to_csv(\"prediction_results.csv\", index=False)\n"
   ]
  },
  {
   "cell_type": "code",
   "execution_count": 19,
   "metadata": {},
   "outputs": [
    {
     "name": "stdout",
     "output_type": "stream",
     "text": [
      "Status\n",
      "Fail       30\n",
      "Success    20\n",
      "Name: count, dtype: int64\n"
     ]
    }
   ],
   "source": [
    "print(df_results.Status.value_counts())"
   ]
  },
  {
   "cell_type": "code",
   "execution_count": null,
   "metadata": {},
   "outputs": [],
   "source": []
  }
 ],
 "metadata": {
  "kernelspec": {
   "display_name": "teachable",
   "language": "python",
   "name": "python3"
  },
  "language_info": {
   "codemirror_mode": {
    "name": "ipython",
    "version": 3
   },
   "file_extension": ".py",
   "mimetype": "text/x-python",
   "name": "python",
   "nbconvert_exporter": "python",
   "pygments_lexer": "ipython3",
   "version": "3.11.7"
  }
 },
 "nbformat": 4,
 "nbformat_minor": 2
}
