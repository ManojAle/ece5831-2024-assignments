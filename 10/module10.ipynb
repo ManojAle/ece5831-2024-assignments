{
 "cells": [
  {
   "cell_type": "markdown",
   "metadata": {},
   "source": [
    "### Dataset Downloading From kaggle"
   ]
  },
  {
   "cell_type": "code",
   "execution_count": null,
   "metadata": {},
   "outputs": [],
   "source": [
    "!kaggle competitions download -c dogs-vs-cats\n"
   ]
  },
  {
   "cell_type": "code",
   "execution_count": 68,
   "metadata": {},
   "outputs": [
    {
     "name": "stdout",
     "output_type": "stream",
     "text": [
      "Extracted 'dogs-vs-cats-original/test1.zip' to 'dogs-vs-cats-original/'\n",
      "Extracted 'dogs-vs-cats-original/train.zip' to 'dogs-vs-cats-original/'\n"
     ]
    }
   ],
   "source": [
    "import zipfile\n",
    "import os\n",
    "\n",
    "# Paths to the zip files\n",
    "zip_files = [\"dogs-vs-cats-original/test1.zip\", \"dogs-vs-cats-original/train.zip\"]\n",
    "output_directories = [\"dogs-vs-cats-original/\", \"dogs-vs-cats-original/\"]\n",
    "\n",
    "for zip_file, output_dir in zip(zip_files, output_directories):\n",
    "    if os.path.exists(zip_file):\n",
    "        with zipfile.ZipFile(zip_file, 'r') as zip_ref:\n",
    "            zip_ref.extractall(output_dir)\n",
    "            print(f\"Extracted '{zip_file}' to '{output_dir}'\")\n",
    "    else:\n",
    "        print(f\"File '{zip_file}' does not exist.\")\n"
   ]
  },
  {
   "cell_type": "code",
   "execution_count": 15,
   "metadata": {},
   "outputs": [],
   "source": [
    "import pathlib\n",
    "import os\n",
    "import shutil"
   ]
  },
  {
   "cell_type": "code",
   "execution_count": null,
   "metadata": {},
   "outputs": [],
   "source": [
    "base_dir = pathlib.Path('dogs-vs-cats')\n",
    "src_dir = pathlib.Path('dogs-vs-cats-original/test')"
   ]
  },
  {
   "cell_type": "code",
   "execution_count": 73,
   "metadata": {},
   "outputs": [],
   "source": [
    "def make_dataset_for_image_dataset_from_directory(subset_name, start_index, end_index):\n",
    "    for category in (\"dog\", \"cat\"):\n",
    "        dir = base_dir / subset_name / category\n",
    "        #print(dir)\n",
    "        if os.path.exists(dir) is False:\n",
    "            os.makedirs(dir)\n",
    "        files = [f'{category}.{i}.jpg' for i in range(start_index, end_index)]\n",
    "        #print(files)\n",
    "        for i, file in enumerate(files):\n",
    "            shutil.copyfile(src=src_dir / file, dst=dir / file)\n",
    "            if i % 100 == 0: # show only once every 100\n",
    "                print(f'src:{src_dir / file} => dst:{dir / file}')"
   ]
  },
  {
   "cell_type": "code",
   "execution_count": 76,
   "metadata": {},
   "outputs": [
    {
     "name": "stdout",
     "output_type": "stream",
     "text": [
      "src:dogs-vs-cats-original\\train\\dog.0.jpg => dst:dogs-vs-cats\\train\\dog\\dog.0.jpg\n",
      "src:dogs-vs-cats-original\\train\\dog.100.jpg => dst:dogs-vs-cats\\train\\dog\\dog.100.jpg\n",
      "src:dogs-vs-cats-original\\train\\dog.200.jpg => dst:dogs-vs-cats\\train\\dog\\dog.200.jpg\n",
      "src:dogs-vs-cats-original\\train\\dog.300.jpg => dst:dogs-vs-cats\\train\\dog\\dog.300.jpg\n",
      "src:dogs-vs-cats-original\\train\\dog.400.jpg => dst:dogs-vs-cats\\train\\dog\\dog.400.jpg\n",
      "src:dogs-vs-cats-original\\train\\dog.500.jpg => dst:dogs-vs-cats\\train\\dog\\dog.500.jpg\n",
      "src:dogs-vs-cats-original\\train\\dog.600.jpg => dst:dogs-vs-cats\\train\\dog\\dog.600.jpg\n",
      "src:dogs-vs-cats-original\\train\\dog.700.jpg => dst:dogs-vs-cats\\train\\dog\\dog.700.jpg\n",
      "src:dogs-vs-cats-original\\train\\dog.800.jpg => dst:dogs-vs-cats\\train\\dog\\dog.800.jpg\n",
      "src:dogs-vs-cats-original\\train\\dog.900.jpg => dst:dogs-vs-cats\\train\\dog\\dog.900.jpg\n",
      "src:dogs-vs-cats-original\\train\\cat.0.jpg => dst:dogs-vs-cats\\train\\cat\\cat.0.jpg\n",
      "src:dogs-vs-cats-original\\train\\cat.100.jpg => dst:dogs-vs-cats\\train\\cat\\cat.100.jpg\n",
      "src:dogs-vs-cats-original\\train\\cat.200.jpg => dst:dogs-vs-cats\\train\\cat\\cat.200.jpg\n",
      "src:dogs-vs-cats-original\\train\\cat.300.jpg => dst:dogs-vs-cats\\train\\cat\\cat.300.jpg\n",
      "src:dogs-vs-cats-original\\train\\cat.400.jpg => dst:dogs-vs-cats\\train\\cat\\cat.400.jpg\n",
      "src:dogs-vs-cats-original\\train\\cat.500.jpg => dst:dogs-vs-cats\\train\\cat\\cat.500.jpg\n",
      "src:dogs-vs-cats-original\\train\\cat.600.jpg => dst:dogs-vs-cats\\train\\cat\\cat.600.jpg\n",
      "src:dogs-vs-cats-original\\train\\cat.700.jpg => dst:dogs-vs-cats\\train\\cat\\cat.700.jpg\n",
      "src:dogs-vs-cats-original\\train\\cat.800.jpg => dst:dogs-vs-cats\\train\\cat\\cat.800.jpg\n",
      "src:dogs-vs-cats-original\\train\\cat.900.jpg => dst:dogs-vs-cats\\train\\cat\\cat.900.jpg\n"
     ]
    }
   ],
   "source": [
    "make_dataset_for_image_dataset_from_directory('train', 0, 1000)"
   ]
  },
  {
   "cell_type": "code",
   "execution_count": 77,
   "metadata": {},
   "outputs": [
    {
     "name": "stdout",
     "output_type": "stream",
     "text": [
      "src:dogs-vs-cats-original\\train\\dog.1500.jpg => dst:dogs-vs-cats\\test1\\dog\\dog.1500.jpg\n",
      "src:dogs-vs-cats-original\\train\\dog.1600.jpg => dst:dogs-vs-cats\\test1\\dog\\dog.1600.jpg\n",
      "src:dogs-vs-cats-original\\train\\dog.1700.jpg => dst:dogs-vs-cats\\test1\\dog\\dog.1700.jpg\n",
      "src:dogs-vs-cats-original\\train\\dog.1800.jpg => dst:dogs-vs-cats\\test1\\dog\\dog.1800.jpg\n",
      "src:dogs-vs-cats-original\\train\\dog.1900.jpg => dst:dogs-vs-cats\\test1\\dog\\dog.1900.jpg\n",
      "src:dogs-vs-cats-original\\train\\dog.2000.jpg => dst:dogs-vs-cats\\test1\\dog\\dog.2000.jpg\n",
      "src:dogs-vs-cats-original\\train\\dog.2100.jpg => dst:dogs-vs-cats\\test1\\dog\\dog.2100.jpg\n",
      "src:dogs-vs-cats-original\\train\\dog.2200.jpg => dst:dogs-vs-cats\\test1\\dog\\dog.2200.jpg\n",
      "src:dogs-vs-cats-original\\train\\dog.2300.jpg => dst:dogs-vs-cats\\test1\\dog\\dog.2300.jpg\n",
      "src:dogs-vs-cats-original\\train\\dog.2400.jpg => dst:dogs-vs-cats\\test1\\dog\\dog.2400.jpg\n",
      "src:dogs-vs-cats-original\\train\\cat.1500.jpg => dst:dogs-vs-cats\\test1\\cat\\cat.1500.jpg\n",
      "src:dogs-vs-cats-original\\train\\cat.1600.jpg => dst:dogs-vs-cats\\test1\\cat\\cat.1600.jpg\n",
      "src:dogs-vs-cats-original\\train\\cat.1700.jpg => dst:dogs-vs-cats\\test1\\cat\\cat.1700.jpg\n",
      "src:dogs-vs-cats-original\\train\\cat.1800.jpg => dst:dogs-vs-cats\\test1\\cat\\cat.1800.jpg\n",
      "src:dogs-vs-cats-original\\train\\cat.1900.jpg => dst:dogs-vs-cats\\test1\\cat\\cat.1900.jpg\n",
      "src:dogs-vs-cats-original\\train\\cat.2000.jpg => dst:dogs-vs-cats\\test1\\cat\\cat.2000.jpg\n",
      "src:dogs-vs-cats-original\\train\\cat.2100.jpg => dst:dogs-vs-cats\\test1\\cat\\cat.2100.jpg\n",
      "src:dogs-vs-cats-original\\train\\cat.2200.jpg => dst:dogs-vs-cats\\test1\\cat\\cat.2200.jpg\n",
      "src:dogs-vs-cats-original\\train\\cat.2300.jpg => dst:dogs-vs-cats\\test1\\cat\\cat.2300.jpg\n",
      "src:dogs-vs-cats-original\\train\\cat.2400.jpg => dst:dogs-vs-cats\\test1\\cat\\cat.2400.jpg\n"
     ]
    }
   ],
   "source": [
    "make_dataset_for_image_dataset_from_directory('test1', 1500, 2500)"
   ]
  },
  {
   "cell_type": "code",
   "execution_count": 89,
   "metadata": {},
   "outputs": [
    {
     "name": "stdout",
     "output_type": "stream",
     "text": [
      "src:dogs-vs-cats-original\\train\\dog.1000.jpg => dst:dogs-vs-cats\\validation\\dog\\dog.1000.jpg\n",
      "src:dogs-vs-cats-original\\train\\dog.1100.jpg => dst:dogs-vs-cats\\validation\\dog\\dog.1100.jpg\n",
      "src:dogs-vs-cats-original\\train\\dog.1200.jpg => dst:dogs-vs-cats\\validation\\dog\\dog.1200.jpg\n",
      "src:dogs-vs-cats-original\\train\\dog.1300.jpg => dst:dogs-vs-cats\\validation\\dog\\dog.1300.jpg\n",
      "src:dogs-vs-cats-original\\train\\dog.1400.jpg => dst:dogs-vs-cats\\validation\\dog\\dog.1400.jpg\n",
      "src:dogs-vs-cats-original\\train\\cat.1000.jpg => dst:dogs-vs-cats\\validation\\cat\\cat.1000.jpg\n",
      "src:dogs-vs-cats-original\\train\\cat.1100.jpg => dst:dogs-vs-cats\\validation\\cat\\cat.1100.jpg\n",
      "src:dogs-vs-cats-original\\train\\cat.1200.jpg => dst:dogs-vs-cats\\validation\\cat\\cat.1200.jpg\n",
      "src:dogs-vs-cats-original\\train\\cat.1300.jpg => dst:dogs-vs-cats\\validation\\cat\\cat.1300.jpg\n",
      "src:dogs-vs-cats-original\\train\\cat.1400.jpg => dst:dogs-vs-cats\\validation\\cat\\cat.1400.jpg\n"
     ]
    }
   ],
   "source": [
    "make_dataset_for_image_dataset_from_directory('validation', 1000, 1500)"
   ]
  },
  {
   "cell_type": "markdown",
   "metadata": {},
   "source": [
    "### Loading the Data"
   ]
  },
  {
   "cell_type": "code",
   "execution_count": 43,
   "metadata": {},
   "outputs": [],
   "source": [
    "import tensorflow as tf"
   ]
  },
  {
   "cell_type": "code",
   "execution_count": 78,
   "metadata": {},
   "outputs": [
    {
     "name": "stdout",
     "output_type": "stream",
     "text": [
      "Found 2000 files belonging to 2 classes.\n"
     ]
    }
   ],
   "source": [
    "train_dataset = tf.keras.utils.image_dataset_from_directory(\n",
    "    base_dir / 'train',\n",
    "    image_size=(180,180),\n",
    "    batch_size=32\n",
    ")"
   ]
  },
  {
   "cell_type": "code",
   "execution_count": 79,
   "metadata": {},
   "outputs": [
    {
     "name": "stdout",
     "output_type": "stream",
     "text": [
      "data batch shape: (32, 180, 180, 3)\n",
      "label batch shape: (32,)\n",
      "labels: [1 0 1 1 1 0 0 0 0 1 0 1 0 1 0 0 0 0 1 0 0 0 0 1 0 1 1 1 0 1 0 1]\n"
     ]
    }
   ],
   "source": [
    "for data_batch, labels_batch in train_dataset:\n",
    "    print(f'data batch shape: {data_batch.shape}')\n",
    "    print(f'label batch shape: {labels_batch.shape}')\n",
    "    print(f'labels: {labels_batch}')\n",
    "    break"
   ]
  },
  {
   "cell_type": "code",
   "execution_count": 93,
   "metadata": {},
   "outputs": [
    {
     "name": "stdout",
     "output_type": "stream",
     "text": [
      "Found 2000 files belonging to 2 classes.\n"
     ]
    }
   ],
   "source": [
    "test_dataset = tf.keras.utils.image_dataset_from_directory(\n",
    "    base_dir / 'test1',\n",
    "    image_size=(180,180),\n",
    "    batch_size=32\n",
    ")"
   ]
  },
  {
   "cell_type": "code",
   "execution_count": 92,
   "metadata": {},
   "outputs": [
    {
     "name": "stdout",
     "output_type": "stream",
     "text": [
      "Found 1000 files belonging to 2 classes.\n"
     ]
    }
   ],
   "source": [
    "validation_dataset = tf.keras.utils.image_dataset_from_directory(\n",
    "    base_dir / 'validation',\n",
    "    image_size=(180,180),\n",
    "    batch_size=32\n",
    ")"
   ]
  },
  {
   "cell_type": "code",
   "execution_count": 82,
   "metadata": {},
   "outputs": [],
   "source": [
    "import tensorflow as tf\n",
    "from tensorflow.keras import layers"
   ]
  },
  {
   "cell_type": "code",
   "execution_count": 83,
   "metadata": {},
   "outputs": [],
   "source": [
    "inputs = layers.Input(shape=(180, 180, 3))\n",
    "x = layers.Rescaling(1./255)(inputs)\n",
    "x = layers.Conv2D(filters=16, kernel_size=3, activation=\"relu\")(x)\n",
    "x = layers.AveragePooling2D(pool_size=2)(x)\n",
    "x = layers.Conv2D(filters=32, kernel_size=3, activation=\"relu\")(x)\n",
    "x = layers.AveragePooling2D(pool_size=2)(x)\n",
    "x = layers.Conv2D(filters=64, kernel_size=3, activation=\"relu\")(x)\n",
    "x = layers.AveragePooling2D(pool_size=2)(x)\n",
    "\n",
    "x = layers.Flatten()(x)\n",
    "outputs = layers.Dense(1, activation=\"sigmoid\")(x)"
   ]
  },
  {
   "cell_type": "code",
   "execution_count": 84,
   "metadata": {},
   "outputs": [],
   "source": [
    "model = tf.keras.Model(inputs=inputs, outputs=outputs)"
   ]
  },
  {
   "cell_type": "code",
   "execution_count": 85,
   "metadata": {},
   "outputs": [],
   "source": [
    "\n",
    "model.compile(loss='binary_crossentropy',\n",
    "              optimizer='rmsprop',\n",
    "              metrics=['accuracy'])"
   ]
  },
  {
   "cell_type": "code",
   "execution_count": 86,
   "metadata": {},
   "outputs": [
    {
     "name": "stdout",
     "output_type": "stream",
     "text": [
      "Model: \"model\"\n",
      "_________________________________________________________________\n",
      " Layer (type)                Output Shape              Param #   \n",
      "=================================================================\n",
      " input_1 (InputLayer)        [(None, 180, 180, 3)]     0         \n",
      "                                                                 \n",
      " rescaling (Rescaling)       (None, 180, 180, 3)       0         \n",
      "                                                                 \n",
      " conv2d (Conv2D)             (None, 178, 178, 16)      448       \n",
      "                                                                 \n",
      " average_pooling2d (AverageP  (None, 89, 89, 16)       0         \n",
      " ooling2D)                                                       \n",
      "                                                                 \n",
      " conv2d_1 (Conv2D)           (None, 87, 87, 32)        4640      \n",
      "                                                                 \n",
      " average_pooling2d_1 (Averag  (None, 43, 43, 32)       0         \n",
      " ePooling2D)                                                     \n",
      "                                                                 \n",
      " conv2d_2 (Conv2D)           (None, 41, 41, 64)        18496     \n",
      "                                                                 \n",
      " average_pooling2d_2 (Averag  (None, 20, 20, 64)       0         \n",
      " ePooling2D)                                                     \n",
      "                                                                 \n",
      " flatten (Flatten)           (None, 25600)             0         \n",
      "                                                                 \n",
      " dense (Dense)               (None, 1)                 25601     \n",
      "                                                                 \n",
      "=================================================================\n",
      "Total params: 49,185\n",
      "Trainable params: 49,185\n",
      "Non-trainable params: 0\n",
      "_________________________________________________________________\n"
     ]
    }
   ],
   "source": [
    "\n",
    "model.summary()"
   ]
  },
  {
   "cell_type": "code",
   "execution_count": 94,
   "metadata": {},
   "outputs": [],
   "source": [
    "callbacks = [\n",
    "    tf.keras.callbacks.EarlyStopping(patience=2),\n",
    "    tf.keras.callbacks.ModelCheckpoint(filepath='model.{epoch:02d}-{val_loss:.2f}.keras'),\n",
    "    tf.keras.callbacks.TensorBoard(log_dir='./logs'),\n",
    "]"
   ]
  },
  {
   "cell_type": "code",
   "execution_count": 95,
   "metadata": {},
   "outputs": [
    {
     "name": "stdout",
     "output_type": "stream",
     "text": [
      "Epoch 1/20\n",
      "63/63 [==============================] - 12s 188ms/step - loss: 0.6864 - accuracy: 0.5605 - val_loss: 0.6787 - val_accuracy: 0.5700\n",
      "Epoch 2/20\n",
      "63/63 [==============================] - 11s 167ms/step - loss: 0.6454 - accuracy: 0.6190 - val_loss: 0.6712 - val_accuracy: 0.6410\n",
      "Epoch 3/20\n",
      "63/63 [==============================] - 11s 166ms/step - loss: 0.6281 - accuracy: 0.6725 - val_loss: 0.7102 - val_accuracy: 0.6100\n",
      "Epoch 4/20\n",
      "63/63 [==============================] - 11s 167ms/step - loss: 0.6034 - accuracy: 0.6925 - val_loss: 0.6114 - val_accuracy: 0.6600\n",
      "Epoch 5/20\n",
      "63/63 [==============================] - 11s 169ms/step - loss: 0.5647 - accuracy: 0.7065 - val_loss: 0.6870 - val_accuracy: 0.6150\n",
      "Epoch 6/20\n",
      "63/63 [==============================] - 11s 170ms/step - loss: 0.5437 - accuracy: 0.7195 - val_loss: 0.6349 - val_accuracy: 0.6450\n"
     ]
    }
   ],
   "source": [
    "history = model.fit(train_dataset, epochs=20, \n",
    "                    validation_data=validation_dataset, \n",
    "                    callbacks=callbacks)"
   ]
  },
  {
   "cell_type": "code",
   "execution_count": 96,
   "metadata": {},
   "outputs": [
    {
     "data": {
      "text/plain": [
       "[<matplotlib.lines.Line2D at 0x1c33e128590>]"
      ]
     },
     "execution_count": 96,
     "metadata": {},
     "output_type": "execute_result"
    },
    {
     "data": {
      "image/png": "[encoded data removed]",
      "text/plain": [
       "<Figure size 640x480 with 1 Axes>"
      ]
     },
     "metadata": {},
     "output_type": "display_data"
    }
   ],
   "source": [
    "import matplotlib.pyplot as plt\n",
    "acc = history.history['accuracy']\n",
    "loss = history.history['loss']\n",
    "plt.plot(range(1, len(acc)+1), acc, label='Traiing Acc')"
   ]
  },
  {
   "cell_type": "code",
   "execution_count": 97,
   "metadata": {},
   "outputs": [
    {
     "name": "stdout",
     "output_type": "stream",
     "text": [
      "1/1 [==============================] - 0s 108ms/step\n",
      "1/1 [==============================] - 0s 48ms/step\n",
      "1/1 [==============================] - 0s 49ms/step\n",
      "1/1 [==============================] - 0s 48ms/step\n",
      "1/1 [==============================] - 0s 50ms/step\n",
      "1/1 [==============================] - 0s 48ms/step\n",
      "1/1 [==============================] - 0s 49ms/step\n",
      "1/1 [==============================] - 0s 50ms/step\n",
      "1/1 [==============================] - 0s 50ms/step\n",
      "1/1 [==============================] - 0s 49ms/step\n",
      "1/1 [==============================] - 0s 46ms/step\n",
      "1/1 [==============================] - 0s 47ms/step\n",
      "1/1 [==============================] - 0s 49ms/step\n",
      "1/1 [==============================] - 0s 48ms/step\n",
      "1/1 [==============================] - 0s 49ms/step\n",
      "1/1 [==============================] - 0s 47ms/step\n",
      "1/1 [==============================] - 0s 47ms/step\n",
      "1/1 [==============================] - 0s 55ms/step\n",
      "1/1 [==============================] - 0s 47ms/step\n",
      "1/1 [==============================] - 0s 46ms/step\n",
      "1/1 [==============================] - 0s 46ms/step\n",
      "1/1 [==============================] - 0s 46ms/step\n",
      "1/1 [==============================] - 0s 63ms/step\n",
      "1/1 [==============================] - 0s 48ms/step\n",
      "1/1 [==============================] - 0s 47ms/step\n",
      "1/1 [==============================] - 0s 49ms/step\n",
      "1/1 [==============================] - 0s 51ms/step\n",
      "1/1 [==============================] - 0s 51ms/step\n",
      "1/1 [==============================] - 0s 57ms/step\n",
      "1/1 [==============================] - 0s 56ms/step\n",
      "1/1 [==============================] - 0s 51ms/step\n",
      "1/1 [==============================] - 0s 53ms/step\n",
      "1/1 [==============================] - 0s 53ms/step\n",
      "1/1 [==============================] - 0s 52ms/step\n",
      "1/1 [==============================] - 0s 55ms/step\n",
      "1/1 [==============================] - 0s 46ms/step\n",
      "1/1 [==============================] - 0s 47ms/step\n",
      "1/1 [==============================] - 0s 48ms/step\n",
      "1/1 [==============================] - 0s 47ms/step\n",
      "1/1 [==============================] - 0s 54ms/step\n",
      "1/1 [==============================] - 0s 54ms/step\n",
      "1/1 [==============================] - 0s 56ms/step\n",
      "1/1 [==============================] - 0s 45ms/step\n",
      "1/1 [==============================] - 0s 45ms/step\n",
      "1/1 [==============================] - 0s 46ms/step\n",
      "1/1 [==============================] - 0s 47ms/step\n",
      "1/1 [==============================] - 0s 50ms/step\n",
      "1/1 [==============================] - 0s 48ms/step\n",
      "1/1 [==============================] - 0s 49ms/step\n",
      "1/1 [==============================] - 0s 47ms/step\n",
      "1/1 [==============================] - 0s 54ms/step\n",
      "1/1 [==============================] - 0s 56ms/step\n",
      "1/1 [==============================] - 0s 61ms/step\n",
      "1/1 [==============================] - 0s 62ms/step\n",
      "1/1 [==============================] - 0s 51ms/step\n",
      "1/1 [==============================] - 0s 51ms/step\n",
      "1/1 [==============================] - 0s 53ms/step\n",
      "1/1 [==============================] - 0s 48ms/step\n",
      "1/1 [==============================] - 0s 45ms/step\n",
      "1/1 [==============================] - 0s 46ms/step\n",
      "1/1 [==============================] - 0s 50ms/step\n",
      "1/1 [==============================] - 0s 49ms/step\n",
      "1/1 [==============================] - 0s 73ms/step\n"
     ]
    }
   ],
   "source": [
    "for test_batch, labels_batch in test_dataset:\n",
    "    predictions = model.predict(test_batch)"
   ]
  },
  {
   "cell_type": "code",
   "execution_count": 98,
   "metadata": {},
   "outputs": [
    {
     "data": {
      "text/plain": [
       "array([[0.39206806],\n",
       "       [0.24687344],\n",
       "       [0.1895731 ],\n",
       "       [0.45224404],\n",
       "       [0.42586905],\n",
       "       [0.22062758],\n",
       "       [0.22540335],\n",
       "       [0.42945397],\n",
       "       [0.10901791],\n",
       "       [0.5591797 ],\n",
       "       [0.34281278],\n",
       "       [0.3463964 ],\n",
       "       [0.25817516],\n",
       "       [0.43619153],\n",
       "       [0.5238182 ],\n",
       "       [0.0098532 ]], dtype=float32)"
      ]
     },
     "execution_count": 98,
     "metadata": {},
     "output_type": "execute_result"
    }
   ],
   "source": [
    "predictions"
   ]
  },
  {
   "cell_type": "markdown",
   "metadata": {},
   "source": [
    "## With Data Augumentation"
   ]
  },
  {
   "cell_type": "code",
   "execution_count": 100,
   "metadata": {},
   "outputs": [],
   "source": [
    "import tensorflow as tf\n",
    "from tensorflow.keras import layers\n",
    "import datetime"
   ]
  },
  {
   "cell_type": "code",
   "execution_count": 101,
   "metadata": {},
   "outputs": [],
   "source": [
    "data_augmentation = tf.keras.Sequential([\n",
    "    layers.RandomFlip('horizontal'),\n",
    "    layers.RandomRotation(0.1),\n",
    "    layers.RandomZoom(0.2)\n",
    "])"
   ]
  },
  {
   "cell_type": "code",
   "execution_count": 102,
   "metadata": {},
   "outputs": [],
   "source": [
    "inputs = layers.Input(shape=(180, 180, 3))\n",
    "x = data_augmentation(inputs)\n",
    "x = layers.Rescaling(1./255)(x)\n",
    "x = layers.Conv2D(filters=32, kernel_size=3, activation=\"relu\")(x)\n",
    "x = layers.AveragePooling2D(pool_size=2)(x)\n",
    "x = layers.Conv2D(filters=64, kernel_size=3, activation=\"relu\")(x)\n",
    "x = layers.AveragePooling2D(pool_size=2)(x)\n",
    "x = layers.Conv2D(filters=128, kernel_size=3, activation=\"relu\")(x)\n",
    "x = layers.AveragePooling2D(pool_size=2)(x)\n",
    "x = layers.Conv2D(filters=256, kernel_size=3, activation=\"relu\")(x)\n",
    "x = layers.AveragePooling2D(pool_size=2)(x)\n",
    "#x = layers.Conv2D(filters=256, kernel_size=3, activation=\"relu\")(x)\n",
    "#x = layers.AveragePooling2D(pool_size=2)(x)\n",
    "\n",
    "x = layers.Flatten()(x)\n",
    "x = layers.Dense(200, activation=\"relu\")(x)\n",
    "outputs = layers.Dense(1, activation=\"sigmoid\")(x)"
   ]
  },
  {
   "cell_type": "code",
   "execution_count": 103,
   "metadata": {},
   "outputs": [],
   "source": [
    "model = tf.keras.Model(inputs=inputs, outputs=outputs)"
   ]
  },
  {
   "cell_type": "code",
   "execution_count": 104,
   "metadata": {},
   "outputs": [
    {
     "name": "stdout",
     "output_type": "stream",
     "text": [
      "Model: \"model_1\"\n",
      "_________________________________________________________________\n",
      " Layer (type)                Output Shape              Param #   \n",
      "=================================================================\n",
      " input_2 (InputLayer)        [(None, 180, 180, 3)]     0         \n",
      "                                                                 \n",
      " sequential (Sequential)     (None, 180, 180, 3)       0         \n",
      "                                                                 \n",
      " rescaling_1 (Rescaling)     (None, 180, 180, 3)       0         \n",
      "                                                                 \n",
      " conv2d_3 (Conv2D)           (None, 178, 178, 32)      896       \n",
      "                                                                 \n",
      " average_pooling2d_3 (Averag  (None, 89, 89, 32)       0         \n",
      " ePooling2D)                                                     \n",
      "                                                                 \n",
      " conv2d_4 (Conv2D)           (None, 87, 87, 64)        18496     \n",
      "                                                                 \n",
      " average_pooling2d_4 (Averag  (None, 43, 43, 64)       0         \n",
      " ePooling2D)                                                     \n",
      "                                                                 \n",
      " conv2d_5 (Conv2D)           (None, 41, 41, 128)       73856     \n",
      "                                                                 \n",
      " average_pooling2d_5 (Averag  (None, 20, 20, 128)      0         \n",
      " ePooling2D)                                                     \n",
      "                                                                 \n",
      " conv2d_6 (Conv2D)           (None, 18, 18, 256)       295168    \n",
      "                                                                 \n",
      " average_pooling2d_6 (Averag  (None, 9, 9, 256)        0         \n",
      " ePooling2D)                                                     \n",
      "                                                                 \n",
      " flatten_1 (Flatten)         (None, 20736)             0         \n",
      "                                                                 \n",
      " dense_1 (Dense)             (None, 200)               4147400   \n",
      "                                                                 \n",
      " dense_2 (Dense)             (None, 1)                 201       \n",
      "                                                                 \n",
      "=================================================================\n",
      "Total params: 4,536,017\n",
      "Trainable params: 4,536,017\n",
      "Non-trainable params: 0\n",
      "_________________________________________________________________\n"
     ]
    }
   ],
   "source": [
    "\n",
    "model.summary()"
   ]
  },
  {
   "cell_type": "code",
   "execution_count": 105,
   "metadata": {},
   "outputs": [],
   "source": [
    "\n",
    "model.compile(loss='binary_crossentropy',\n",
    "              optimizer='adam',\n",
    "              metrics=['accuracy'])"
   ]
  },
  {
   "cell_type": "code",
   "execution_count": 108,
   "metadata": {},
   "outputs": [],
   "source": [
    "\n",
    "log_dir = \"logs/fit/\" + datetime.datetime.now().strftime(\"%Y%m%d-%H%M%S\")"
   ]
  },
  {
   "cell_type": "code",
   "execution_count": 109,
   "metadata": {},
   "outputs": [],
   "source": [
    "callbacks = [\n",
    "    tf.keras.callbacks.EarlyStopping(patience=5),\n",
    "    tf.keras.callbacks.ModelCheckpoint(filepath='model.{epoch:02d}-{val_loss:.2f}.keras'),\n",
    "    tf.keras.callbacks.TensorBoard(log_dir=log_dir, histogram_freq=1)\n",
    "]"
   ]
  },
  {
   "cell_type": "code",
   "execution_count": 110,
   "metadata": {},
   "outputs": [
    {
     "name": "stdout",
     "output_type": "stream",
     "text": [
      "Epoch 1/20\n",
      "63/63 [==============================] - 28s 423ms/step - loss: 0.7039 - accuracy: 0.5075 - val_loss: 0.6934 - val_accuracy: 0.5000\n",
      "Epoch 2/20\n",
      "63/63 [==============================] - 26s 418ms/step - loss: 0.6941 - accuracy: 0.5105 - val_loss: 0.6929 - val_accuracy: 0.5050\n",
      "Epoch 3/20\n",
      "63/63 [==============================] - 26s 406ms/step - loss: 0.6804 - accuracy: 0.5345 - val_loss: 0.6685 - val_accuracy: 0.5590\n",
      "Epoch 4/20\n",
      "63/63 [==============================] - 27s 423ms/step - loss: 0.6830 - accuracy: 0.5285 - val_loss: 0.6890 - val_accuracy: 0.5000\n",
      "Epoch 5/20\n",
      "63/63 [==============================] - 27s 426ms/step - loss: 0.6881 - accuracy: 0.5150 - val_loss: 0.6800 - val_accuracy: 0.5750\n",
      "Epoch 6/20\n",
      "63/63 [==============================] - 26s 420ms/step - loss: 0.6859 - accuracy: 0.5455 - val_loss: 0.6727 - val_accuracy: 0.5990\n",
      "Epoch 7/20\n",
      "63/63 [==============================] - 26s 418ms/step - loss: 0.6814 - accuracy: 0.5485 - val_loss: 0.6747 - val_accuracy: 0.5810\n",
      "Epoch 8/20\n",
      "63/63 [==============================] - 27s 427ms/step - loss: 0.6654 - accuracy: 0.5890 - val_loss: 0.6489 - val_accuracy: 0.6010\n",
      "Epoch 9/20\n",
      "63/63 [==============================] - 27s 424ms/step - loss: 0.6472 - accuracy: 0.6160 - val_loss: 0.6507 - val_accuracy: 0.6000\n",
      "Epoch 10/20\n",
      "63/63 [==============================] - 27s 429ms/step - loss: 0.6416 - accuracy: 0.6260 - val_loss: 0.6374 - val_accuracy: 0.6280\n",
      "Epoch 11/20\n",
      "63/63 [==============================] - 26s 412ms/step - loss: 0.6266 - accuracy: 0.6420 - val_loss: 0.6426 - val_accuracy: 0.5990\n",
      "Epoch 12/20\n",
      "63/63 [==============================] - 26s 416ms/step - loss: 0.6262 - accuracy: 0.6370 - val_loss: 0.6339 - val_accuracy: 0.6180\n",
      "Epoch 13/20\n",
      "63/63 [==============================] - 28s 449ms/step - loss: 0.6092 - accuracy: 0.6610 - val_loss: 0.6235 - val_accuracy: 0.6360\n",
      "Epoch 14/20\n",
      "63/63 [==============================] - 28s 445ms/step - loss: 0.6080 - accuracy: 0.6605 - val_loss: 0.5967 - val_accuracy: 0.6680\n",
      "Epoch 15/20\n",
      "63/63 [==============================] - 27s 436ms/step - loss: 0.5768 - accuracy: 0.6995 - val_loss: 0.5913 - val_accuracy: 0.6620\n",
      "Epoch 16/20\n",
      "63/63 [==============================] - 29s 457ms/step - loss: 0.5749 - accuracy: 0.6955 - val_loss: 0.5928 - val_accuracy: 0.6520\n",
      "Epoch 17/20\n",
      "63/63 [==============================] - 27s 426ms/step - loss: 0.5758 - accuracy: 0.7015 - val_loss: 0.5695 - val_accuracy: 0.7090\n",
      "Epoch 18/20\n",
      "63/63 [==============================] - 27s 424ms/step - loss: 0.5444 - accuracy: 0.7230 - val_loss: 0.5670 - val_accuracy: 0.6880\n",
      "Epoch 19/20\n",
      "63/63 [==============================] - 28s 438ms/step - loss: 0.5361 - accuracy: 0.7250 - val_loss: 0.5611 - val_accuracy: 0.7020\n",
      "Epoch 20/20\n",
      "63/63 [==============================] - 27s 431ms/step - loss: 0.5236 - accuracy: 0.7350 - val_loss: 0.5895 - val_accuracy: 0.6790\n"
     ]
    }
   ],
   "source": [
    "history = model.fit(train_dataset, epochs=20, \n",
    "                    validation_data=validation_dataset, \n",
    "                    callbacks=callbacks)"
   ]
  },
  {
   "cell_type": "code",
   "execution_count": 111,
   "metadata": {},
   "outputs": [],
   "source": [
    "acc = history.history['accuracy']\n",
    "loss = history.history['loss']"
   ]
  },
  {
   "cell_type": "code",
   "execution_count": 112,
   "metadata": {},
   "outputs": [
    {
     "data": {
      "text/plain": [
       "[<matplotlib.lines.Line2D at 0x1c34c985210>]"
      ]
     },
     "execution_count": 112,
     "metadata": {},
     "output_type": "execute_result"
    },
    {
     "data": {
      "image/png": "[encoded data removed]",
      "text/plain": [
       "<Figure size 640x480 with 1 Axes>"
      ]
     },
     "metadata": {},
     "output_type": "display_data"
    }
   ],
   "source": [
    "\n",
    "import matplotlib.pyplot as plt\n",
    "\n",
    "plt.plot(range(1, len(acc)+1), acc, label='Traiing Acc')"
   ]
  },
  {
   "cell_type": "code",
   "execution_count": 113,
   "metadata": {},
   "outputs": [],
   "source": [
    "%load_ext tensorboard"
   ]
  },
  {
   "cell_type": "code",
   "execution_count": 114,
   "metadata": {},
   "outputs": [
    {
     "data": {
      "text/html": [
       "\n",
       "      <iframe id=\"tensorboard-frame-aa93d78910ba2c8a\" width=\"100%\" height=\"800\" frameborder=\"0\">\n",
       "      </iframe>\n",
       "      <script>\n",
       "        (function() {\n",
       "          const frame = document.getElementById(\"tensorboard-frame-aa93d78910ba2c8a\");\n",
       "          const url = new URL(\"/\", window.location);\n",
       "          const port = 6006;\n",
       "          if (port) {\n",
       "            url.port = port;\n",
       "          }\n",
       "          frame.src = url;\n",
       "        })();\n",
       "      </script>\n",
       "    "
      ],
      "text/plain": [
       "<IPython.core.display.HTML object>"
      ]
     },
     "metadata": {},
     "output_type": "display_data"
    }
   ],
   "source": [
    "\n",
    "%tensorboard --logdir logs/fit"
   ]
  },
  {
   "cell_type": "markdown",
   "metadata": {},
   "source": [
    "### Use Dogs_cats.py"
   ]
  },
  {
   "cell_type": "code",
   "execution_count": 5,
   "metadata": {},
   "outputs": [
    {
     "name": "stdout",
     "output_type": "stream",
     "text": [
      "dogs-vs-cats-original\\train\\dog.2400.jpg => dogs-vs-cats\\train\\dog\\dog.2400.jpg\n",
      "dogs-vs-cats-original\\train\\dog.2500.jpg => dogs-vs-cats\\train\\dog\\dog.2500.jpg\n",
      "dogs-vs-cats-original\\train\\dog.2600.jpg => dogs-vs-cats\\train\\dog\\dog.2600.jpg\n",
      "dogs-vs-cats-original\\train\\dog.2700.jpg => dogs-vs-cats\\train\\dog\\dog.2700.jpg\n",
      "dogs-vs-cats-original\\train\\dog.2800.jpg => dogs-vs-cats\\train\\dog\\dog.2800.jpg\n",
      "dogs-vs-cats-original\\train\\dog.2900.jpg => dogs-vs-cats\\train\\dog\\dog.2900.jpg\n",
      "dogs-vs-cats-original\\train\\dog.3000.jpg => dogs-vs-cats\\train\\dog\\dog.3000.jpg\n",
      "dogs-vs-cats-original\\train\\dog.3100.jpg => dogs-vs-cats\\train\\dog\\dog.3100.jpg\n",
      "dogs-vs-cats-original\\train\\dog.3200.jpg => dogs-vs-cats\\train\\dog\\dog.3200.jpg\n",
      "dogs-vs-cats-original\\train\\dog.3300.jpg => dogs-vs-cats\\train\\dog\\dog.3300.jpg\n",
      "dogs-vs-cats-original\\train\\dog.3400.jpg => dogs-vs-cats\\train\\dog\\dog.3400.jpg\n",
      "dogs-vs-cats-original\\train\\dog.3500.jpg => dogs-vs-cats\\train\\dog\\dog.3500.jpg\n",
      "dogs-vs-cats-original\\train\\dog.3600.jpg => dogs-vs-cats\\train\\dog\\dog.3600.jpg\n",
      "dogs-vs-cats-original\\train\\dog.3700.jpg => dogs-vs-cats\\train\\dog\\dog.3700.jpg\n",
      "dogs-vs-cats-original\\train\\dog.3800.jpg => dogs-vs-cats\\train\\dog\\dog.3800.jpg\n",
      "dogs-vs-cats-original\\train\\dog.3900.jpg => dogs-vs-cats\\train\\dog\\dog.3900.jpg\n",
      "dogs-vs-cats-original\\train\\dog.4000.jpg => dogs-vs-cats\\train\\dog\\dog.4000.jpg\n",
      "dogs-vs-cats-original\\train\\dog.4100.jpg => dogs-vs-cats\\train\\dog\\dog.4100.jpg\n",
      "dogs-vs-cats-original\\train\\dog.4200.jpg => dogs-vs-cats\\train\\dog\\dog.4200.jpg\n",
      "dogs-vs-cats-original\\train\\dog.4300.jpg => dogs-vs-cats\\train\\dog\\dog.4300.jpg\n",
      "dogs-vs-cats-original\\train\\dog.4400.jpg => dogs-vs-cats\\train\\dog\\dog.4400.jpg\n",
      "dogs-vs-cats-original\\train\\dog.4500.jpg => dogs-vs-cats\\train\\dog\\dog.4500.jpg\n",
      "dogs-vs-cats-original\\train\\dog.4600.jpg => dogs-vs-cats\\train\\dog\\dog.4600.jpg\n",
      "dogs-vs-cats-original\\train\\dog.4700.jpg => dogs-vs-cats\\train\\dog\\dog.4700.jpg\n",
      "dogs-vs-cats-original\\train\\dog.4800.jpg => dogs-vs-cats\\train\\dog\\dog.4800.jpg\n",
      "dogs-vs-cats-original\\train\\dog.4900.jpg => dogs-vs-cats\\train\\dog\\dog.4900.jpg\n",
      "dogs-vs-cats-original\\train\\dog.5000.jpg => dogs-vs-cats\\train\\dog\\dog.5000.jpg\n",
      "dogs-vs-cats-original\\train\\dog.5100.jpg => dogs-vs-cats\\train\\dog\\dog.5100.jpg\n",
      "dogs-vs-cats-original\\train\\dog.5200.jpg => dogs-vs-cats\\train\\dog\\dog.5200.jpg\n",
      "dogs-vs-cats-original\\train\\dog.5300.jpg => dogs-vs-cats\\train\\dog\\dog.5300.jpg\n",
      "dogs-vs-cats-original\\train\\dog.5400.jpg => dogs-vs-cats\\train\\dog\\dog.5400.jpg\n",
      "dogs-vs-cats-original\\train\\dog.5500.jpg => dogs-vs-cats\\train\\dog\\dog.5500.jpg\n",
      "dogs-vs-cats-original\\train\\dog.5600.jpg => dogs-vs-cats\\train\\dog\\dog.5600.jpg\n",
      "dogs-vs-cats-original\\train\\dog.5700.jpg => dogs-vs-cats\\train\\dog\\dog.5700.jpg\n",
      "dogs-vs-cats-original\\train\\dog.5800.jpg => dogs-vs-cats\\train\\dog\\dog.5800.jpg\n",
      "dogs-vs-cats-original\\train\\dog.5900.jpg => dogs-vs-cats\\train\\dog\\dog.5900.jpg\n",
      "dogs-vs-cats-original\\train\\dog.6000.jpg => dogs-vs-cats\\train\\dog\\dog.6000.jpg\n",
      "dogs-vs-cats-original\\train\\dog.6100.jpg => dogs-vs-cats\\train\\dog\\dog.6100.jpg\n",
      "dogs-vs-cats-original\\train\\dog.6200.jpg => dogs-vs-cats\\train\\dog\\dog.6200.jpg\n",
      "dogs-vs-cats-original\\train\\dog.6300.jpg => dogs-vs-cats\\train\\dog\\dog.6300.jpg\n",
      "dogs-vs-cats-original\\train\\dog.6400.jpg => dogs-vs-cats\\train\\dog\\dog.6400.jpg\n",
      "dogs-vs-cats-original\\train\\dog.6500.jpg => dogs-vs-cats\\train\\dog\\dog.6500.jpg\n",
      "dogs-vs-cats-original\\train\\dog.6600.jpg => dogs-vs-cats\\train\\dog\\dog.6600.jpg\n",
      "dogs-vs-cats-original\\train\\dog.6700.jpg => dogs-vs-cats\\train\\dog\\dog.6700.jpg\n",
      "dogs-vs-cats-original\\train\\dog.6800.jpg => dogs-vs-cats\\train\\dog\\dog.6800.jpg\n",
      "dogs-vs-cats-original\\train\\dog.6900.jpg => dogs-vs-cats\\train\\dog\\dog.6900.jpg\n",
      "dogs-vs-cats-original\\train\\dog.7000.jpg => dogs-vs-cats\\train\\dog\\dog.7000.jpg\n",
      "dogs-vs-cats-original\\train\\dog.7100.jpg => dogs-vs-cats\\train\\dog\\dog.7100.jpg\n",
      "dogs-vs-cats-original\\train\\dog.7200.jpg => dogs-vs-cats\\train\\dog\\dog.7200.jpg\n",
      "dogs-vs-cats-original\\train\\dog.7300.jpg => dogs-vs-cats\\train\\dog\\dog.7300.jpg\n",
      "dogs-vs-cats-original\\train\\dog.7400.jpg => dogs-vs-cats\\train\\dog\\dog.7400.jpg\n",
      "dogs-vs-cats-original\\train\\dog.7500.jpg => dogs-vs-cats\\train\\dog\\dog.7500.jpg\n",
      "dogs-vs-cats-original\\train\\dog.7600.jpg => dogs-vs-cats\\train\\dog\\dog.7600.jpg\n",
      "dogs-vs-cats-original\\train\\dog.7700.jpg => dogs-vs-cats\\train\\dog\\dog.7700.jpg\n",
      "dogs-vs-cats-original\\train\\dog.7800.jpg => dogs-vs-cats\\train\\dog\\dog.7800.jpg\n",
      "dogs-vs-cats-original\\train\\dog.7900.jpg => dogs-vs-cats\\train\\dog\\dog.7900.jpg\n",
      "dogs-vs-cats-original\\train\\dog.8000.jpg => dogs-vs-cats\\train\\dog\\dog.8000.jpg\n",
      "dogs-vs-cats-original\\train\\dog.8100.jpg => dogs-vs-cats\\train\\dog\\dog.8100.jpg\n",
      "dogs-vs-cats-original\\train\\dog.8200.jpg => dogs-vs-cats\\train\\dog\\dog.8200.jpg\n",
      "dogs-vs-cats-original\\train\\dog.8300.jpg => dogs-vs-cats\\train\\dog\\dog.8300.jpg\n",
      "dogs-vs-cats-original\\train\\dog.8400.jpg => dogs-vs-cats\\train\\dog\\dog.8400.jpg\n",
      "dogs-vs-cats-original\\train\\dog.8500.jpg => dogs-vs-cats\\train\\dog\\dog.8500.jpg\n",
      "dogs-vs-cats-original\\train\\dog.8600.jpg => dogs-vs-cats\\train\\dog\\dog.8600.jpg\n",
      "dogs-vs-cats-original\\train\\dog.8700.jpg => dogs-vs-cats\\train\\dog\\dog.8700.jpg\n",
      "dogs-vs-cats-original\\train\\dog.8800.jpg => dogs-vs-cats\\train\\dog\\dog.8800.jpg\n",
      "dogs-vs-cats-original\\train\\dog.8900.jpg => dogs-vs-cats\\train\\dog\\dog.8900.jpg\n",
      "dogs-vs-cats-original\\train\\dog.9000.jpg => dogs-vs-cats\\train\\dog\\dog.9000.jpg\n",
      "dogs-vs-cats-original\\train\\dog.9100.jpg => dogs-vs-cats\\train\\dog\\dog.9100.jpg\n",
      "dogs-vs-cats-original\\train\\dog.9200.jpg => dogs-vs-cats\\train\\dog\\dog.9200.jpg\n",
      "dogs-vs-cats-original\\train\\dog.9300.jpg => dogs-vs-cats\\train\\dog\\dog.9300.jpg\n",
      "dogs-vs-cats-original\\train\\dog.9400.jpg => dogs-vs-cats\\train\\dog\\dog.9400.jpg\n",
      "dogs-vs-cats-original\\train\\dog.9500.jpg => dogs-vs-cats\\train\\dog\\dog.9500.jpg\n",
      "dogs-vs-cats-original\\train\\dog.9600.jpg => dogs-vs-cats\\train\\dog\\dog.9600.jpg\n",
      "dogs-vs-cats-original\\train\\dog.9700.jpg => dogs-vs-cats\\train\\dog\\dog.9700.jpg\n",
      "dogs-vs-cats-original\\train\\dog.9800.jpg => dogs-vs-cats\\train\\dog\\dog.9800.jpg\n",
      "dogs-vs-cats-original\\train\\dog.9900.jpg => dogs-vs-cats\\train\\dog\\dog.9900.jpg\n",
      "dogs-vs-cats-original\\train\\dog.10000.jpg => dogs-vs-cats\\train\\dog\\dog.10000.jpg\n",
      "dogs-vs-cats-original\\train\\dog.10100.jpg => dogs-vs-cats\\train\\dog\\dog.10100.jpg\n",
      "dogs-vs-cats-original\\train\\dog.10200.jpg => dogs-vs-cats\\train\\dog\\dog.10200.jpg\n",
      "dogs-vs-cats-original\\train\\dog.10300.jpg => dogs-vs-cats\\train\\dog\\dog.10300.jpg\n",
      "dogs-vs-cats-original\\train\\dog.10400.jpg => dogs-vs-cats\\train\\dog\\dog.10400.jpg\n",
      "dogs-vs-cats-original\\train\\dog.10500.jpg => dogs-vs-cats\\train\\dog\\dog.10500.jpg\n",
      "dogs-vs-cats-original\\train\\dog.10600.jpg => dogs-vs-cats\\train\\dog\\dog.10600.jpg\n",
      "dogs-vs-cats-original\\train\\dog.10700.jpg => dogs-vs-cats\\train\\dog\\dog.10700.jpg\n",
      "dogs-vs-cats-original\\train\\dog.10800.jpg => dogs-vs-cats\\train\\dog\\dog.10800.jpg\n",
      "dogs-vs-cats-original\\train\\dog.10900.jpg => dogs-vs-cats\\train\\dog\\dog.10900.jpg\n",
      "dogs-vs-cats-original\\train\\dog.11000.jpg => dogs-vs-cats\\train\\dog\\dog.11000.jpg\n",
      "dogs-vs-cats-original\\train\\dog.11100.jpg => dogs-vs-cats\\train\\dog\\dog.11100.jpg\n",
      "dogs-vs-cats-original\\train\\dog.11200.jpg => dogs-vs-cats\\train\\dog\\dog.11200.jpg\n",
      "dogs-vs-cats-original\\train\\dog.11300.jpg => dogs-vs-cats\\train\\dog\\dog.11300.jpg\n",
      "dogs-vs-cats-original\\train\\dog.11400.jpg => dogs-vs-cats\\train\\dog\\dog.11400.jpg\n",
      "dogs-vs-cats-original\\train\\dog.11500.jpg => dogs-vs-cats\\train\\dog\\dog.11500.jpg\n",
      "dogs-vs-cats-original\\train\\dog.11600.jpg => dogs-vs-cats\\train\\dog\\dog.11600.jpg\n",
      "dogs-vs-cats-original\\train\\dog.11700.jpg => dogs-vs-cats\\train\\dog\\dog.11700.jpg\n",
      "dogs-vs-cats-original\\train\\dog.11800.jpg => dogs-vs-cats\\train\\dog\\dog.11800.jpg\n",
      "dogs-vs-cats-original\\train\\dog.11900.jpg => dogs-vs-cats\\train\\dog\\dog.11900.jpg\n",
      "dogs-vs-cats-original\\train\\cat.2400.jpg => dogs-vs-cats\\train\\cat\\cat.2400.jpg\n",
      "dogs-vs-cats-original\\train\\cat.2500.jpg => dogs-vs-cats\\train\\cat\\cat.2500.jpg\n",
      "dogs-vs-cats-original\\train\\cat.2600.jpg => dogs-vs-cats\\train\\cat\\cat.2600.jpg\n",
      "dogs-vs-cats-original\\train\\cat.2700.jpg => dogs-vs-cats\\train\\cat\\cat.2700.jpg\n",
      "dogs-vs-cats-original\\train\\cat.2800.jpg => dogs-vs-cats\\train\\cat\\cat.2800.jpg\n",
      "dogs-vs-cats-original\\train\\cat.2900.jpg => dogs-vs-cats\\train\\cat\\cat.2900.jpg\n",
      "dogs-vs-cats-original\\train\\cat.3000.jpg => dogs-vs-cats\\train\\cat\\cat.3000.jpg\n",
      "dogs-vs-cats-original\\train\\cat.3100.jpg => dogs-vs-cats\\train\\cat\\cat.3100.jpg\n",
      "dogs-vs-cats-original\\train\\cat.3200.jpg => dogs-vs-cats\\train\\cat\\cat.3200.jpg\n",
      "dogs-vs-cats-original\\train\\cat.3300.jpg => dogs-vs-cats\\train\\cat\\cat.3300.jpg\n",
      "dogs-vs-cats-original\\train\\cat.3400.jpg => dogs-vs-cats\\train\\cat\\cat.3400.jpg\n",
      "dogs-vs-cats-original\\train\\cat.3500.jpg => dogs-vs-cats\\train\\cat\\cat.3500.jpg\n",
      "dogs-vs-cats-original\\train\\cat.3600.jpg => dogs-vs-cats\\train\\cat\\cat.3600.jpg\n",
      "dogs-vs-cats-original\\train\\cat.3700.jpg => dogs-vs-cats\\train\\cat\\cat.3700.jpg\n",
      "dogs-vs-cats-original\\train\\cat.3800.jpg => dogs-vs-cats\\train\\cat\\cat.3800.jpg\n",
      "dogs-vs-cats-original\\train\\cat.3900.jpg => dogs-vs-cats\\train\\cat\\cat.3900.jpg\n",
      "dogs-vs-cats-original\\train\\cat.4000.jpg => dogs-vs-cats\\train\\cat\\cat.4000.jpg\n",
      "dogs-vs-cats-original\\train\\cat.4100.jpg => dogs-vs-cats\\train\\cat\\cat.4100.jpg\n",
      "dogs-vs-cats-original\\train\\cat.4200.jpg => dogs-vs-cats\\train\\cat\\cat.4200.jpg\n",
      "dogs-vs-cats-original\\train\\cat.4300.jpg => dogs-vs-cats\\train\\cat\\cat.4300.jpg\n",
      "dogs-vs-cats-original\\train\\cat.4400.jpg => dogs-vs-cats\\train\\cat\\cat.4400.jpg\n",
      "dogs-vs-cats-original\\train\\cat.4500.jpg => dogs-vs-cats\\train\\cat\\cat.4500.jpg\n",
      "dogs-vs-cats-original\\train\\cat.4600.jpg => dogs-vs-cats\\train\\cat\\cat.4600.jpg\n",
      "dogs-vs-cats-original\\train\\cat.4700.jpg => dogs-vs-cats\\train\\cat\\cat.4700.jpg\n",
      "dogs-vs-cats-original\\train\\cat.4800.jpg => dogs-vs-cats\\train\\cat\\cat.4800.jpg\n",
      "dogs-vs-cats-original\\train\\cat.4900.jpg => dogs-vs-cats\\train\\cat\\cat.4900.jpg\n",
      "dogs-vs-cats-original\\train\\cat.5000.jpg => dogs-vs-cats\\train\\cat\\cat.5000.jpg\n",
      "dogs-vs-cats-original\\train\\cat.5100.jpg => dogs-vs-cats\\train\\cat\\cat.5100.jpg\n",
      "dogs-vs-cats-original\\train\\cat.5200.jpg => dogs-vs-cats\\train\\cat\\cat.5200.jpg\n",
      "dogs-vs-cats-original\\train\\cat.5300.jpg => dogs-vs-cats\\train\\cat\\cat.5300.jpg\n",
      "dogs-vs-cats-original\\train\\cat.5400.jpg => dogs-vs-cats\\train\\cat\\cat.5400.jpg\n",
      "dogs-vs-cats-original\\train\\cat.5500.jpg => dogs-vs-cats\\train\\cat\\cat.5500.jpg\n",
      "dogs-vs-cats-original\\train\\cat.5600.jpg => dogs-vs-cats\\train\\cat\\cat.5600.jpg\n",
      "dogs-vs-cats-original\\train\\cat.5700.jpg => dogs-vs-cats\\train\\cat\\cat.5700.jpg\n",
      "dogs-vs-cats-original\\train\\cat.5800.jpg => dogs-vs-cats\\train\\cat\\cat.5800.jpg\n",
      "dogs-vs-cats-original\\train\\cat.5900.jpg => dogs-vs-cats\\train\\cat\\cat.5900.jpg\n",
      "dogs-vs-cats-original\\train\\cat.6000.jpg => dogs-vs-cats\\train\\cat\\cat.6000.jpg\n",
      "dogs-vs-cats-original\\train\\cat.6100.jpg => dogs-vs-cats\\train\\cat\\cat.6100.jpg\n",
      "dogs-vs-cats-original\\train\\cat.6200.jpg => dogs-vs-cats\\train\\cat\\cat.6200.jpg\n",
      "dogs-vs-cats-original\\train\\cat.6300.jpg => dogs-vs-cats\\train\\cat\\cat.6300.jpg\n",
      "dogs-vs-cats-original\\train\\cat.6400.jpg => dogs-vs-cats\\train\\cat\\cat.6400.jpg\n",
      "dogs-vs-cats-original\\train\\cat.6500.jpg => dogs-vs-cats\\train\\cat\\cat.6500.jpg\n",
      "dogs-vs-cats-original\\train\\cat.6600.jpg => dogs-vs-cats\\train\\cat\\cat.6600.jpg\n",
      "dogs-vs-cats-original\\train\\cat.6700.jpg => dogs-vs-cats\\train\\cat\\cat.6700.jpg\n",
      "dogs-vs-cats-original\\train\\cat.6800.jpg => dogs-vs-cats\\train\\cat\\cat.6800.jpg\n",
      "dogs-vs-cats-original\\train\\cat.6900.jpg => dogs-vs-cats\\train\\cat\\cat.6900.jpg\n",
      "dogs-vs-cats-original\\train\\cat.7000.jpg => dogs-vs-cats\\train\\cat\\cat.7000.jpg\n",
      "dogs-vs-cats-original\\train\\cat.7100.jpg => dogs-vs-cats\\train\\cat\\cat.7100.jpg\n",
      "dogs-vs-cats-original\\train\\cat.7200.jpg => dogs-vs-cats\\train\\cat\\cat.7200.jpg\n",
      "dogs-vs-cats-original\\train\\cat.7300.jpg => dogs-vs-cats\\train\\cat\\cat.7300.jpg\n",
      "dogs-vs-cats-original\\train\\cat.7400.jpg => dogs-vs-cats\\train\\cat\\cat.7400.jpg\n",
      "dogs-vs-cats-original\\train\\cat.7500.jpg => dogs-vs-cats\\train\\cat\\cat.7500.jpg\n",
      "dogs-vs-cats-original\\train\\cat.7600.jpg => dogs-vs-cats\\train\\cat\\cat.7600.jpg\n",
      "dogs-vs-cats-original\\train\\cat.7700.jpg => dogs-vs-cats\\train\\cat\\cat.7700.jpg\n",
      "dogs-vs-cats-original\\train\\cat.7800.jpg => dogs-vs-cats\\train\\cat\\cat.7800.jpg\n",
      "dogs-vs-cats-original\\train\\cat.7900.jpg => dogs-vs-cats\\train\\cat\\cat.7900.jpg\n",
      "dogs-vs-cats-original\\train\\cat.8000.jpg => dogs-vs-cats\\train\\cat\\cat.8000.jpg\n",
      "dogs-vs-cats-original\\train\\cat.8100.jpg => dogs-vs-cats\\train\\cat\\cat.8100.jpg\n",
      "dogs-vs-cats-original\\train\\cat.8200.jpg => dogs-vs-cats\\train\\cat\\cat.8200.jpg\n",
      "dogs-vs-cats-original\\train\\cat.8300.jpg => dogs-vs-cats\\train\\cat\\cat.8300.jpg\n",
      "dogs-vs-cats-original\\train\\cat.8400.jpg => dogs-vs-cats\\train\\cat\\cat.8400.jpg\n",
      "dogs-vs-cats-original\\train\\cat.8500.jpg => dogs-vs-cats\\train\\cat\\cat.8500.jpg\n",
      "dogs-vs-cats-original\\train\\cat.8600.jpg => dogs-vs-cats\\train\\cat\\cat.8600.jpg\n",
      "dogs-vs-cats-original\\train\\cat.8700.jpg => dogs-vs-cats\\train\\cat\\cat.8700.jpg\n",
      "dogs-vs-cats-original\\train\\cat.8800.jpg => dogs-vs-cats\\train\\cat\\cat.8800.jpg\n",
      "dogs-vs-cats-original\\train\\cat.8900.jpg => dogs-vs-cats\\train\\cat\\cat.8900.jpg\n",
      "dogs-vs-cats-original\\train\\cat.9000.jpg => dogs-vs-cats\\train\\cat\\cat.9000.jpg\n",
      "dogs-vs-cats-original\\train\\cat.9100.jpg => dogs-vs-cats\\train\\cat\\cat.9100.jpg\n",
      "dogs-vs-cats-original\\train\\cat.9200.jpg => dogs-vs-cats\\train\\cat\\cat.9200.jpg\n",
      "dogs-vs-cats-original\\train\\cat.9300.jpg => dogs-vs-cats\\train\\cat\\cat.9300.jpg\n",
      "dogs-vs-cats-original\\train\\cat.9400.jpg => dogs-vs-cats\\train\\cat\\cat.9400.jpg\n",
      "dogs-vs-cats-original\\train\\cat.9500.jpg => dogs-vs-cats\\train\\cat\\cat.9500.jpg\n",
      "dogs-vs-cats-original\\train\\cat.9600.jpg => dogs-vs-cats\\train\\cat\\cat.9600.jpg\n",
      "dogs-vs-cats-original\\train\\cat.9700.jpg => dogs-vs-cats\\train\\cat\\cat.9700.jpg\n",
      "dogs-vs-cats-original\\train\\cat.9800.jpg => dogs-vs-cats\\train\\cat\\cat.9800.jpg\n",
      "dogs-vs-cats-original\\train\\cat.9900.jpg => dogs-vs-cats\\train\\cat\\cat.9900.jpg\n",
      "dogs-vs-cats-original\\train\\cat.10000.jpg => dogs-vs-cats\\train\\cat\\cat.10000.jpg\n",
      "dogs-vs-cats-original\\train\\cat.10100.jpg => dogs-vs-cats\\train\\cat\\cat.10100.jpg\n",
      "dogs-vs-cats-original\\train\\cat.10200.jpg => dogs-vs-cats\\train\\cat\\cat.10200.jpg\n",
      "dogs-vs-cats-original\\train\\cat.10300.jpg => dogs-vs-cats\\train\\cat\\cat.10300.jpg\n",
      "dogs-vs-cats-original\\train\\cat.10400.jpg => dogs-vs-cats\\train\\cat\\cat.10400.jpg\n",
      "dogs-vs-cats-original\\train\\cat.10500.jpg => dogs-vs-cats\\train\\cat\\cat.10500.jpg\n",
      "dogs-vs-cats-original\\train\\cat.10600.jpg => dogs-vs-cats\\train\\cat\\cat.10600.jpg\n",
      "dogs-vs-cats-original\\train\\cat.10700.jpg => dogs-vs-cats\\train\\cat\\cat.10700.jpg\n",
      "dogs-vs-cats-original\\train\\cat.10800.jpg => dogs-vs-cats\\train\\cat\\cat.10800.jpg\n",
      "dogs-vs-cats-original\\train\\cat.10900.jpg => dogs-vs-cats\\train\\cat\\cat.10900.jpg\n",
      "dogs-vs-cats-original\\train\\cat.11000.jpg => dogs-vs-cats\\train\\cat\\cat.11000.jpg\n",
      "dogs-vs-cats-original\\train\\cat.11100.jpg => dogs-vs-cats\\train\\cat\\cat.11100.jpg\n",
      "dogs-vs-cats-original\\train\\cat.11200.jpg => dogs-vs-cats\\train\\cat\\cat.11200.jpg\n",
      "dogs-vs-cats-original\\train\\cat.11300.jpg => dogs-vs-cats\\train\\cat\\cat.11300.jpg\n",
      "dogs-vs-cats-original\\train\\cat.11400.jpg => dogs-vs-cats\\train\\cat\\cat.11400.jpg\n",
      "dogs-vs-cats-original\\train\\cat.11500.jpg => dogs-vs-cats\\train\\cat\\cat.11500.jpg\n",
      "dogs-vs-cats-original\\train\\cat.11600.jpg => dogs-vs-cats\\train\\cat\\cat.11600.jpg\n",
      "dogs-vs-cats-original\\train\\cat.11700.jpg => dogs-vs-cats\\train\\cat\\cat.11700.jpg\n",
      "dogs-vs-cats-original\\train\\cat.11800.jpg => dogs-vs-cats\\train\\cat\\cat.11800.jpg\n",
      "dogs-vs-cats-original\\train\\cat.11900.jpg => dogs-vs-cats\\train\\cat\\cat.11900.jpg\n",
      "dogs-vs-cats-original\\train\\dog.0.jpg => dogs-vs-cats\\validation\\dog\\dog.0.jpg\n",
      "dogs-vs-cats-original\\train\\dog.100.jpg => dogs-vs-cats\\validation\\dog\\dog.100.jpg\n",
      "dogs-vs-cats-original\\train\\dog.200.jpg => dogs-vs-cats\\validation\\dog\\dog.200.jpg\n",
      "dogs-vs-cats-original\\train\\dog.300.jpg => dogs-vs-cats\\validation\\dog\\dog.300.jpg\n",
      "dogs-vs-cats-original\\train\\dog.400.jpg => dogs-vs-cats\\validation\\dog\\dog.400.jpg\n",
      "dogs-vs-cats-original\\train\\dog.500.jpg => dogs-vs-cats\\validation\\dog\\dog.500.jpg\n",
      "dogs-vs-cats-original\\train\\dog.600.jpg => dogs-vs-cats\\validation\\dog\\dog.600.jpg\n",
      "dogs-vs-cats-original\\train\\dog.700.jpg => dogs-vs-cats\\validation\\dog\\dog.700.jpg\n",
      "dogs-vs-cats-original\\train\\dog.800.jpg => dogs-vs-cats\\validation\\dog\\dog.800.jpg\n",
      "dogs-vs-cats-original\\train\\dog.900.jpg => dogs-vs-cats\\validation\\dog\\dog.900.jpg\n",
      "dogs-vs-cats-original\\train\\dog.1000.jpg => dogs-vs-cats\\validation\\dog\\dog.1000.jpg\n",
      "dogs-vs-cats-original\\train\\dog.1100.jpg => dogs-vs-cats\\validation\\dog\\dog.1100.jpg\n",
      "dogs-vs-cats-original\\train\\dog.1200.jpg => dogs-vs-cats\\validation\\dog\\dog.1200.jpg\n",
      "dogs-vs-cats-original\\train\\dog.1300.jpg => dogs-vs-cats\\validation\\dog\\dog.1300.jpg\n",
      "dogs-vs-cats-original\\train\\dog.1400.jpg => dogs-vs-cats\\validation\\dog\\dog.1400.jpg\n",
      "dogs-vs-cats-original\\train\\dog.1500.jpg => dogs-vs-cats\\validation\\dog\\dog.1500.jpg\n",
      "dogs-vs-cats-original\\train\\dog.1600.jpg => dogs-vs-cats\\validation\\dog\\dog.1600.jpg\n",
      "dogs-vs-cats-original\\train\\dog.1700.jpg => dogs-vs-cats\\validation\\dog\\dog.1700.jpg\n",
      "dogs-vs-cats-original\\train\\dog.1800.jpg => dogs-vs-cats\\validation\\dog\\dog.1800.jpg\n",
      "dogs-vs-cats-original\\train\\dog.1900.jpg => dogs-vs-cats\\validation\\dog\\dog.1900.jpg\n",
      "dogs-vs-cats-original\\train\\dog.2000.jpg => dogs-vs-cats\\validation\\dog\\dog.2000.jpg\n",
      "dogs-vs-cats-original\\train\\dog.2100.jpg => dogs-vs-cats\\validation\\dog\\dog.2100.jpg\n",
      "dogs-vs-cats-original\\train\\dog.2200.jpg => dogs-vs-cats\\validation\\dog\\dog.2200.jpg\n",
      "dogs-vs-cats-original\\train\\dog.2300.jpg => dogs-vs-cats\\validation\\dog\\dog.2300.jpg\n",
      "dogs-vs-cats-original\\train\\cat.0.jpg => dogs-vs-cats\\validation\\cat\\cat.0.jpg\n",
      "dogs-vs-cats-original\\train\\cat.100.jpg => dogs-vs-cats\\validation\\cat\\cat.100.jpg\n",
      "dogs-vs-cats-original\\train\\cat.200.jpg => dogs-vs-cats\\validation\\cat\\cat.200.jpg\n",
      "dogs-vs-cats-original\\train\\cat.300.jpg => dogs-vs-cats\\validation\\cat\\cat.300.jpg\n",
      "dogs-vs-cats-original\\train\\cat.400.jpg => dogs-vs-cats\\validation\\cat\\cat.400.jpg\n",
      "dogs-vs-cats-original\\train\\cat.500.jpg => dogs-vs-cats\\validation\\cat\\cat.500.jpg\n",
      "dogs-vs-cats-original\\train\\cat.600.jpg => dogs-vs-cats\\validation\\cat\\cat.600.jpg\n",
      "dogs-vs-cats-original\\train\\cat.700.jpg => dogs-vs-cats\\validation\\cat\\cat.700.jpg\n",
      "dogs-vs-cats-original\\train\\cat.800.jpg => dogs-vs-cats\\validation\\cat\\cat.800.jpg\n",
      "dogs-vs-cats-original\\train\\cat.900.jpg => dogs-vs-cats\\validation\\cat\\cat.900.jpg\n",
      "dogs-vs-cats-original\\train\\cat.1000.jpg => dogs-vs-cats\\validation\\cat\\cat.1000.jpg\n",
      "dogs-vs-cats-original\\train\\cat.1100.jpg => dogs-vs-cats\\validation\\cat\\cat.1100.jpg\n",
      "dogs-vs-cats-original\\train\\cat.1200.jpg => dogs-vs-cats\\validation\\cat\\cat.1200.jpg\n",
      "dogs-vs-cats-original\\train\\cat.1300.jpg => dogs-vs-cats\\validation\\cat\\cat.1300.jpg\n",
      "dogs-vs-cats-original\\train\\cat.1400.jpg => dogs-vs-cats\\validation\\cat\\cat.1400.jpg\n",
      "dogs-vs-cats-original\\train\\cat.1500.jpg => dogs-vs-cats\\validation\\cat\\cat.1500.jpg\n",
      "dogs-vs-cats-original\\train\\cat.1600.jpg => dogs-vs-cats\\validation\\cat\\cat.1600.jpg\n",
      "dogs-vs-cats-original\\train\\cat.1700.jpg => dogs-vs-cats\\validation\\cat\\cat.1700.jpg\n",
      "dogs-vs-cats-original\\train\\cat.1800.jpg => dogs-vs-cats\\validation\\cat\\cat.1800.jpg\n",
      "dogs-vs-cats-original\\train\\cat.1900.jpg => dogs-vs-cats\\validation\\cat\\cat.1900.jpg\n",
      "dogs-vs-cats-original\\train\\cat.2000.jpg => dogs-vs-cats\\validation\\cat\\cat.2000.jpg\n",
      "dogs-vs-cats-original\\train\\cat.2100.jpg => dogs-vs-cats\\validation\\cat\\cat.2100.jpg\n",
      "dogs-vs-cats-original\\train\\cat.2200.jpg => dogs-vs-cats\\validation\\cat\\cat.2200.jpg\n",
      "dogs-vs-cats-original\\train\\cat.2300.jpg => dogs-vs-cats\\validation\\cat\\cat.2300.jpg\n",
      "dogs-vs-cats-original\\train\\dog.12000.jpg => dogs-vs-cats\\test\\dog\\dog.12000.jpg\n",
      "dogs-vs-cats-original\\train\\dog.12100.jpg => dogs-vs-cats\\test\\dog\\dog.12100.jpg\n",
      "dogs-vs-cats-original\\train\\dog.12200.jpg => dogs-vs-cats\\test\\dog\\dog.12200.jpg\n",
      "dogs-vs-cats-original\\train\\dog.12300.jpg => dogs-vs-cats\\test\\dog\\dog.12300.jpg\n",
      "dogs-vs-cats-original\\train\\dog.12400.jpg => dogs-vs-cats\\test\\dog\\dog.12400.jpg\n",
      "dogs-vs-cats-original\\train\\cat.12000.jpg => dogs-vs-cats\\test\\cat\\cat.12000.jpg\n",
      "dogs-vs-cats-original\\train\\cat.12100.jpg => dogs-vs-cats\\test\\cat\\cat.12100.jpg\n",
      "dogs-vs-cats-original\\train\\cat.12200.jpg => dogs-vs-cats\\test\\cat\\cat.12200.jpg\n",
      "dogs-vs-cats-original\\train\\cat.12300.jpg => dogs-vs-cats\\test\\cat\\cat.12300.jpg\n",
      "dogs-vs-cats-original\\train\\cat.12400.jpg => dogs-vs-cats\\test\\cat\\cat.12400.jpg\n"
     ]
    }
   ],
   "source": [
    "from dogs_cats import DogsCats\n",
    "dogs_cats = DogsCats()\n",
    "dogs_cats.make_dataset_folders('train', 2400, 12000)\n",
    "dogs_cats.make_dataset_folders('validation', 0, 2400)\n",
    "dogs_cats.make_dataset_folders('test', 12000, 12500)\n"
   ]
  },
  {
   "cell_type": "markdown",
   "metadata": {},
   "source": [
    "### Data Loaded From Directory using TF function"
   ]
  },
  {
   "cell_type": "code",
   "execution_count": 6,
   "metadata": {},
   "outputs": [
    {
     "name": "stdout",
     "output_type": "stream",
     "text": [
      "Found 19200 files belonging to 2 classes.\n",
      "Found 4800 files belonging to 2 classes.\n",
      "Found 1000 files belonging to 2 classes.\n"
     ]
    }
   ],
   "source": [
    "dogs_cats.make_dataset()\n"
   ]
  },
  {
   "cell_type": "markdown",
   "metadata": {},
   "source": [
    "### Building the Model + Data Augumentation Enabled"
   ]
  },
  {
   "cell_type": "code",
   "execution_count": 7,
   "metadata": {},
   "outputs": [
    {
     "name": "stdout",
     "output_type": "stream",
     "text": [
      "Model: \"model\"\n",
      "_________________________________________________________________\n",
      " Layer (type)                Output Shape              Param #   \n",
      "=================================================================\n",
      " input_1 (InputLayer)        [(None, 180, 180, 3)]     0         \n",
      "                                                                 \n",
      " sequential (Sequential)     (None, 180, 180, 3)       0         \n",
      "                                                                 \n",
      " rescaling (Rescaling)       (None, 180, 180, 3)       0         \n",
      "                                                                 \n",
      " conv2d (Conv2D)             (None, 178, 178, 32)      896       \n",
      "                                                                 \n",
      " max_pooling2d (MaxPooling2D  (None, 89, 89, 32)       0         \n",
      " )                                                               \n",
      "                                                                 \n",
      " conv2d_1 (Conv2D)           (None, 87, 87, 64)        18496     \n",
      "                                                                 \n",
      " max_pooling2d_1 (MaxPooling  (None, 43, 43, 64)       0         \n",
      " 2D)                                                             \n",
      "                                                                 \n",
      " conv2d_2 (Conv2D)           (None, 41, 41, 128)       73856     \n",
      "                                                                 \n",
      " max_pooling2d_2 (MaxPooling  (None, 20, 20, 128)      0         \n",
      " 2D)                                                             \n",
      "                                                                 \n",
      " flatten (Flatten)           (None, 51200)             0         \n",
      "                                                                 \n",
      " dense (Dense)               (None, 256)               13107456  \n",
      "                                                                 \n",
      " dense_1 (Dense)             (None, 1)                 257       \n",
      "                                                                 \n",
      "=================================================================\n",
      "Total params: 13,200,961\n",
      "Trainable params: 13,200,961\n",
      "Non-trainable params: 0\n",
      "_________________________________________________________________\n"
     ]
    }
   ],
   "source": [
    "dogs_cats.build_network(augmentation=True)\n",
    "dogs_cats.model.summary()\n"
   ]
  },
  {
   "cell_type": "markdown",
   "metadata": {},
   "source": []
  },
  {
   "cell_type": "markdown",
   "metadata": {},
   "source": [
    "### Training"
   ]
  },
  {
   "cell_type": "code",
   "execution_count": 8,
   "metadata": {},
   "outputs": [
    {
     "name": "stdout",
     "output_type": "stream",
     "text": [
      "Epoch 1/20\n",
      "600/600 [==============================] - 253s 420ms/step - loss: 0.6820 - accuracy: 0.5619 - val_loss: 0.6387 - val_accuracy: 0.6369\n",
      "Epoch 2/20\n",
      "600/600 [==============================] - 247s 411ms/step - loss: 0.6185 - accuracy: 0.6584 - val_loss: 0.5523 - val_accuracy: 0.7175\n",
      "Epoch 3/20\n",
      "600/600 [==============================] - 253s 421ms/step - loss: 0.5567 - accuracy: 0.7148 - val_loss: 0.5131 - val_accuracy: 0.7500\n",
      "Epoch 4/20\n",
      "600/600 [==============================] - 261s 435ms/step - loss: 0.5222 - accuracy: 0.7400 - val_loss: 0.4760 - val_accuracy: 0.7738\n",
      "Epoch 5/20\n",
      "600/600 [==============================] - 266s 443ms/step - loss: 0.4954 - accuracy: 0.7609 - val_loss: 0.4445 - val_accuracy: 0.7906\n",
      "Epoch 6/20\n",
      "600/600 [==============================] - 273s 455ms/step - loss: 0.4722 - accuracy: 0.7778 - val_loss: 0.4245 - val_accuracy: 0.8017\n",
      "Epoch 7/20\n",
      "600/600 [==============================] - 259s 431ms/step - loss: 0.4534 - accuracy: 0.7826 - val_loss: 0.4075 - val_accuracy: 0.8171\n",
      "Epoch 8/20\n",
      "600/600 [==============================] - 273s 455ms/step - loss: 0.4362 - accuracy: 0.7968 - val_loss: 0.4238 - val_accuracy: 0.8131\n",
      "Epoch 9/20\n",
      "600/600 [==============================] - 261s 435ms/step - loss: 0.4155 - accuracy: 0.8087 - val_loss: 0.3831 - val_accuracy: 0.8313\n",
      "Epoch 10/20\n",
      "600/600 [==============================] - 264s 440ms/step - loss: 0.4018 - accuracy: 0.8158 - val_loss: 0.4192 - val_accuracy: 0.8142\n",
      "Epoch 11/20\n",
      "600/600 [==============================] - 271s 452ms/step - loss: 0.3945 - accuracy: 0.8190 - val_loss: 0.3944 - val_accuracy: 0.8240\n",
      "Epoch 12/20\n",
      "600/600 [==============================] - 260s 433ms/step - loss: 0.3783 - accuracy: 0.8283 - val_loss: 0.3935 - val_accuracy: 0.8275\n"
     ]
    },
    {
     "data": {
      "image/png": "[encoded data removed]",
      "text/plain": [
       "<Figure size 640x480 with 1 Axes>"
      ]
     },
     "metadata": {},
     "output_type": "display_data"
    },
    {
     "data": {
      "image/png": "[encoded data removed]",
      "text/plain": [
       "<Figure size 640x480 with 1 Axes>"
      ]
     },
     "metadata": {},
     "output_type": "display_data"
    }
   ],
   "source": [
    "dogs_cats.train('model.dogs-cats.keras')\n"
   ]
  },
  {
   "cell_type": "code",
   "execution_count": null,
   "metadata": {},
   "outputs": [],
   "source": [
    "import os\n",
    "import tensorflow as tf\n",
    "import matplotlib.pyplot as plt\n",
    "from pathlib import Path\n",
    "\n",
    "# Define the class names and validation directory\n",
    "CLASS_NAMES = ['cat', 'dog']\n",
    "VALIDATION_DIR = Path('dogs-vs-cats/Validation')  # Replace with the actual path if needed\n",
    "\n",
    "\n",
    "# Load the pre-trained model\n",
    "model = tf.keras.models.load_model('model.dogs-cats.keras')\n",
    "\n",
    "def calculate_category_accuracy(validation_dir):\n",
    "    \"\"\"\n",
    "    Calculates accuracy for each category in the validation directory.\n",
    "\n",
    "    Args:\n",
    "        validation_dir (Path): Path to the validation directory containing 'cat' and 'dog' folders.\n",
    "\n",
    "    Returns:\n",
    "        dict: Accuracy for each category.\n",
    "    \"\"\"\n",
    "    accuracies = {}\n",
    "    for category in ['cat', 'dog']:\n",
    "        category_dir = validation_dir / category\n",
    "        total_images = 0\n",
    "        correct_predictions = 0\n",
    "\n",
    "        for image_file in os.listdir(category_dir):\n",
    "            if image_file.endswith(('.jpg', '.png', '.jpeg')):\n",
    "                total_images += 1\n",
    "                image_path = category_dir / image_file\n",
    "                img = tf.keras.utils.load_img(image_path, target_size=(180, 180))\n",
    "                img_array = tf.keras.utils.img_to_array(img)\n",
    "                img_array = tf.expand_dims(img_array, axis=0)\n",
    "                prediction = model.predict(img_array)[0][0]\n",
    "                print(prediction)\n",
    "                predicted_class = CLASS_NAMES[int(prediction > 0.5)]\n",
    "\n",
    "                # Check if the prediction matches the actual category\n",
    "                if predicted_class == category:\n",
    "                    correct_predictions += 1\n",
    "\n",
    "        # Calculate accuracy for the category\n",
    "        accuracies[category] = correct_predictions / total_images if total_images > 0 else 0\n",
    "\n",
    "    return accuracies\n",
    "\n",
    "# Call the function and print the results\n",
    "category_accuracies = calculate_category_accuracy(VALIDATION_DIR)\n",
    "for category, accuracy in category_accuracies.items():\n",
    "    print(f\"Accuracy for {category}: {accuracy:.2%}\")\n"
   ]
  },
  {
   "cell_type": "code",
   "execution_count": 19,
   "metadata": {},
   "outputs": [
    {
     "name": "stdout",
     "output_type": "stream",
     "text": [
      "Accuracy for cat: 77.42%\n",
      "Accuracy for dog: 87.04%\n"
     ]
    }
   ],
   "source": [
    "for category, accuracy in category_accuracies.items():\n",
    "    print(f\"Accuracy for {category}: {accuracy:.2%}\")\n"
   ]
  },
  {
   "cell_type": "code",
   "execution_count": null,
   "metadata": {},
   "outputs": [],
   "source": []
  }
 ],
 "metadata": {
  "kernelspec": {
   "display_name": "teachable",
   "language": "python",
   "name": "python3"
  },
  "language_info": {
   "codemirror_mode": {
    "name": "ipython",
    "version": 3
   },
   "file_extension": ".py",
   "mimetype": "text/x-python",
   "name": "python",
   "nbconvert_exporter": "python",
   "pygments_lexer": "ipython3",
   "version": "3.11.7"
  }
 },
 "nbformat": 4,
 "nbformat_minor": 2
}
