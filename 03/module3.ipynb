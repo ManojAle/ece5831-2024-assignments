{
 "cells": [
  {
   "cell_type": "markdown",
   "metadata": {},
   "source": [
    "# Logic Gates Implementation and Testing\n"
   ]
  },
  {
   "cell_type": "markdown",
   "metadata": {},
   "source": [
    "This notebook provides a guide on how to use the logic gates implemented in the `logic_gates.py` file. These gates include AND, OR, NAND, NOR, and XOR, and they are built using Python classes and NumPy. \n",
    "\n",
    "Each gate takes two inputs and produces a single output (`0` or `1`), mimicking the behavior of hardware logic gates.\n"
   ]
  },
  {
   "cell_type": "markdown",
   "metadata": {},
   "source": [
    "### Importing Logic Gates\n",
    "\n",
    "First, ensure that the `logic_gates.py` file is located in the same directory as this notebook. You can import the gates as follows:\n"
   ]
  },
  {
   "cell_type": "code",
   "execution_count": 1,
   "metadata": {},
   "outputs": [],
   "source": [
    "from logic_gate import AndGate, OrGate, NandGate, NorGate, XorGate\n"
   ]
  },
  {
   "cell_type": "markdown",
   "metadata": {},
   "source": [
    "### Example Usage: AND Gate\n",
    "\n",
    "The AND gate takes two inputs and returns `1` only if both inputs are `1`. Otherwise, it returns `0`."
   ]
  },
  {
   "cell_type": "code",
   "execution_count": 2,
   "metadata": {},
   "outputs": [
    {
     "name": "stdout",
     "output_type": "stream",
     "text": [
      "AND Gate Output (1, 1): 1\n",
      "AND Gate Output (1, 0): 0\n"
     ]
    }
   ],
   "source": [
    "and_gate = AndGate(\"AND Gate\")\n",
    "and_gate.set_inputs(1, 1)  \n",
    "output = and_gate.get_output()\n",
    "print(f\"AND Gate Output (1, 1): {output}\")\n",
    "\n",
    "and_gate.set_inputs(1, 0) \n",
    "output = and_gate.get_output()\n",
    "print(f\"AND Gate Output (1, 0): {output}\")"
   ]
  },
  {
   "cell_type": "markdown",
   "metadata": {},
   "source": [
    "### Example Usage: OR Gate\n",
    "\n",
    "The OR gate returns `1` if at least one of the inputs is `1`. If both inputs are `0`, it returns `0`."
   ]
  },
  {
   "cell_type": "code",
   "execution_count": 3,
   "metadata": {},
   "outputs": [
    {
     "name": "stdout",
     "output_type": "stream",
     "text": [
      "OR Gate Output (1, 0): 1\n",
      "OR Gate Output (0, 0): 0\n"
     ]
    }
   ],
   "source": [
    "# Create an OR Gate instance\n",
    "or_gate = OrGate(\"OR Gate\")\n",
    "\n",
    "# Set inputs (1, 0) for the OR Gate, where one input is 1\n",
    "or_gate.set_inputs(1, 0)  \n",
    "output = or_gate.get_output()\n",
    "print(f\"OR Gate Output (1, 0): {output}\") \n",
    "\n",
    "# Set inputs (0, 0) for the OR Gate, where both inputs are 0\n",
    "or_gate.set_inputs(0, 0)  \n",
    "output = or_gate.get_output()\n",
    "print(f\"OR Gate Output (0, 0): {output}\") \n"
   ]
  },
  {
   "cell_type": "markdown",
   "metadata": {},
   "source": [
    "### Example Usage: NAND Gate\n",
    "\n",
    "The NAND gate returns the opposite of the AND gate. It returns `1` if **not** both inputs are `1`."
   ]
  },
  {
   "cell_type": "code",
   "execution_count": 4,
   "metadata": {},
   "outputs": [
    {
     "name": "stdout",
     "output_type": "stream",
     "text": [
      "NAND Gate Output (1, 1): 0\n",
      "NAND Gate Output (1, 0): 1\n"
     ]
    }
   ],
   "source": [
    "nand_gate = NandGate(\"NAND Gate\")\n",
    "nand_gate.set_inputs(1, 1)  \n",
    "output = nand_gate.get_output()\n",
    "print(f\"NAND Gate Output (1, 1): {output}\")\n",
    "\n",
    "nand_gate.set_inputs(1, 0)  \n",
    "output = nand_gate.get_output()\n",
    "print(f\"NAND Gate Output (1, 0): {output}\")"
   ]
  },
  {
   "cell_type": "markdown",
   "metadata": {},
   "source": [
    "### Example Usage: NOR Gate\n",
    "\n",
    "The NOR gate returns `1` only if both inputs are `0`. Otherwise, it returns `0`."
   ]
  },
  {
   "cell_type": "code",
   "execution_count": 5,
   "metadata": {},
   "outputs": [
    {
     "name": "stdout",
     "output_type": "stream",
     "text": [
      "NOR Gate Output (0, 0): 1\n",
      "NOR Gate Output (1, 0): 0\n"
     ]
    }
   ],
   "source": [
    "nor_gate = NorGate(\"NOR Gate\")\n",
    "nor_gate.set_inputs(0, 0)  \n",
    "output = nor_gate.get_output()\n",
    "print(f\"NOR Gate Output (0, 0): {output}\")\n",
    "\n",
    "nor_gate.set_inputs(1, 0)  \n",
    "output = nor_gate.get_output()\n",
    "print(f\"NOR Gate Output (1, 0): {output}\")"
   ]
  },
  {
   "cell_type": "markdown",
   "metadata": {},
   "source": [
    "### Example Usage: XOR Gate\n",
    "\n",
    "The XOR gate returns `1` if **exactly one** of the inputs is `1`. If both inputs are the same (either both `1` or both `0`), it returns `0`."
   ]
  },
  {
   "cell_type": "code",
   "execution_count": 6,
   "metadata": {},
   "outputs": [
    {
     "name": "stdout",
     "output_type": "stream",
     "text": [
      "XOR Gate Output (1, 0): 1\n",
      "XOR Gate Output (1, 1): 0\n"
     ]
    }
   ],
   "source": [
    "xor_gate = XorGate(\"XOR Gate\")\n",
    "xor_gate.set_inputs(1, 0)  \n",
    "output = xor_gate.get_output()\n",
    "print(f\"XOR Gate Output (1, 0): {output}\")\n",
    "\n",
    "xor_gate.set_inputs(1, 1)  \n",
    "output = xor_gate.get_output()\n",
    "print(f\"XOR Gate Output (1, 1): {output}\")"
   ]
  },
  {
   "cell_type": "markdown",
   "metadata": {},
   "source": [
    "### Conclusion\n",
    "\n",
    "In this notebook, we demonstrated how to use the logic gates (AND, OR, NAND, NOR, XOR) implemented in `logic_gates.py`. Each gate was tested with different inputs to show how they operate.\n",
    "\n",
    "Feel free to modify the inputs and try different combinations to further understand how each logic gate behaves."
   ]
  },
  {
   "cell_type": "markdown",
   "metadata": {},
   "source": [
    "### `module3.py` Test case Outcome"
   ]
  },
  {
   "cell_type": "code",
   "execution_count": 1,
   "metadata": {},
   "outputs": [
    {
     "name": "stdout",
     "output_type": "stream",
     "text": [
      "    gate  inputs  expected  actual  pass\n",
      "0    AND  (1, 1)         1       1  True\n",
      "1    AND  (1, 0)         0       0  True\n",
      "2    AND  (0, 1)         0       0  True\n",
      "3    AND  (0, 0)         0       0  True\n",
      "4   NAND  (1, 1)         0       0  True\n",
      "5   NAND  (1, 0)         1       1  True\n",
      "6   NAND  (0, 1)         1       1  True\n",
      "7   NAND  (0, 0)         1       1  True\n",
      "8     OR  (1, 1)         1       1  True\n",
      "9     OR  (1, 0)         1       1  True\n",
      "10    OR  (0, 1)         1       1  True\n",
      "11    OR  (0, 0)         0       0  True\n",
      "12   NOR  (1, 1)         0       0  True\n",
      "13   NOR  (1, 0)         0       0  True\n",
      "14   NOR  (0, 1)         0       0  True\n",
      "15   NOR  (0, 0)         1       1  True\n",
      "16   XOR  (1, 1)         0       0  True\n",
      "17   XOR  (1, 0)         1       1  True\n",
      "18   XOR  (0, 1)         1       1  True\n",
      "19   XOR  (0, 0)         0       0  True\n"
     ]
    }
   ],
   "source": [
    "import pandas as pd\n",
    "from logic_gate import AndGate, NandGate, OrGate, NorGate, XorGate\n",
    "\n",
    "test_cases = [\n",
    "    # AND Gate\n",
    "    {\"gate\": \"AND\", \"inputs\": (1, 1), \"expected\": 1},\n",
    "    {\"gate\": \"AND\", \"inputs\": (1, 0), \"expected\": 0},\n",
    "    {\"gate\": \"AND\", \"inputs\": (0, 1), \"expected\": 0},\n",
    "    {\"gate\": \"AND\", \"inputs\": (0, 0), \"expected\": 0},\n",
    "\n",
    "    # NAND Gate\n",
    "    {\"gate\": \"NAND\", \"inputs\": (1, 1), \"expected\": 0},\n",
    "    {\"gate\": \"NAND\", \"inputs\": (1, 0), \"expected\": 1},\n",
    "    {\"gate\": \"NAND\", \"inputs\": (0, 1), \"expected\": 1},\n",
    "    {\"gate\": \"NAND\", \"inputs\": (0, 0), \"expected\": 1},\n",
    "\n",
    "    # OR Gate\n",
    "    {\"gate\": \"OR\", \"inputs\": (1, 1), \"expected\": 1},\n",
    "    {\"gate\": \"OR\", \"inputs\": (1, 0), \"expected\": 1},\n",
    "    {\"gate\": \"OR\", \"inputs\": (0, 1), \"expected\": 1},\n",
    "    {\"gate\": \"OR\", \"inputs\": (0, 0), \"expected\": 0},\n",
    "\n",
    "    # NOR Gate\n",
    "    {\"gate\": \"NOR\", \"inputs\": (1, 1), \"expected\": 0},\n",
    "    {\"gate\": \"NOR\", \"inputs\": (1, 0), \"expected\": 0},\n",
    "    {\"gate\": \"NOR\", \"inputs\": (0, 1), \"expected\": 0},\n",
    "    {\"gate\": \"NOR\", \"inputs\": (0, 0), \"expected\": 1},\n",
    "\n",
    "    # XOR Gate\n",
    "    {\"gate\": \"XOR\", \"inputs\": (1, 1), \"expected\": 0},\n",
    "    {\"gate\": \"XOR\", \"inputs\": (1, 0), \"expected\": 1},\n",
    "    {\"gate\": \"XOR\", \"inputs\": (0, 1), \"expected\": 1},\n",
    "    {\"gate\": \"XOR\", \"inputs\": (0, 0), \"expected\": 0},\n",
    "]\n",
    "\n",
    "# Function to get the actual output from the gate\n",
    "def get_output(gate, inputs):\n",
    "    if gate == \"AND\":\n",
    "        gate_obj = AndGate(\"AND\")\n",
    "    elif gate == \"NAND\":\n",
    "        gate_obj = NandGate(\"NAND\")\n",
    "    elif gate == \"OR\":\n",
    "        gate_obj = OrGate(\"OR\")\n",
    "    elif gate == \"NOR\":\n",
    "        gate_obj = NorGate(\"NOR\")\n",
    "    elif gate == \"XOR\":\n",
    "        gate_obj = XorGate(\"XOR\")\n",
    "    else:\n",
    "        raise ValueError(\"Unknown gate type\")\n",
    "    \n",
    "    gate_obj.set_inputs(inputs[0], inputs[1])\n",
    "    return gate_obj.get_output()\n",
    "\n",
    "# Check each test case\n",
    "results = []\n",
    "for test in test_cases:\n",
    "    actual = get_output(test[\"gate\"], test[\"inputs\"])\n",
    "    results.append({\n",
    "        \"gate\": test[\"gate\"],\n",
    "        \"inputs\": test[\"inputs\"],\n",
    "        \"expected\": test[\"expected\"],\n",
    "        \"actual\": actual,\n",
    "        \"pass\": actual == test[\"expected\"]\n",
    "    })\n",
    "\n",
    "# Display the results in a DataFrame\n",
    "df = pd.DataFrame(results)\n",
    "print(df)"
   ]
  }
 ],
 "metadata": {
  "kernelspec": {
   "display_name": "ece5831-2024",
   "language": "python",
   "name": "python3"
  },
  "language_info": {
   "codemirror_mode": {
    "name": "ipython",
    "version": 3
   },
   "file_extension": ".py",
   "mimetype": "text/x-python",
   "name": "python",
   "nbconvert_exporter": "python",
   "pygments_lexer": "ipython3",
   "version": "3.10.14"
  }
 },
 "nbformat": 4,
 "nbformat_minor": 2
}
