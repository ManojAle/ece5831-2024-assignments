{
 "cells": [
  {
   "cell_type": "markdown",
   "metadata": {},
   "source": [
    "# MNIST  Dataset"
   ]
  },
  {
   "cell_type": "markdown",
   "metadata": {},
   "source": [
    "# Softmax Function"
   ]
  },
  {
   "cell_type": "code",
   "execution_count": 3,
   "metadata": {},
   "outputs": [],
   "source": [
    "import numpy as np\n",
    "def softmax(a: list[float])->np.array:\n",
    "    if not isinstance (a,np.ndarray):\n",
    "        raise TypeError('It is not ndarray')\n",
    "    return np.exp(a)/np.sum(np.exp(a))"
   ]
  },
  {
   "cell_type": "code",
   "execution_count": 4,
   "metadata": {},
   "outputs": [
    {
     "name": "stdout",
     "output_type": "stream",
     "text": [
      "[0.0320586  0.08714432 0.23688282 0.64391426]\n"
     ]
    }
   ],
   "source": [
    "print(softmax(np.array([1,2,3,4])))\n"
   ]
  },
  {
   "cell_type": "code",
   "execution_count": 5,
   "metadata": {},
   "outputs": [
    {
     "name": "stdout",
     "output_type": "stream",
     "text": [
      "[0.0320586  0.08714432 0.23688282 0.64391426]\n"
     ]
    }
   ],
   "source": [
    "a= np.array([1,2,3,4])\n",
    "print(softmax(a))"
   ]
  },
  {
   "cell_type": "code",
   "execution_count": 6,
   "metadata": {},
   "outputs": [
    {
     "name": "stdout",
     "output_type": "stream",
     "text": [
      "[9.29499379e-14 9.93307149e-01 6.69285092e-03]\n"
     ]
    }
   ],
   "source": [
    "a= np.array([20,50,45])\n",
    "print(softmax(a))"
   ]
  },
  {
   "cell_type": "code",
   "execution_count": 7,
   "metadata": {},
   "outputs": [],
   "source": [
    "def stable_softmax(a: np.ndarray) -> np.ndarray :\n",
    "    if not isinstance (a, np.ndarray):\n",
    "        raise TypeError('This is not a Ndarray')\n",
    "    else:\n",
    "        return np.exp(a-max(a))/np.sum(np.exp(a-max(a)))"
   ]
  },
  {
   "cell_type": "code",
   "execution_count": 8,
   "metadata": {},
   "outputs": [
    {
     "name": "stdout",
     "output_type": "stream",
     "text": [
      "[3.72007598e-44 1.38389653e-87 1.00000000e+00]\n"
     ]
    }
   ],
   "source": [
    "a= np.array([2500,2400,2600])\n",
    "print(stable_softmax(a))"
   ]
  },
  {
   "cell_type": "code",
   "execution_count": 9,
   "metadata": {},
   "outputs": [
    {
     "name": "stdout",
     "output_type": "stream",
     "text": [
      "[0.04201007 0.1141952  0.84379473]\n"
     ]
    }
   ],
   "source": [
    "a= np.array([2501,2502,2504])\n",
    "print(stable_softmax(a))"
   ]
  },
  {
   "cell_type": "code",
   "execution_count": 10,
   "metadata": {},
   "outputs": [],
   "source": [
    "import urllib.request\n",
    "import gzip\n",
    "import numpy as np\n",
    "import pandas as pd\n",
    "import pickle"
   ]
  },
  {
   "cell_type": "code",
   "execution_count": 17,
   "metadata": {},
   "outputs": [],
   "source": [
    "url_base='http://jrkwon.com/data/ece5831/mnist/'"
   ]
  },
  {
   "cell_type": "code",
   "execution_count": 13,
   "metadata": {},
   "outputs": [],
   "source": [
    "key_file = {\n",
    "    'train_images': 'train-images-idx3-ubyte.gz',\n",
    "    'train_labels': 'train-labels-idx1-ubyte.gz',\n",
    "    'test_images':  't10k-images-idx3-ubyte.gz',\n",
    "    'test_labels':  't10k-labels-idx1-ubyte.gz'\n",
    "}"
   ]
  },
  {
   "cell_type": "code",
   "execution_count": 14,
   "metadata": {},
   "outputs": [
    {
     "data": {
      "text/plain": [
       "'c:\\\\Users\\\\manoj\\\\OneDrive\\\\Desktop\\\\Pattern_Recognition_and_NN\\\\ece5831-2024-assignments\\\\05'"
      ]
     },
     "execution_count": 14,
     "metadata": {},
     "output_type": "execute_result"
    }
   ],
   "source": [
    "pwd"
   ]
  },
  {
   "cell_type": "code",
   "execution_count": 15,
   "metadata": {},
   "outputs": [],
   "source": [
    "image_size = 28*28\n",
    "dataset_dir = 'dataset'\n",
    "dataset_pkl = 'mnist.pkl'"
   ]
  },
  {
   "cell_type": "code",
   "execution_count": 18,
   "metadata": {},
   "outputs": [],
   "source": [
    "file_name=key_file['train_images']\n",
    "file_path=url_base+ file_name"
   ]
  },
  {
   "cell_type": "code",
   "execution_count": 19,
   "metadata": {},
   "outputs": [
    {
     "data": {
      "text/plain": [
       "('dataset/train-images-idx3-ubyte.gz',\n",
       " <http.client.HTTPMessage at 0x1cdffbf2290>)"
      ]
     },
     "execution_count": 19,
     "metadata": {},
     "output_type": "execute_result"
    }
   ],
   "source": [
    "opener= urllib.request.build_opener()\n",
    "opener.addheaders = [('Accept','')]\n",
    "urllib.request.install_opener(opener)\n",
    "urllib.request.urlretrieve(file_path,dataset_dir +'/' +file_name )"
   ]
  },
  {
   "cell_type": "code",
   "execution_count": 20,
   "metadata": {},
   "outputs": [],
   "source": [
    "import os \n",
    "def _download(file_name):\n",
    "    file_path = dataset_dir + '/' + file_name\n",
    "\n",
    "    if (os.path.exists(file_path)):\n",
    "        print(f'File: {file_name} already exists.')\n",
    "        return\n",
    "    \n",
    "    print(f'Downloading {file_name}...')\n",
    "\n",
    "    # to resolve 406 Not Acceptable error\n",
    "    opener = urllib.request.build_opener()\n",
    "    opener.addheaders = [('Accept', '')]\n",
    "    urllib.request.install_opener(opener)\n",
    "\n",
    "    urllib.request.urlretrieve(url_base + file_name, file_path)\n",
    "    print('Done')"
   ]
  },
  {
   "cell_type": "code",
   "execution_count": 21,
   "metadata": {},
   "outputs": [
    {
     "name": "stdout",
     "output_type": "stream",
     "text": [
      "File: train-images-idx3-ubyte.gz already exists.\n"
     ]
    }
   ],
   "source": [
    "_download(key_file['train_images'])"
   ]
  },
  {
   "cell_type": "code",
   "execution_count": 22,
   "metadata": {},
   "outputs": [],
   "source": [
    "def download_all():\n",
    "    for filename in key_file.values():\n",
    "        _download(filename)\n"
   ]
  },
  {
   "cell_type": "code",
   "execution_count": 23,
   "metadata": {},
   "outputs": [
    {
     "name": "stdout",
     "output_type": "stream",
     "text": [
      "File: train-images-idx3-ubyte.gz already exists.\n",
      "File: train-labels-idx1-ubyte.gz already exists.\n",
      "File: t10k-images-idx3-ubyte.gz already exists.\n",
      "File: t10k-labels-idx1-ubyte.gz already exists.\n"
     ]
    }
   ],
   "source": [
    "download_all()"
   ]
  },
  {
   "cell_type": "code",
   "execution_count": 24,
   "metadata": {},
   "outputs": [],
   "source": [
    "def _load_image(file_name):\n",
    "    with gzip.open(file_name,'rb') as f:\n",
    "        images = np.frombuffer(f.read(),np.int8, offset=16)\n",
    "    images = images.reshape(-1,image_size)\n",
    "    \n",
    "    return images"
   ]
  },
  {
   "cell_type": "code",
   "execution_count": 25,
   "metadata": {},
   "outputs": [],
   "source": [
    "images = _load_image(dataset_dir + '/' + key_file['test_images'])"
   ]
  },
  {
   "cell_type": "code",
   "execution_count": 26,
   "metadata": {},
   "outputs": [
    {
     "data": {
      "text/plain": [
       "(10000, 784)"
      ]
     },
     "execution_count": 26,
     "metadata": {},
     "output_type": "execute_result"
    }
   ],
   "source": [
    "images.shape"
   ]
  },
  {
   "cell_type": "code",
   "execution_count": 27,
   "metadata": {},
   "outputs": [
    {
     "data": {
      "text/plain": [
       "<matplotlib.image.AxesImage at 0x1cd943575d0>"
      ]
     },
     "execution_count": 27,
     "metadata": {},
     "output_type": "execute_result"
    },
    {
     "data": {
      "image/png": "[encoded data removed]",
      "text/plain": [
       "<Figure size 640x480 with 1 Axes>"
      ]
     },
     "metadata": {},
     "output_type": "display_data"
    }
   ],
   "source": [
    "import matplotlib.pyplot as plt\n",
    "idx=1001\n",
    "a= images[1001].reshape(28,28)\n",
    "plt.imshow(a)"
   ]
  },
  {
   "cell_type": "code",
   "execution_count": 28,
   "metadata": {},
   "outputs": [],
   "source": [
    "def _load_labels(file_name):\n",
    "    print(file_name)\n",
    "    with gzip.open(file_name, 'rb') as f:\n",
    "        labels = np.frombuffer(f.read(),np.int8, offset=8)\n",
    "    \n",
    "    return labels"
   ]
  },
  {
   "cell_type": "code",
   "execution_count": 29,
   "metadata": {},
   "outputs": [
    {
     "name": "stdout",
     "output_type": "stream",
     "text": [
      "dataset/t10k-labels-idx1-ubyte.gz\n"
     ]
    }
   ],
   "source": [
    "labels= _load_labels(f\"{dataset_dir}/{key_file['test_labels']}\")"
   ]
  },
  {
   "cell_type": "code",
   "execution_count": 30,
   "metadata": {},
   "outputs": [],
   "source": [
    "labels[idx]\n",
    "dataset_pkl = 'mnist.pkl'\n"
   ]
  },
  {
   "cell_type": "code",
   "execution_count": 31,
   "metadata": {},
   "outputs": [],
   "source": [
    "def _create_dataset():\n",
    "    dataset = {}\n",
    "    dataset['train_images']= _load_image(f\"{dataset_dir}/{key_file['train_images']}\")\n",
    "    dataset['test_images'] = _load_image(f\"{dataset_dir}/{key_file['test_images']}\")\n",
    "    dataset['train_labels'] = _load_labels(f\"{dataset_dir}/{key_file['train_labels']}\")\n",
    "    dataset['test_labels'] = _load_labels(f\"{dataset_dir}/{key_file['test_labels']}\")\n",
    "    \n",
    "    with open(f'{dataset_dir}/{dataset_pkl}','wb') as f:\n",
    "        print('fPickle: {dataset_dir}/{dataset_pkl} is created')\n",
    "        pickle.dump(dataset, f)\n",
    "        print('Done')\n",
    "    return dataset"
   ]
  },
  {
   "cell_type": "code",
   "execution_count": 32,
   "metadata": {},
   "outputs": [
    {
     "name": "stdout",
     "output_type": "stream",
     "text": [
      "dataset/train-labels-idx1-ubyte.gz\n",
      "dataset/t10k-labels-idx1-ubyte.gz\n",
      "fPickle: {dataset_dir}/{dataset_pkl} is created\n",
      "Done\n"
     ]
    }
   ],
   "source": [
    "dataset = _create_dataset()"
   ]
  },
  {
   "cell_type": "code",
   "execution_count": 33,
   "metadata": {},
   "outputs": [],
   "source": [
    "import pickle\n",
    "with open('dataset/mnist.pkl','rb') as file:\n",
    "    dataset = pickle.load(file)"
   ]
  },
  {
   "cell_type": "code",
   "execution_count": 34,
   "metadata": {},
   "outputs": [
    {
     "data": {
      "text/plain": [
       "<matplotlib.image.AxesImage at 0x1cd9655d750>"
      ]
     },
     "execution_count": 34,
     "metadata": {},
     "output_type": "execute_result"
    },
    {
     "data": {
      "image/png": "[encoded data removed]",
      "text/plain": [
       "<Figure size 640x480 with 1 Axes>"
      ]
     },
     "metadata": {},
     "output_type": "display_data"
    }
   ],
   "source": [
    "plt.imshow(dataset['test_images'][idx].reshape(28,28))"
   ]
  },
  {
   "cell_type": "code",
   "execution_count": 37,
   "metadata": {},
   "outputs": [],
   "source": [
    "def _change_one_hot_label(y , num_class):\n",
    "    t = np.zeros((y.size, num_class))\n",
    "    for idx, row in enumerate(t):\n",
    "        row[y[idx]] = 1\n",
    "    return t"
   ]
  },
  {
   "cell_type": "code",
   "execution_count": 38,
   "metadata": {},
   "outputs": [],
   "source": [
    "y = np.array([1,0,9,8])\n",
    "one_hot_y = _change_one_hot_label(y,10)"
   ]
  },
  {
   "cell_type": "code",
   "execution_count": 40,
   "metadata": {},
   "outputs": [],
   "source": [
    "class MnistData():\n",
    "\n",
    "    image_dim = (28, 28)\n",
    "    image_size = image_dim[0]*image_dim[1]\n",
    "    dataset_dir = 'dataset'\n",
    "    dataset_pkl = 'mnist.pkl'\n",
    "    url_base = 'http://jrkwon.com/data/ece5831/mnist/' # 'https://yann.lecun.com/exdb/mnist/'\n",
    "\n",
    "    key_file = {\n",
    "        'train_images': 'train-images-idx3-ubyte.gz',\n",
    "        'train_labels': 'train-labels-idx1-ubyte.gz',\n",
    "        'test_images':  't10k-images-idx3-ubyte.gz',\n",
    "        'test_labels':  't10k-labels-idx1-ubyte.gz'\n",
    "    }\n",
    "\n",
    "    def __init__(self):\n",
    "        self.dataset = {}\n",
    "        self.dataset_pkl_path = f'{self.dataset_dir}/{self.dataset_pkl}'\n",
    "\n",
    "        # create dataset_dir if the dir doesn't exist\n",
    "        if os.path.exists(self.dataset_dir) is not True:\n",
    "            os.mkdir(self.dataset_dir)\n",
    "\n",
    "        self._init_dataset()\n",
    "\n",
    "\n",
    "    def _change_one_hot_label(self, y, num_class):\n",
    "        t = np.zeros((y.size, num_class))\n",
    "        for idx, row in enumerate(t):\n",
    "            row[y[idx]] = 1\n",
    "        \n",
    "        return t\n",
    "\n",
    "\n",
    "    def _download(self, file_name):\n",
    "        file_path = self.dataset_dir + '/' + file_name\n",
    "\n",
    "        if (os.path.exists(file_path)):\n",
    "            print(f'File: {file_name} already exists.')\n",
    "            return\n",
    "        \n",
    "        print(f'Downloading {file_name}...')\n",
    "\n",
    "        # to resolve 406 Not Acceptable error\n",
    "        opener = urllib.request.build_opener()\n",
    "        opener.addheaders = [('Accept', '')]\n",
    "        urllib.request.install_opener(opener)\n",
    "\n",
    "        urllib.request.urlretrieve(self.url_base + file_name, file_path)\n",
    "        print('Done')\n",
    "\n",
    "\n",
    "    def _download_all(self):\n",
    "        for file_name in self.key_file.values():\n",
    "            self._download(file_name)\n",
    "\n",
    "    \n",
    "    def _load_images(self, file_name):\n",
    "        with gzip.open(file_name, 'rb') as f:\n",
    "            images = np.frombuffer(f.read(), np.uint8, offset=16)\n",
    "        images = images.reshape(-1, self.image_size)\n",
    "\n",
    "        return images\n",
    "    \n",
    "\n",
    "    def _load_labels(self, file_name):\n",
    "        with gzip.open(file_name, 'rb') as f:\n",
    "            labels = np.frombuffer(f.read(), np.uint8, offset=8)\n",
    "\n",
    "        return labels\n",
    "    \n",
    "\n",
    "    def _create_dataset(self):\n",
    "        file_name = f\"{self.dataset_dir}/{self.key_file['train_images']}\"\n",
    "        self.dataset['train_images'] = self._load_images(file_name)\n",
    "\n",
    "        file_name = f\"{self.dataset_dir}/{self.key_file['train_labels']}\"\n",
    "        self.dataset['train_labels'] = self._load_labels(file_name)\n",
    "\n",
    "        file_name = f\"{self.dataset_dir}/{self.key_file['test_images']}\"\n",
    "        self.dataset['test_images']  = self._load_images(file_name)\n",
    "\n",
    "        file_name = f\"{self.dataset_dir}/{self.key_file['test_labels']}\"\n",
    "        self.dataset['test_labels']  = self._load_labels(file_name)\n",
    "\n",
    "        with open(f'{self.dataset_pkl_path}', 'wb') as f:\n",
    "            print(f'Pickle: {self.dataset_pkl_path} is being created.')\n",
    "            pickle.dump(self.dataset, f)\n",
    "            print('Done.') \n",
    "\n",
    "\n",
    "    def _init_dataset(self):\n",
    "        self._download_all()\n",
    "        if os.path.exists(f'{self.dataset_pkl_path}'):\n",
    "            with open(f'{self.dataset_pkl_path}', 'rb') as f:\n",
    "                print(f'Pickle: {self.dataset_pkl_path} already exists.')\n",
    "                print('Loading...')\n",
    "                self.dataset = pickle.load(f)\n",
    "                print('Done.')\n",
    "        else:\n",
    "            self._create_dataset()\n",
    "\n",
    "\n",
    "    def load(self):\n",
    "        # normalize image datasets\n",
    "        for key in ('train_images', 'test_images'):\n",
    "            self.dataset[key] = self.dataset[key].astype(np.float32)\n",
    "            self.dataset[key] /= 255.0\n",
    "\n",
    "        # one-hot encoding\n",
    "        for key in ('train_labels', 'test_labels'):\n",
    "            self.dataset[key] = self._change_one_hot_label(self.dataset[key], 10)\n",
    "\n",
    "        return (self.dataset['train_images'], self.dataset['train_labels']), \\\n",
    "                (self.dataset['test_images'], self.dataset['test_labels'])"
   ]
  },
  {
   "cell_type": "code",
   "execution_count": 41,
   "metadata": {},
   "outputs": [
    {
     "name": "stdout",
     "output_type": "stream",
     "text": [
      "File: train-images-idx3-ubyte.gz already exists.\n",
      "File: train-labels-idx1-ubyte.gz already exists.\n",
      "File: t10k-images-idx3-ubyte.gz already exists.\n",
      "File: t10k-labels-idx1-ubyte.gz already exists.\n",
      "Pickle: dataset/mnist.pkl already exists.\n",
      "Loading...\n",
      "Done.\n"
     ]
    }
   ],
   "source": [
    "mnist_data = MnistData()\n",
    "(_, _), (test_images, test_labels) = mnist_data.load()"
   ]
  },
  {
   "cell_type": "code",
   "execution_count": 42,
   "metadata": {},
   "outputs": [
    {
     "name": "stdout",
     "output_type": "stream",
     "text": [
      "File: train-images-idx3-ubyte.gz already exists.\n",
      "File: train-labels-idx1-ubyte.gz already exists.\n",
      "File: t10k-images-idx3-ubyte.gz already exists.\n",
      "File: t10k-labels-idx1-ubyte.gz already exists.\n",
      "Pickle: dataset/mnist.pkl already exists.\n",
      "Loading...\n",
      "Done.\n"
     ]
    }
   ],
   "source": [
    "mnist_data = MnistData()\n",
    "(_, _), (test_images, test_labels) = mnist_data.load()"
   ]
  },
  {
   "cell_type": "code",
   "execution_count": 43,
   "metadata": {},
   "outputs": [
    {
     "data": {
      "text/plain": [
       "(10000, 784)"
      ]
     },
     "execution_count": 43,
     "metadata": {},
     "output_type": "execute_result"
    }
   ],
   "source": [
    "test_images.shape"
   ]
  },
  {
   "cell_type": "code",
   "execution_count": 44,
   "metadata": {},
   "outputs": [],
   "source": [
    "labels = mnist_data.dataset['test_labels']"
   ]
  },
  {
   "cell_type": "code",
   "execution_count": 45,
   "metadata": {},
   "outputs": [
    {
     "data": {
      "text/plain": [
       "(10000, 10)"
      ]
     },
     "execution_count": 45,
     "metadata": {},
     "output_type": "execute_result"
    }
   ],
   "source": [
    "# Note that the labels are not one-hot-encoded.\n",
    "labels.shape"
   ]
  },
  {
   "cell_type": "code",
   "execution_count": 47,
   "metadata": {},
   "outputs": [
    {
     "name": "stdout",
     "output_type": "stream",
     "text": [
      "Label (one-hot): [[1. 0. 0. 0. 0. 0. 0. 0. 0. 0.]]\n",
      "Label: 0\n"
     ]
    },
    {
     "data": {
      "text/plain": [
       "<matplotlib.image.AxesImage at 0x1cd99594210>"
      ]
     },
     "execution_count": 47,
     "metadata": {},
     "output_type": "execute_result"
    },
    {
     "data": {
      "image/png": "[encoded data removed]",
      "text/plain": [
       "<Figure size 640x480 with 1 Axes>"
      ]
     },
     "metadata": {},
     "output_type": "display_data"
    }
   ],
   "source": [
    "idx = np.random.randint(test_images.shape[0], size=1)\n",
    "print(f'Label (one-hot): {test_labels[idx]}')\n",
    "print(f'Label: {np.argmax(test_labels[idx])}')\n",
    "plt.imshow(test_images[idx].reshape(28,28))"
   ]
  },
  {
   "cell_type": "code",
   "execution_count": null,
   "metadata": {},
   "outputs": [],
   "source": []
  }
 ],
 "metadata": {
  "kernelspec": {
   "display_name": "teachable",
   "language": "python",
   "name": "python3"
  },
  "language_info": {
   "codemirror_mode": {
    "name": "ipython",
    "version": 3
   },
   "file_extension": ".py",
   "mimetype": "text/x-python",
   "name": "python",
   "nbconvert_exporter": "python",
   "pygments_lexer": "ipython3",
   "version": "3.11.7"
  }
 },
 "nbformat": 4,
 "nbformat_minor": 2
}
